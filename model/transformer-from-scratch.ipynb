{
 "cells": [
  {
   "cell_type": "code",
   "execution_count": null,
   "id": "e491dc58",
   "metadata": {
    "execution": {
     "iopub.execute_input": "2023-03-11T21:15:41.750311Z",
     "iopub.status.busy": "2023-03-11T21:15:41.749655Z",
     "iopub.status.idle": "2023-03-11T21:15:48.333591Z",
     "shell.execute_reply": "2023-03-11T21:15:48.332497Z"
    },
    "papermill": {
     "duration": 6.595399,
     "end_time": "2023-03-11T21:15:48.336261",
     "exception": false,
     "start_time": "2023-03-11T21:15:41.740862",
     "status": "completed"
    },
    "tags": []
   },
   "outputs": [],
   "source": [
    "import os\n",
    "import datetime\n",
    "import pickle\n",
    "import pandas as pd\n",
    "import random\n",
    "import matplotlib.pyplot as plt\n",
    "import tensorflow as tf\n",
    "import string\n",
    "import re\n",
    "import numpy as np"
   ]
  },
  {
   "cell_type": "code",
   "execution_count": 2,
   "id": "7a29abd3",
   "metadata": {
    "execution": {
     "iopub.execute_input": "2023-03-11T21:15:48.353919Z",
     "iopub.status.busy": "2023-03-11T21:15:48.353342Z",
     "iopub.status.idle": "2023-03-11T21:15:48.539046Z",
     "shell.execute_reply": "2023-03-11T21:15:48.537975Z"
    },
    "papermill": {
     "duration": 0.197258,
     "end_time": "2023-03-11T21:15:48.541669",
     "exception": false,
     "start_time": "2023-03-11T21:15:48.344411",
     "status": "completed"
    },
    "tags": []
   },
   "outputs": [
    {
     "name": "stdout",
     "output_type": "stream",
     "text": [
      "Tensor Flow Version: 2.15.0\n",
      "\n",
      "GPU is AVAILABLE\n"
     ]
    },
    {
     "name": "stderr",
     "output_type": "stream",
     "text": [
      "2024-01-24 13:55:49.244834: I external/local_xla/xla/stream_executor/cuda/cuda_executor.cc:901] successful NUMA node read from SysFS had negative value (-1), but there must be at least one NUMA node, so returning NUMA node zero. See more at https://github.com/torvalds/linux/blob/v6.0/Documentation/ABI/testing/sysfs-bus-pci#L344-L355\n",
      "2024-01-24 13:55:49.663831: I external/local_xla/xla/stream_executor/cuda/cuda_executor.cc:901] successful NUMA node read from SysFS had negative value (-1), but there must be at least one NUMA node, so returning NUMA node zero. See more at https://github.com/torvalds/linux/blob/v6.0/Documentation/ABI/testing/sysfs-bus-pci#L344-L355\n",
      "2024-01-24 13:55:49.664396: I external/local_xla/xla/stream_executor/cuda/cuda_executor.cc:901] successful NUMA node read from SysFS had negative value (-1), but there must be at least one NUMA node, so returning NUMA node zero. See more at https://github.com/torvalds/linux/blob/v6.0/Documentation/ABI/testing/sysfs-bus-pci#L344-L355\n"
     ]
    }
   ],
   "source": [
    "print(f\"Tensor Flow Version: {tf.__version__}\")\n",
    "print()\n",
    "gpu = len(tf.config.list_physical_devices('GPU'))>0\n",
    "print(\"GPU is\", \"AVAILABLE\" if gpu else \"NOT AVAILABLE\")"
   ]
  },
  {
   "cell_type": "code",
   "execution_count": 3,
   "id": "2fcd4a01",
   "metadata": {},
   "outputs": [],
   "source": [
    "max_tokens = 100_000\n",
    "sequence_length = 40"
   ]
  },
  {
   "cell_type": "markdown",
   "id": "68f9ec5f",
   "metadata": {
    "papermill": {
     "duration": 0.007735,
     "end_time": "2023-03-11T21:15:48.557506",
     "exception": false,
     "start_time": "2023-03-11T21:15:48.549771",
     "status": "completed"
    },
    "tags": []
   },
   "source": [
    "# Preparing the data"
   ]
  },
  {
   "cell_type": "code",
   "execution_count": 4,
   "id": "85ddef18",
   "metadata": {
    "execution": {
     "iopub.execute_input": "2023-03-11T21:15:48.590891Z",
     "iopub.status.busy": "2023-03-11T21:15:48.589444Z",
     "iopub.status.idle": "2023-03-11T21:15:49.100476Z",
     "shell.execute_reply": "2023-03-11T21:15:49.099058Z"
    },
    "papermill": {
     "duration": 0.522132,
     "end_time": "2023-03-11T21:15:49.102834",
     "exception": false,
     "start_time": "2023-03-11T21:15:48.580702",
     "status": "completed"
    },
    "tags": []
   },
   "outputs": [
    {
     "data": {
      "text/html": [
       "<div>\n",
       "<style scoped>\n",
       "    .dataframe tbody tr th:only-of-type {\n",
       "        vertical-align: middle;\n",
       "    }\n",
       "\n",
       "    .dataframe tbody tr th {\n",
       "        vertical-align: top;\n",
       "    }\n",
       "\n",
       "    .dataframe thead th {\n",
       "        text-align: right;\n",
       "    }\n",
       "</style>\n",
       "<table border=\"1\" class=\"dataframe\">\n",
       "  <thead>\n",
       "    <tr style=\"text-align: right;\">\n",
       "      <th></th>\n",
       "      <th>source</th>\n",
       "      <th>target</th>\n",
       "    </tr>\n",
       "  </thead>\n",
       "  <tbody>\n",
       "    <tr>\n",
       "      <th>2487407</th>\n",
       "      <td>Ochrona webcasterów musiała znaleźć się w oddz...</td>\n",
       "      <td>[start] The protection of webcasters had to be...</td>\n",
       "    </tr>\n",
       "    <tr>\n",
       "      <th>4976975</th>\n",
       "      <td>Różnica polega na narzutach:</td>\n",
       "      <td>[start] The difference lies in the contraints ...</td>\n",
       "    </tr>\n",
       "    <tr>\n",
       "      <th>3092955</th>\n",
       "      <td>11 września 2007 r. Przemówienia - premier Har...</td>\n",
       "      <td>[start] 11 September 2007 Speeches - Prime Min...</td>\n",
       "    </tr>\n",
       "    <tr>\n",
       "      <th>4125108</th>\n",
       "      <td>American Journal of Orthopsychiatry, 64, 545- ...</td>\n",
       "      <td>[start] American Journal of Orthopsychiatry, 6...</td>\n",
       "    </tr>\n",
       "    <tr>\n",
       "      <th>3862928</th>\n",
       "      <td>Zapewniał badania, analizy i doradztwo wspiera...</td>\n",
       "      <td>[start] Provided research, analysis, and advic...</td>\n",
       "    </tr>\n",
       "  </tbody>\n",
       "</table>\n",
       "</div>"
      ],
      "text/plain": [
       "                                                    source  \\\n",
       "2487407  Ochrona webcasterów musiała znaleźć się w oddz...   \n",
       "4976975                       Różnica polega na narzutach:   \n",
       "3092955  11 września 2007 r. Przemówienia - premier Har...   \n",
       "4125108  American Journal of Orthopsychiatry, 64, 545- ...   \n",
       "3862928  Zapewniał badania, analizy i doradztwo wspiera...   \n",
       "\n",
       "                                                    target  \n",
       "2487407  [start] The protection of webcasters had to be...  \n",
       "4976975  [start] The difference lies in the contraints ...  \n",
       "3092955  [start] 11 September 2007 Speeches - Prime Min...  \n",
       "4125108  [start] American Journal of Orthopsychiatry, 6...  \n",
       "3862928  [start] Provided research, analysis, and advic...  "
      ]
     },
     "execution_count": 4,
     "metadata": {},
     "output_type": "execute_result"
    }
   ],
   "source": [
    "file_path = '../data/en-pl.csv'\n",
    "df = pd.read_csv(file_path)\n",
    "df['source'] = df['pl']\n",
    "df['target'] = df['en'].apply(lambda x: '[start] ' + x + ' [end]')\n",
    "df = df.drop(['pl', 'en'], axis=1)\n",
    "\n",
    "df.sample(5)"
   ]
  },
  {
   "cell_type": "code",
   "execution_count": 5,
   "id": "9b31d06e",
   "metadata": {
    "execution": {
     "iopub.execute_input": "2023-03-11T21:15:49.139118Z",
     "iopub.status.busy": "2023-03-11T21:15:49.137517Z",
     "iopub.status.idle": "2023-03-11T21:15:49.324222Z",
     "shell.execute_reply": "2023-03-11T21:15:49.320248Z"
    },
    "papermill": {
     "duration": 0.199592,
     "end_time": "2023-03-11T21:15:49.327853",
     "exception": false,
     "start_time": "2023-03-11T21:15:49.128261",
     "status": "completed"
    },
    "tags": []
   },
   "outputs": [
    {
     "data": {
      "image/png": "[encoded data removed]",
      "text/plain": [
       "<Figure size 640x480 with 1 Axes>"
      ]
     },
     "metadata": {},
     "output_type": "display_data"
    }
   ],
   "source": [
    "# shuffle the data\n",
    "df = df.sample(frac=1, random_state=0).reset_index(drop=True)\n",
    "\n",
    "# split the data\n",
    "train_size = int(len(df) * 0.95)\n",
    "val_size = int(len(df) * 0.025)\n",
    "test_size = int(len(df) * 0.025)\n",
    "\n",
    "train_df = df[:train_size]\n",
    "val_df = df[train_size:train_size+val_size]\n",
    "test_df = df[train_size+val_size:]\n",
    "\n",
    "# display the data sets\n",
    "labels = 'Train', 'Validation', 'Test'\n",
    "sizes = [len(train_df), len(val_df), len(test_df)]\n",
    "explode = (0.1, 0, 0)\n",
    "fig1, ax1 = plt.subplots()\n",
    "ax1.pie(sizes, explode=explode, labels=labels, autopct='%1.1f%%', shadow=True, startangle=90)\n",
    "ax1.axis('equal')\n",
    "plt.show()\n"
   ]
  },
  {
   "cell_type": "code",
   "execution_count": 7,
   "id": "7a3a2e8e",
   "metadata": {},
   "outputs": [],
   "source": [
    "# define a custom standardization function that convert to lowercase and strips all punctuations except \"[\" and \"]\" (so we can tell apart \"start\" from \"[start]\").\n",
    "strip_chars = string.punctuation\n",
    "strip_chars = strip_chars.replace(\"[\", \"\")\n",
    "strip_chars = strip_chars.replace(\"]\", \"\")\n",
    " \n",
    "def custom_standardization(input_string):\n",
    "    lowercase = tf.strings.lower(input_string)\n",
    "    return tf.strings.regex_replace(\n",
    "        lowercase, f\"[{re.escape(strip_chars)}]\", \"\")"
   ]
  },
  {
   "cell_type": "code",
   "execution_count": 8,
   "id": "fa29ac95",
   "metadata": {
    "execution": {
     "iopub.execute_input": "2023-03-11T21:15:49.417259Z",
     "iopub.status.busy": "2023-03-11T21:15:49.416961Z",
     "iopub.status.idle": "2023-03-11T21:16:10.211774Z",
     "shell.execute_reply": "2023-03-11T21:16:10.210723Z"
    },
    "papermill": {
     "duration": 20.806875,
     "end_time": "2023-03-11T21:16:10.214442",
     "exception": false,
     "start_time": "2023-03-11T21:15:49.407567",
     "status": "completed"
    },
    "tags": []
   },
   "outputs": [
    {
     "name": "stderr",
     "output_type": "stream",
     "text": [
      "2024-01-24 09:41:49.034691: I external/local_xla/xla/stream_executor/cuda/cuda_executor.cc:901] successful NUMA node read from SysFS had negative value (-1), but there must be at least one NUMA node, so returning NUMA node zero. See more at https://github.com/torvalds/linux/blob/v6.0/Documentation/ABI/testing/sysfs-bus-pci#L344-L355\n",
      "2024-01-24 09:41:49.035227: I external/local_xla/xla/stream_executor/cuda/cuda_executor.cc:901] successful NUMA node read from SysFS had negative value (-1), but there must be at least one NUMA node, so returning NUMA node zero. See more at https://github.com/torvalds/linux/blob/v6.0/Documentation/ABI/testing/sysfs-bus-pci#L344-L355\n",
      "2024-01-24 09:41:49.035354: I external/local_xla/xla/stream_executor/cuda/cuda_executor.cc:901] successful NUMA node read from SysFS had negative value (-1), but there must be at least one NUMA node, so returning NUMA node zero. See more at https://github.com/torvalds/linux/blob/v6.0/Documentation/ABI/testing/sysfs-bus-pci#L344-L355\n",
      "2024-01-24 09:41:50.199536: I external/local_xla/xla/stream_executor/cuda/cuda_executor.cc:901] successful NUMA node read from SysFS had negative value (-1), but there must be at least one NUMA node, so returning NUMA node zero. See more at https://github.com/torvalds/linux/blob/v6.0/Documentation/ABI/testing/sysfs-bus-pci#L344-L355\n",
      "2024-01-24 09:41:50.199720: I external/local_xla/xla/stream_executor/cuda/cuda_executor.cc:901] successful NUMA node read from SysFS had negative value (-1), but there must be at least one NUMA node, so returning NUMA node zero. See more at https://github.com/torvalds/linux/blob/v6.0/Documentation/ABI/testing/sysfs-bus-pci#L344-L355\n",
      "2024-01-24 09:41:50.199818: I external/local_xla/xla/stream_executor/cuda/cuda_executor.cc:901] successful NUMA node read from SysFS had negative value (-1), but there must be at least one NUMA node, so returning NUMA node zero. See more at https://github.com/torvalds/linux/blob/v6.0/Documentation/ABI/testing/sysfs-bus-pci#L344-L355\n",
      "2024-01-24 09:41:50.199922: I tensorflow/core/common_runtime/gpu/gpu_device.cc:1929] Created device /job:localhost/replica:0/task:0/device:GPU:0 with 14226 MB memory:  -> device: 0, name: NVIDIA GeForce RTX 3080 Laptop GPU, pci bus id: 0000:01:00.0, compute capability: 8.6\n"
     ]
    }
   ],
   "source": [
    "# tokenize the data using our custom standardization function\n",
    "source_vectorization = tf.keras.layers.TextVectorization(\n",
    "    max_tokens=max_tokens,\n",
    "    output_mode=\"int\",\n",
    "    output_sequence_length=sequence_length,\n",
    ")\n",
    "target_vectorization = tf.keras.layers.TextVectorization(\n",
    "    max_tokens=max_tokens,\n",
    "    output_mode=\"int\",\n",
    "    output_sequence_length=sequence_length + 1, # add +1 token to our target sentences since they'll be shifted right by 1 during training\n",
    "    standardize=custom_standardization,\n",
    ")\n",
    "\n",
    "# index all tokens in the source and target sentences\n",
    "train_source_texts = train_df['source'].values\n",
    "train_target_texts = train_df['target'].values"
   ]
  },
  {
   "cell_type": "code",
   "execution_count": 9,
   "id": "cf1408b5",
   "metadata": {},
   "outputs": [],
   "source": [
    "source_vectorization.adapt(train_source_texts)"
   ]
  },
  {
   "cell_type": "code",
   "execution_count": 12,
   "id": "cb7ec89f",
   "metadata": {},
   "outputs": [],
   "source": [
    "target_vectorization.adapt(train_target_texts)"
   ]
  },
  {
   "cell_type": "code",
   "execution_count": 13,
   "id": "816d336c",
   "metadata": {},
   "outputs": [],
   "source": [
    "def save_text_vectorization(text_vec, path):\n",
    "    standardize = text_vec._standardize\n",
    "    text_vec._standardize = None\n",
    "    pickle.dump({\n",
    "        'config': text_vec.get_config(),\n",
    "        'weights': text_vec.get_weights()\n",
    "        }, open(path, \"wb\")\n",
    "    )\n",
    "    text_vec._standardize = standardize"
   ]
  },
  {
   "cell_type": "code",
   "execution_count": 8,
   "id": "ff57e902",
   "metadata": {},
   "outputs": [],
   "source": [
    "def load_text_vectorization(path, standardize=None):\n",
    "    from_disk = pickle.load(open(path, \"rb\"))\n",
    "    new_v = tf.keras.layers.TextVectorization.from_config(from_disk['config'])\n",
    "    if standardize:\n",
    "        new_v._standardize = standardize\n",
    "    new_v.adapt(tf.data.Dataset.from_tensor_slices([\"xyz\"]))\n",
    "    new_v.set_weights(from_disk['weights'])\n",
    "    return new_v"
   ]
  },
  {
   "cell_type": "code",
   "execution_count": 14,
   "id": "6b4d3faf",
   "metadata": {},
   "outputs": [],
   "source": [
    "save_text_vectorization(source_vectorization, '../checkpoints/source_vec.pkl')"
   ]
  },
  {
   "cell_type": "code",
   "execution_count": 15,
   "id": "aab02ec4",
   "metadata": {},
   "outputs": [],
   "source": [
    "save_text_vectorization(target_vectorization, '../checkpoints/target_vec.pkl')"
   ]
  },
  {
   "cell_type": "code",
   "execution_count": 9,
   "id": "bd324b29",
   "metadata": {},
   "outputs": [
    {
     "name": "stderr",
     "output_type": "stream",
     "text": [
      "2024-01-24 13:57:34.917653: I external/local_xla/xla/stream_executor/cuda/cuda_executor.cc:901] successful NUMA node read from SysFS had negative value (-1), but there must be at least one NUMA node, so returning NUMA node zero. See more at https://github.com/torvalds/linux/blob/v6.0/Documentation/ABI/testing/sysfs-bus-pci#L344-L355\n",
      "2024-01-24 13:57:34.918641: I external/local_xla/xla/stream_executor/cuda/cuda_executor.cc:901] successful NUMA node read from SysFS had negative value (-1), but there must be at least one NUMA node, so returning NUMA node zero. See more at https://github.com/torvalds/linux/blob/v6.0/Documentation/ABI/testing/sysfs-bus-pci#L344-L355\n",
      "2024-01-24 13:57:34.926489: I external/local_xla/xla/stream_executor/cuda/cuda_executor.cc:901] successful NUMA node read from SysFS had negative value (-1), but there must be at least one NUMA node, so returning NUMA node zero. See more at https://github.com/torvalds/linux/blob/v6.0/Documentation/ABI/testing/sysfs-bus-pci#L344-L355\n",
      "2024-01-24 13:57:37.078651: I external/local_xla/xla/stream_executor/cuda/cuda_executor.cc:901] successful NUMA node read from SysFS had negative value (-1), but there must be at least one NUMA node, so returning NUMA node zero. See more at https://github.com/torvalds/linux/blob/v6.0/Documentation/ABI/testing/sysfs-bus-pci#L344-L355\n",
      "2024-01-24 13:57:37.079066: I external/local_xla/xla/stream_executor/cuda/cuda_executor.cc:901] successful NUMA node read from SysFS had negative value (-1), but there must be at least one NUMA node, so returning NUMA node zero. See more at https://github.com/torvalds/linux/blob/v6.0/Documentation/ABI/testing/sysfs-bus-pci#L344-L355\n",
      "2024-01-24 13:57:37.079209: I external/local_xla/xla/stream_executor/cuda/cuda_executor.cc:901] successful NUMA node read from SysFS had negative value (-1), but there must be at least one NUMA node, so returning NUMA node zero. See more at https://github.com/torvalds/linux/blob/v6.0/Documentation/ABI/testing/sysfs-bus-pci#L344-L355\n",
      "2024-01-24 13:57:37.079361: I tensorflow/core/common_runtime/gpu/gpu_device.cc:1929] Created device /job:localhost/replica:0/task:0/device:GPU:0 with 14226 MB memory:  -> device: 0, name: NVIDIA GeForce RTX 3080 Laptop GPU, pci bus id: 0000:01:00.0, compute capability: 8.6\n"
     ]
    }
   ],
   "source": [
    "source_vectorization = load_text_vectorization('../checkpoints/source_vec.pkl')"
   ]
  },
  {
   "cell_type": "code",
   "execution_count": 10,
   "id": "0b3c7d3d",
   "metadata": {},
   "outputs": [],
   "source": [
    "target_vectorization = load_text_vectorization('../checkpoints/target_vec.pkl', custom_standardization)"
   ]
  },
  {
   "cell_type": "code",
   "execution_count": 12,
   "id": "2489cab4",
   "metadata": {
    "execution": {
     "iopub.execute_input": "2023-03-11T21:16:14.226341Z",
     "iopub.status.busy": "2023-03-11T21:16:14.225469Z",
     "iopub.status.idle": "2023-03-11T21:16:14.235651Z",
     "shell.execute_reply": "2023-03-11T21:16:14.234365Z"
    },
    "papermill": {
     "duration": 0.024289,
     "end_time": "2023-03-11T21:16:14.237957",
     "exception": false,
     "start_time": "2023-03-11T21:16:14.213668",
     "status": "completed"
    },
    "tags": []
   },
   "outputs": [],
   "source": [
    "class PositionalEmbedding(tf.keras.layers.Layer):\n",
    "    def __init__(self, sequence_length, input_dim, output_dim, **kwargs):\n",
    "        super().__init__(**kwargs)\n",
    "        self.token_embeddings = tf.keras.layers.Embedding(input_dim=input_dim, output_dim=output_dim) # token embedding layer\n",
    "        self.position_embeddings = tf.keras.layers.Embedding(input_dim=sequence_length, output_dim=output_dim) # position embedding layer\n",
    "        self.sequence_length = sequence_length\n",
    "        self.input_dim = input_dim\n",
    "        self.output_dim = output_dim\n",
    "\n",
    "    def call(self, inputs):\n",
    "        embedded_tokens = self.token_embeddings(inputs) # embed the tokens\n",
    "        length = tf.shape(inputs)[-1]\n",
    "        positions = tf.range(start=0, limit=length, delta=1) # create the positional information\n",
    "        embedded_positions = self.position_embeddings(positions) # embed the positions \n",
    "        return embedded_tokens + embedded_positions # add the token and position embeddings to create the positional embeddings\n",
    "\n",
    "    def compute_mask(self, inputs, mask=None):\n",
    "        return tf.math.not_equal(inputs, 0)\n",
    "\n",
    "    def get_config(self):\n",
    "        config = super(PositionalEmbedding, self).get_config()\n",
    "        config.update({\n",
    "            \"input_dim\": self.input_dim,\n",
    "            \"output_dim\": self.output_dim,\n",
    "            \"sequence_length\": self.sequence_length,\n",
    "        })\n",
    "        return config"
   ]
  },
  {
   "cell_type": "code",
   "execution_count": 13,
   "id": "6603854e",
   "metadata": {
    "execution": {
     "iopub.execute_input": "2023-03-11T21:16:14.540900Z",
     "iopub.status.busy": "2023-03-11T21:16:14.540100Z",
     "iopub.status.idle": "2023-03-11T21:16:14.548405Z",
     "shell.execute_reply": "2023-03-11T21:16:14.547426Z"
    },
    "papermill": {
     "duration": 0.020436,
     "end_time": "2023-03-11T21:16:14.550520",
     "exception": false,
     "start_time": "2023-03-11T21:16:14.530084",
     "status": "completed"
    },
    "tags": []
   },
   "outputs": [],
   "source": [
    "# credits to OpenAI for that one (https://github.com/openai/gpt-2/blob/master/src/model.py)\n",
    "\n",
    "def shape_list(x):\n",
    "    \"\"\"Deal with dynamic shape in tensorflow cleanly.\"\"\"\n",
    "    static = x.shape.as_list()\n",
    "    dynamic = tf.shape(x)\n",
    "    return [dynamic[i] if s is None else s for i, s in enumerate(static)]\n",
    "\n",
    "def attention_mask(nd, ns, *, dtype):\n",
    "    \"\"\"1's in the lower triangle, counting from the lower right corner.\n",
    "    Same as tf.matrix_band_part(tf.ones([nd, ns]), -1, ns-nd), but doesn't produce garbage on TPUs.\n",
    "    \"\"\"\n",
    "    i = tf.range(nd)[:,None]\n",
    "    j = tf.range(ns)\n",
    "    m = i >= j - ns + nd\n",
    "    return tf.cast(m, dtype)\n",
    "\n",
    "def mask_attn_weights(w):\n",
    "    # w has shape [batch, heads, dst_sequence, src_sequence], where information flows from src to dst.\n",
    "    _, _, nd, ns = shape_list(w)\n",
    "    b = attention_mask(nd, ns, dtype=w.dtype)\n",
    "    b = tf.reshape(b, [1, 1, nd, ns])\n",
    "    w = w*b - tf.cast(1e10, w.dtype)*(1-b)\n",
    "    return w"
   ]
  },
  {
   "cell_type": "code",
   "execution_count": 14,
   "id": "914b9e51",
   "metadata": {
    "execution": {
     "iopub.execute_input": "2023-03-11T21:16:14.654544Z",
     "iopub.status.busy": "2023-03-11T21:16:14.653760Z",
     "iopub.status.idle": "2023-03-11T21:16:14.659883Z",
     "shell.execute_reply": "2023-03-11T21:16:14.658961Z"
    },
    "papermill": {
     "duration": 0.01822,
     "end_time": "2023-03-11T21:16:14.661905",
     "exception": false,
     "start_time": "2023-03-11T21:16:14.643685",
     "status": "completed"
    },
    "tags": []
   },
   "outputs": [],
   "source": [
    "def scaled_dot_product_attention(q, k, v, use_causal_mask=False):\n",
    "    d_k = tf.cast(tf.shape(k)[-1], tf.float32)\n",
    "    scores = tf.matmul(q, k, transpose_b=True) # Matmul of Q and K\n",
    "    scaled_scores = scores / tf.math.sqrt(d_k) # Scale\n",
    "    if use_causal_mask:\n",
    "        scaled_scores = mask_attn_weights(scaled_scores) # Mask (opt.)\n",
    "    weights = tf.nn.softmax(scaled_scores, axis=-1) # SoftMax\n",
    "    output = tf.matmul(weights, v) # Matmul of SoftMax and V\n",
    "    return output"
   ]
  },
  {
   "cell_type": "code",
   "execution_count": 15,
   "id": "1bb3ca80",
   "metadata": {
    "execution": {
     "iopub.execute_input": "2023-03-11T21:16:16.368012Z",
     "iopub.status.busy": "2023-03-11T21:16:16.367718Z",
     "iopub.status.idle": "2023-03-11T21:16:16.379572Z",
     "shell.execute_reply": "2023-03-11T21:16:16.378577Z"
    },
    "papermill": {
     "duration": 0.024366,
     "end_time": "2023-03-11T21:16:16.381708",
     "exception": false,
     "start_time": "2023-03-11T21:16:16.357342",
     "status": "completed"
    },
    "tags": []
   },
   "outputs": [],
   "source": [
    "class MultiAttention(tf.keras.layers.Layer):\n",
    "    def __init__(self, embed_dim, h, **kwargs):\n",
    "        super().__init__(**kwargs)\n",
    "        self.embed_dim = embed_dim\n",
    "        self.h = h\n",
    "        if embed_dim % h != 0:\n",
    "            raise ValueError(\n",
    "                f\"dimension of the embedding space = {embed_dim} should be divisible by number of heads = {h}\"\n",
    "            )\n",
    "        self.q_linear = tf.keras.layers.Dense(embed_dim)\n",
    "        self.k_linear = tf.keras.layers.Dense(embed_dim)\n",
    "        self.v_linear = tf.keras.layers.Dense(embed_dim)\n",
    "        self.concat_linear = tf.keras.layers.Dense(embed_dim)\n",
    "\n",
    "    def split_heads(self, x, batch_size):\n",
    "        x = tf.reshape(x, shape=(batch_size, -1, self.h, self.embed_dim // self.h))\n",
    "        return tf.transpose(x, perm=[0, 2, 1, 3])\n",
    "    \n",
    "    def concat_heads(self, x, batch_size):\n",
    "        x = tf.transpose(x, perm=[0, 2, 1, 3])\n",
    "        return tf.reshape(x, (batch_size, -1, self.embed_dim))\n",
    "\n",
    "    def call(self, q, k, v, use_causal_mask=False):\n",
    "        batch_size = tf.shape(k)[0]\n",
    "        q = self.q_linear(q)\n",
    "        k = self.k_linear(k)\n",
    "        v = self.v_linear(v)\n",
    "        q = self.split_heads(q, batch_size)\n",
    "        k = self.split_heads(k, batch_size)\n",
    "        v = self.split_heads(v, batch_size)\n",
    "        attention = scaled_dot_product_attention(q, k, v, use_causal_mask)\n",
    "        concat = self.concat_heads(attention, batch_size)\n",
    "        concat = self.concat_linear(concat)\n",
    "        return concat\n",
    "\n",
    "    def get_config(self):\n",
    "        config = super(MultiAttention, self).get_config()\n",
    "        config.update({\n",
    "            \"embed_dim\": self.embed_dim,\n",
    "            \"h\": self.h,\n",
    "        })\n",
    "        return config"
   ]
  },
  {
   "cell_type": "code",
   "execution_count": 16,
   "id": "3f513888",
   "metadata": {
    "execution": {
     "iopub.execute_input": "2023-03-11T21:16:16.439695Z",
     "iopub.status.busy": "2023-03-11T21:16:16.439419Z",
     "iopub.status.idle": "2023-03-11T21:16:16.450488Z",
     "shell.execute_reply": "2023-03-11T21:16:16.449472Z"
    },
    "papermill": {
     "duration": 0.023479,
     "end_time": "2023-03-11T21:16:16.452570",
     "exception": false,
     "start_time": "2023-03-11T21:16:16.429091",
     "status": "completed"
    },
    "tags": []
   },
   "outputs": [],
   "source": [
    "class TransformerEncoderBlock(tf.keras.layers.Layer):\n",
    "    def __init__(self, embed_dim, dense_dim, num_heads, **kwargs):\n",
    "        super().__init__(**kwargs)\n",
    "        self.embed_dim = embed_dim\n",
    "        self.dense_dim = dense_dim\n",
    "        self.num_heads = num_heads\n",
    "        self.layer_norm_1 = tf.keras.layers.LayerNormalization(epsilon=1e-7)\n",
    "        self.layer_norm_2 = tf.keras.layers.LayerNormalization(epsilon=1e-7)\n",
    "        self.global_self_attention = MultiAttention(embed_dim=embed_dim, h=num_heads)\n",
    "        self.feed_forward = tf.keras.Sequential(\n",
    "            [tf.keras.layers.Dense(dense_dim, activation=\"relu\"),\n",
    "             tf.keras.layers.Dense(embed_dim),]\n",
    "        )\n",
    "        \n",
    "    def call(self, x):\n",
    "        # Post layer normalization + residual connections\n",
    "        x = self.layer_norm_1(x + self.global_self_attention(q=x, k=x, v=x))\n",
    "        x = self.layer_norm_2(x + self.feed_forward(x))\n",
    "        return x\n",
    "\n",
    "    def get_config(self):\n",
    "        config = super().get_config()\n",
    "        config.update({\n",
    "            \"embed_dim\": self.embed_dim,\n",
    "            \"dense_dim\": self.dense_dim,\n",
    "            \"num_heads\": self.num_heads,\n",
    "        })\n",
    "        return config"
   ]
  },
  {
   "cell_type": "code",
   "execution_count": 17,
   "id": "efd857c3",
   "metadata": {
    "execution": {
     "iopub.execute_input": "2023-03-11T21:16:16.511448Z",
     "iopub.status.busy": "2023-03-11T21:16:16.510675Z",
     "iopub.status.idle": "2023-03-11T21:16:16.521790Z",
     "shell.execute_reply": "2023-03-11T21:16:16.520904Z"
    },
    "papermill": {
     "duration": 0.023884,
     "end_time": "2023-03-11T21:16:16.523763",
     "exception": false,
     "start_time": "2023-03-11T21:16:16.499879",
     "status": "completed"
    },
    "tags": []
   },
   "outputs": [],
   "source": [
    "class TransformerDecoderBlock(tf.keras.layers.Layer):\n",
    "    def __init__(self, embed_dim, dense_dim, num_heads, **kwargs):\n",
    "        super().__init__(**kwargs)\n",
    "        self.embed_dim = embed_dim\n",
    "        self.dense_dim = dense_dim\n",
    "        self.num_heads = num_heads\n",
    "        self.causal_self_attention = MultiAttention(embed_dim=embed_dim, h=num_heads)\n",
    "        self.cross_attention = MultiAttention(embed_dim=embed_dim, h=num_heads)\n",
    "        self.feed_forward = tf.keras.Sequential(\n",
    "            [tf.keras.layers.Dense(dense_dim, activation=\"relu\"),\n",
    "             tf.keras.layers.Dense(embed_dim),]\n",
    "        )\n",
    "        self.layer_norm_1 = tf.keras.layers.LayerNormalization(epsilon=1e-7)\n",
    "        self.layer_norm_2 = tf.keras.layers.LayerNormalization(epsilon=1e-7)\n",
    "        self.layer_norm_3 = tf.keras.layers.LayerNormalization(epsilon=1e-7)\n",
    "\n",
    "    def get_config(self):\n",
    "        config = super().get_config()\n",
    "        config.update({\n",
    "            \"embed_dim\": self.embed_dim,\n",
    "            \"dense_dim\": self.dense_dim,\n",
    "            \"num_heads\": self.num_heads,\n",
    "        })\n",
    "        return config\n",
    "\n",
    "    def call(self, x, context):\n",
    "        # Post layer normalization + residual connections\n",
    "        x = self.layer_norm_1(x + self.causal_self_attention(q=x, k=x, v=x, use_causal_mask=True))\n",
    "        x = self.layer_norm_2(x + self.cross_attention(q=x, k=context, v=context))\n",
    "        x = self.layer_norm_3(x + self.feed_forward(x))\n",
    "        return x"
   ]
  },
  {
   "cell_type": "code",
   "execution_count": 18,
   "id": "88f2c895",
   "metadata": {},
   "outputs": [],
   "source": [
    "class TransformerEncoder(tf.keras.layers.Layer):\n",
    "    def __init__(self, embed_dim, dense_dim, num_heads, num_layers):\n",
    "        super(TransformerEncoder, self).__init__()\n",
    "        self.transformer_encoders = [TransformerEncoderBlock(embed_dim, dense_dim, num_heads) for _ in range(num_layers)]\n",
    "\n",
    "    def call(self, x):\n",
    "        for encoder in self.transformer_encoders:\n",
    "            x = encoder(x)\n",
    "        return x"
   ]
  },
  {
   "cell_type": "code",
   "execution_count": 19,
   "id": "369eca69",
   "metadata": {},
   "outputs": [],
   "source": [
    "class TransformerDecoder(tf.keras.layers.Layer):\n",
    "    def __init__(self, embed_dim, dense_dim, num_heads, num_layers):\n",
    "        super(TransformerDecoder, self).__init__()\n",
    "        self.transformer_decoders = [TransformerDecoderBlock(embed_dim, dense_dim, num_heads) for _ in range(num_layers)]\n",
    "\n",
    "    def call(self, x, context):\n",
    "        for encoder in self.transformer_decoders:\n",
    "            x = encoder(x, context)\n",
    "        return x"
   ]
  },
  {
   "cell_type": "code",
   "execution_count": 20,
   "id": "f8832e68",
   "metadata": {},
   "outputs": [],
   "source": [
    "class TransformerModel(tf.keras.Model):\n",
    "    def __init__(self, sequence_length, max_tokens, embed_dim, dense_dim, num_heads, encoder_layers, decoder_layers):\n",
    "        super(TransformerModel, self).__init__()\n",
    "\n",
    "        self.encoder_embedding = PositionalEmbedding(sequence_length, max_tokens, embed_dim)\n",
    "        self.decoder_embedding = PositionalEmbedding(sequence_length, max_tokens, embed_dim)\n",
    "        \n",
    "        self.encoder = TransformerEncoder(embed_dim, dense_dim, num_heads, encoder_layers)\n",
    "        self.decoder = TransformerDecoder(embed_dim, dense_dim, num_heads, decoder_layers)\n",
    "        \n",
    "        # Transformer head\n",
    "        self.dropout = tf.keras.layers.Dropout(0.5)\n",
    "        self.dense = tf.keras.layers.Dense(max_tokens, activation=\"softmax\")\n",
    "\n",
    "    def call(self, inputs, training=False):\n",
    "        encoder_inputs = inputs['source']\n",
    "        decoder_inputs = inputs['target']\n",
    "        \n",
    "        encoder_embedding = self.encoder_embedding(encoder_inputs)\n",
    "        decoder_embedding = self.decoder_embedding(decoder_inputs)\n",
    "        \n",
    "        encoder_outputs = self.encoder(encoder_embedding)\n",
    "        decoder_outputs = self.decoder(decoder_embedding, encoder_outputs)\n",
    "\n",
    "        x = self.dropout(decoder_outputs, training=training)\n",
    "        x = self.dense(x)\n",
    "        return x"
   ]
  },
  {
   "cell_type": "code",
   "execution_count": 21,
   "id": "f5bae0d9",
   "metadata": {},
   "outputs": [],
   "source": [
    "embed_dim = 256\n",
    "dense_dim = 4 * embed_dim\n",
    "num_heads = 8\n",
    "encoder_layers = 4\n",
    "decoder_layers = 4"
   ]
  },
  {
   "cell_type": "code",
   "execution_count": 22,
   "id": "69b0ea60",
   "metadata": {},
   "outputs": [],
   "source": [
    "transformer = TransformerModel(sequence_length, max_tokens, embed_dim, dense_dim, num_heads, encoder_layers, decoder_layers)"
   ]
  },
  {
   "cell_type": "code",
   "execution_count": 23,
   "id": "755c3aef",
   "metadata": {},
   "outputs": [],
   "source": [
    "def format_dataset(source, target):\n",
    "    source_vectors = source_vectorization(source)\n",
    "    target_vectors = target_vectorization(target)\n",
    "    return ({\n",
    "        \"source\": source_vectors, # encoder_inputs\n",
    "        \"target\": target_vectors[:, :-1], # decoder_inputs (truncate by 1 to keep it at the same length as decoder_outputs, which is shifted right by 1).\n",
    "    }, target_vectors[:, 1:]) # decoder_outputs\n",
    "\n",
    "def make_dataset(df, batch_size):\n",
    "    dataset = tf.data.Dataset.from_tensor_slices((df[\"source\"].values, df[\"target\"].values))\n",
    "    dataset = dataset.batch(batch_size)\n",
    "    dataset = dataset.map(format_dataset, num_parallel_calls=4)\n",
    "    return dataset.shuffle(100_000).prefetch(16).cache()\n",
    "\n",
    "batch_size = 180\n",
    "train_ds = make_dataset(train_df, batch_size)\n",
    "val_ds = make_dataset(val_df, batch_size)"
   ]
  },
  {
   "cell_type": "code",
   "execution_count": 24,
   "id": "7258262b",
   "metadata": {},
   "outputs": [],
   "source": [
    "transformer.compile(\n",
    "    optimizer=\"rmsprop\",\n",
    "    loss=\"sparse_categorical_crossentropy\",\n",
    "    metrics=[\"accuracy\"])"
   ]
  },
  {
   "cell_type": "code",
   "execution_count": 25,
   "id": "e059938e",
   "metadata": {
    "execution": {
     "iopub.execute_input": "2023-03-11T21:16:19.648313Z",
     "iopub.status.busy": "2023-03-11T21:16:19.647850Z",
     "iopub.status.idle": "2023-03-11T22:49:33.526355Z",
     "shell.execute_reply": "2023-03-11T22:49:33.525131Z"
    },
    "papermill": {
     "duration": 5596.689391,
     "end_time": "2023-03-11T22:49:36.321627",
     "exception": false,
     "start_time": "2023-03-11T21:16:19.632236",
     "status": "completed"
    },
    "tags": []
   },
   "outputs": [],
   "source": [
    "callbacks_list = [\n",
    "    tf.keras.callbacks.ReduceLROnPlateau(\n",
    "        monitor='val_loss',\n",
    "        factor=0.1,\n",
    "        patience=3,\n",
    "    ),\n",
    "    tf.keras.callbacks.EarlyStopping(\n",
    "        monitor='val_loss',\n",
    "        patience=10,\n",
    "    ),\n",
    "    tf.keras.callbacks.ModelCheckpoint(\n",
    "        filepath='../checkpoints/best/',\n",
    "        save_weights_only=True,\n",
    "        monitor='val_loss',\n",
    "        mode='min',\n",
    "        save_best_only=True\n",
    "    ),\n",
    "    tf.keras.callbacks.ModelCheckpoint(\n",
    "        filepath='../checkpoints/last/',\n",
    "        save_weights_only=True,\n",
    "        save_best_only=False,\n",
    "        save_freq=1000\n",
    "    )\n",
    "]"
   ]
  },
  {
   "cell_type": "code",
   "execution_count": 26,
   "id": "abe00aea",
   "metadata": {},
   "outputs": [
    {
     "name": "stdout",
     "output_type": "stream",
     "text": [
      "Epoch 1/10000\n"
     ]
    },
    {
     "name": "stderr",
     "output_type": "stream",
     "text": [
      "2024-01-24 13:59:27.258545: I tensorflow/core/kernels/data/shuffle_dataset_op.cc:422] ShuffleDatasetV3:7: Filling up shuffle buffer (this may take a while): 17323 of 100000\n",
      "2024-01-24 13:59:35.595980: I tensorflow/core/kernels/data/shuffle_dataset_op.cc:452] Shuffle buffer filled.\n",
      "2024-01-24 13:59:40.156786: I external/local_xla/xla/service/service.cc:168] XLA service 0x7f88e4021dc0 initialized for platform CUDA (this does not guarantee that XLA will be used). Devices:\n",
      "2024-01-24 13:59:40.156885: I external/local_xla/xla/service/service.cc:176]   StreamExecutor device (0): NVIDIA GeForce RTX 3080 Laptop GPU, Compute Capability 8.6\n",
      "2024-01-24 13:59:40.178088: I tensorflow/compiler/mlir/tensorflow/utils/dump_mlir_util.cc:269] disabling MLIR crash reproducer, set env var `MLIR_CRASH_REPRODUCER_DIRECTORY` to enable.\n",
      "2024-01-24 13:59:40.730761: I external/local_xla/xla/stream_executor/cuda/cuda_dnn.cc:454] Loaded cuDNN version 8904\n",
      "WARNING: All log messages before absl::InitializeLog() is called are written to STDERR\n",
      "I0000 00:00:1706101180.806070  100667 device_compiler.h:186] Compiled cluster using XLA!  This line is logged at most once for the lifetime of the process.\n"
     ]
    },
    {
     "name": "stdout",
     "output_type": "stream",
     "text": [
      "22901/29661 [======================>.......] - ETA: 1:02:34 - loss: 4.3253 - accuracy: 0.4450"
     ]
    }
   ],
   "source": [
    "transformer.fit(train_ds, \n",
    "                epochs=10000, \n",
    "                callbacks=callbacks_list,\n",
    "                validation_data=val_ds)"
   ]
  },
  {
   "cell_type": "code",
   "execution_count": null,
   "id": "b12f62d8",
   "metadata": {},
   "outputs": [],
   "source": [
    "transformer.save('../checkpoints/full_model/')"
   ]
  },
  {
   "cell_type": "code",
   "execution_count": 70,
   "id": "6342f011",
   "metadata": {},
   "outputs": [],
   "source": [
    "transformer = tf.keras.models.load_model('../checkpoints/model/')"
   ]
  },
  {
   "cell_type": "markdown",
   "id": "ea6ae7fd",
   "metadata": {
    "papermill": {
     "duration": 2.824481,
     "end_time": "2023-03-11T22:49:42.234058",
     "exception": false,
     "start_time": "2023-03-11T22:49:39.409577",
     "status": "completed"
    },
    "tags": []
   },
   "source": [
    "# Testing"
   ]
  },
  {
   "cell_type": "code",
   "execution_count": 37,
   "id": "04caed60",
   "metadata": {},
   "outputs": [
    {
     "data": {
      "text/plain": [
       "'[start] i go tomorrow to a movie [UNK] [end]'"
      ]
     },
     "execution_count": 37,
     "metadata": {},
     "output_type": "execute_result"
    }
   ],
   "source": [
    "decode_sequence('Idę jutro do kina na film o ptakach')"
   ]
  },
  {
   "cell_type": "code",
   "execution_count": 39,
   "id": "393914b1",
   "metadata": {},
   "outputs": [
    {
     "data": {
      "text/plain": [
       "'[start] translation is working very [UNK] [end]'"
      ]
     },
     "execution_count": 39,
     "metadata": {},
     "output_type": "execute_result"
    }
   ],
   "source": [
    "decode_sequence('Tłumaczenie działa bardzo fajnie')"
   ]
  },
  {
   "cell_type": "code",
   "execution_count": 38,
   "id": "0e7a4264",
   "metadata": {
    "execution": {
     "iopub.execute_input": "2023-03-11T22:49:53.787024Z",
     "iopub.status.busy": "2023-03-11T22:49:53.786670Z",
     "iopub.status.idle": "2023-03-11T22:50:13.522173Z",
     "shell.execute_reply": "2023-03-11T22:50:13.520854Z"
    },
    "papermill": {
     "duration": 22.5185,
     "end_time": "2023-03-11T22:50:13.524481",
     "exception": false,
     "start_time": "2023-03-11T22:49:51.005981",
     "status": "completed"
    },
    "tags": []
   },
   "outputs": [
    {
     "name": "stdout",
     "output_type": "stream",
     "text": [
      "Przestrzeń wolności szersza koncepcja wolności Szersza koncepcja wolności zawarta w traktacie z Amsterdamu ma na celu nadanie upustu * wolności: znaczenia wykraczającego poza swobodny przepływ osób przez granice wewnętrzne.\n",
      "[start] area of freedom broader concept of freedom a broader concept of freedom in the treaty of [UNK] is designed to give [UNK] freedom of meaning to [UNK] beyond the free\n",
      "\n",
      "• Brak informacji (kod NI w OWNERS)\n",
      "[start] • lack of information code ni in [UNK] [end]\n",
      "\n",
      "Wygląd fizyczny Płeć Mężczyzna Rank Ocdt Baza Esquimalt Element Armii\n",
      "[start] physical appearance gender male [UNK] [UNK] [UNK] element element of the army [end]\n",
      "\n",
      "(Wykres organizacyjny projektu) Załącznik II:\n",
      "[start] project organizational chart appendix ii [end]\n",
      "\n",
      "Biuro Międzynarodowe stwierdziło, że zamiast \"kraju\" lub \"terytorium\" użyto słów \"państwa członkowskie\", tak jak we wspólnym zaleceniu w sprawie znakowanych znaków towarowych, a w przyszłości można je zmienić na \"Umawiającą się Stronę\", jeżeli SCT podejmie decyzję o przyjęciu tych przepisów w formie traktatu.\n",
      "[start] the international bureau stated that instead of a country or territory of [UNK] the words member states as in the common recommendation on the [UNK] of marks and in the\n",
      "\n",
      "Cele Kanady zostały opracowane po szeroko zakrojonych dwuletnich konsultacjach z rządami prowincji oraz całym sektorem rolnym i spożywczym.\n",
      "[start] canada’s objectives were developed after extensive [UNK] consultations with provincial governments and the entire agriculture and agrifood sector [end]\n",
      "\n",
      "Sześć jasnych dni po zatwierdzeniu wyników (tj. siódmego dnia, o ile nie dokonano ponownego przeliczenia), powracający oficer wypełnia formularz wydrukowany na odwrocie pisma, znany jako \"powrót pisma\" - oficjalne oświadczenie wyboru kandydata, który uzyskał największą liczbę głosów.\n",
      "[start] six clear days after approval of the results ie [UNK] of the day unless no [UNK] is made the returning officer shall complete the form printed on the [UNK] of\n",
      "\n",
      "Wielu pracodawców szuka kandydatów, którzy znają się na komputerze.\n",
      "[start] many employers look for candidates who know on a computer [end]\n",
      "\n",
      "17 posiadaczy licencji morskich otrzyma 1,230t, a obecna przybrzeżna flota krewetek otrzyma 11,070t tego wzrostu.\n",
      "[start] 17 marine licence holders will receive [UNK] and the current inshore shrimp fleet will receive the [UNK] of this increase [end]\n",
      "\n",
      "Więcej informacji o Vision 2010 można znaleźć na stronie www.tc.gc.ca / roadsafety / vision / 2010 / en / menu.htm Lotnictwo cywilne, lot 2005 Wdrożenie planu lotu 2005: Ramy bezpieczeństwa lotnictwa cywilnego dla Kanady przyniosły dwa kluczowe sukcesy: dalszą poprawę wysokiego poziomu bezpieczeństwa lotniczego w Kanadzie oraz wysoki poziom zaufania społeczeństwa do naszego programu lotnictwa cywilnego.\n",
      "[start] for more information about vision 2010 please visit [UNK] [UNK] vision 2010 en [UNK] [UNK] civil flight 2005 implementation of the 2005 flight plan the civil aviation safety framework for\n",
      "\n",
      "Ocena bada również niezamierzone wyniki.\n",
      "[start] the evaluation also explores unintended results [end]\n",
      "\n",
      "Pomoc techniczna w zakresie pomocy technicznej jest kolejnym ważnym instrumentem MFW służącym wspieraniu państw członkowskich.\n",
      "[start] technical assistance in technical assistance is another important instrument of the imf to support member states [end]\n",
      "\n",
      "W WT / WGTI / W / 108 rozesłano uwagę sekretariatu na ten temat.\n",
      "[start] in [UNK] i had made the attention of the secretariat on this subject [end]\n",
      "\n",
      "Kopalnia TAP zapewni studentom modernizację wymaganą do pisania egzaminów wstępnych dla zawodów i szkoleń, które są specyficzne dla przemysłu górniczego, jak również kursów na temat bezpieczeństwa, pierwszej pomocy, towarów niebezpiecznych, pracy zmianowej rotacji i pracy w odległych obszarach.\n",
      "[start] [UNK] will provide students with the modernization required to write preliminary examinations for occupations and training that are specific to the [UNK] industry as well as courses on the safety\n",
      "\n",
      "Jednocześnie chcieli podziękować dyrektorowi generalnemu i Sekretariatowi za przygotowanie prac.\n",
      "[start] at the same time they wanted to thank the director general and the secretariat for preparing the work [end]\n",
      "\n",
      "Adresy Internetu\n",
      "[start] internet addresses [end]\n",
      "\n",
      "Nasze cele w zakresie ekologicznych zamówień publicznych na lata 2008-2009 przyczynią się do osiągnięcia celów środowiskowych poprzez:\n",
      "[start] our ecological procurement objectives for 200809 will contribute to the achievement of environmental objectives by [end]\n",
      "\n",
      "Uważamy jednak, że pytania te powinny być przedmiotem dalszych rozważań i konsultacji ze strony ICANN w celu znalezienia odpowiedniego rozwiązania, zwłaszcza przed wprowadzeniem jakichkolwiek nowych gTLD, które mogłyby łączyć istniejące problemy.\n",
      "[start] however we believe that these questions should be subject to further consideration and consultations on the part of the [UNK] to find an appropriate solution especially before any new [UNK]\n",
      "\n",
      "Nie ma wątpliwości, że nasz system opieki zdrowotnej kosztuje.\n",
      "[start] there is no doubt that our health care system costs [end]\n",
      "\n",
      "\"Politycznie, to sprawa o wysokim profilu, dlatego wszyscy wskoczyli na pokład.\n",
      "[start] politically is a high profile matter therefore all of you have on deck [end]\n",
      "\n",
      "Zauważono, że linie lotnicze miały opcje, ale zdecydowały się nie korzystać z nich.\n",
      "[start] it was noted that airlines had options but they would not have been [UNK] to use them [end]\n",
      "\n",
      "Whole Foods Market - drugi co do wielkości sprzedawca żywności naturalnej w Stanach Zjednoczonych, z siedzibą w Austin, Texas - doświadczył 21% wzrostu sprzedaży w 2001 roku, blisko 3,6 miliarda dolarów.\n",
      "[start] whole foods market the second largest natural food vendor in the united states based at austin texas experienced 21 per cent increase in sales in 2001 close to 36 billion\n",
      "\n",
      "Oficjalna polityka językowa, dyrektywy i zarządzenia.\n",
      "[start] official languages policy directives and orders [end]\n",
      "\n",
      "Pomiary przeprowadzono w taki sposób, aby można było określić kąt otwarcia pary.\n",
      "[start] measurements were carried out in such a way that the [UNK] opening of the vapour could be determined [end]\n",
      "\n",
      "W 1992 r. Kanadyjska Rada Ministrów Środowiska (CCME) opublikowała krajowy plan działania na rzecz odzysku, recyklingu i regeneracji chlorofluorowęglowodorów.\n",
      "[start] in 1992 the canadian council of ministers of the environment [UNK] published a national action plan for recovery recycling and [UNK] [end]\n",
      "\n",
      "Fakt, że działalność organu może również przynosić korzyści swoim członkom, nie stanowi fatalnego sprzeciwu wobec uznania ich za przynoszące korzyści opinii publicznej.\n",
      "[start] the fact that the activities of the body may also benefit its members does not constitute an objection to the discretion of them as a [UNK] of the benefit of\n",
      "\n",
      "Począwszy od grudnia 2004 r., stosunek personelu / zastosowań międzynarodowych uwzględnia usługę tłumaczeń PCT.\n",
      "[start] starting in december 2004 the staff relationship of international applications takes into account the pct translation service [end]\n",
      "\n",
      "Została ona zapisana w prawie kanadyjskim jako prawo konstytucyjne i chroniona w statucie federalnym i prowincjonalnym.\n",
      "[start] it has been [UNK] in canadian law as a constitutional and protected right in federal and provincial statutes [end]\n",
      "\n",
      "Kemunto mówi, że chociaż jej firma przynosi wystarczająco dużo pieniędzy, aby wyżywić ją i jej syna, nadal bierze udział w pracy grupy, ponieważ ostatecznie ubóstwo czyni wszystkie kobiety równymi.\n",
      "[start] [UNK] says while her company brings enough money to [UNK] it and her [UNK] continues to take part in the work of the group because ultimately poverty makes all women\n",
      "\n",
      "Tematy te są odzwierciedleniem ważnego miejsca, w którym łowiska rekreacyjne zajmują się tkanką gospodarczą i społeczną kraju.\n",
      "[start] these themes reflect an important place where recreational fisheries are involved in the countrys economic and social [UNK] [end]\n",
      "\n",
      "Promowanie kanadyjskiej kultury i wartości Rząd zainwestuje w środki mające na celu wzmocnienie i promowanie kanadyjskiej kultury i wartości, w tym:\n",
      "[start] promoting canadian culture and values the government has invested in measures to strengthen and promote canadian culture and values including [end]\n",
      "\n",
      "Przywożone produkty żywnościowe nie zawsze są poddawane kontroli w miejscu wprowadzenia, ale podlegają w dowolnym momencie pobieraniu próbek przez właściwe organy, zarówno na poziomie detalicznym, jak i hurtowym oraz w punkcie wejścia.\n",
      "[start] imported food products are not always subject to control at the place of entry but are subject to sampling at any time by competent authorities at both the retail and\n",
      "\n",
      "Źródłem tego zainteresowania był pierwszy Congrès Mondial Acadien.\n",
      "[start] the [UNK] of this concern was the first congrès mondial acadien [end]\n",
      "\n",
      "Innymi słowy, wniosek jest wypełniany, gdy:\n",
      "[start] in other words the application is [UNK] when [end]\n",
      "\n",
      "Być może największą potrzebą są Indie, które już produkują mniej energii elektrycznej niż zużywa.\n",
      "[start] perhaps the largest need is india that already produces less electricity than [UNK] [end]\n",
      "\n",
      "SCP / 10 / 11 Załącznik, str. 6 FÉDÉRATION DE RUSSIE / RUSSIAN FEDERATION Nikolay BOGDANOV, zastępca dyrektora generalnego, Rosyjska Agencja Patentów i Znaków Towarowych (ROSPATENT), Moskwa < nik _ bog @ rambler.ru > Evgeny POLISHCHUK, Consultant, Federalny Instytut Własności Przemysłowej, Rosyjska Agencja Patentów i Znaków Towarowych (ROSPATENT), Moskwa < epoli @ pol.ru > FINLANDIA / FINLANDIA Marjo AALTO- SETÄLÄ (Pani), Koordynator, Sprawy Międzynarodowe, Krajowa Rada Patentów i Rejestracji, Helsinki < marjo.aalto- setala @ prh.fi > Riitta LARJA (Pani), Koordynator, Sprawy Międzynarodowe i Prawne, Krajowa Rada Patentów i Rejestracji, Helsinki < riitta.larja @ prh.fi > FRANCE Pascal DUMAS DE RAULY, chef, Service du droit international, Institut national de la propriété industrielle (INPI), Paris < pdumasderauly @ inpi.fr > Jean- François LEBESNERAIS, chargé de mission, Département des brevets, Institut national de la propriété industrielle (INPI), Paris < jlebesnerais @ inpi.fr > Michèle WELL- GUTHMANN (Mme), conseillère juridique, Mission permanente, Genève < mission.france @ ties.itu.int > GRÈCE / GRECJA Myrto LAMBROU (Pani), Advisor Advisor, Industrial Property Organization (OBI), Athens < mlab @ obi.gr >\n",
      "[start] [UNK] annex page 6 [UNK] de [UNK] [UNK] federation [UNK] [UNK] deputy director general russian agency for patents and trademarks [UNK] [UNK] [UNK] [UNK] [UNK] [UNK] [UNK] [UNK] [UNK] [UNK]\n",
      "\n",
      "• Na światowym rynku, reklama, która została utworzona dla rynków USA lub UE może stać się nieodpowiednia, jeśli kanadyjskie standardy przekraczają \"międzynarodowe\" standardy.\n",
      "[start] • in the world market advertising which has been created for us or eu markets may become [UNK] if canadian standards exceed international standards [end]\n",
      "\n",
      "Definicje Gospodarstwo domowe Gospodarstwo domowe składa się ze wszystkich ludzi, którzy mieszkają w tym samym miejscu zamieszkania.\n",
      "[start] definitions household a household is comprised of all people who live in the same residence [end]\n",
      "\n",
      "Strona kwestionująca arbitra wysyła do Centrum, Sądu i drugiej strony zawiadomienie, podając powody odwołania, w terminie siedmiu dni od powiadomienia o powołaniu arbitra lub po zapoznaniu się z okolicznościami, które uważa za uzasadnione wątpliwości co do bezstronności lub niezależności arbitra.\n",
      "[start] the [UNK] party shall send notice to the center of the court and the other party to the tribunal by giving reasons for the appeal within seven days of notification\n",
      "\n",
      "• Pomoc techniczna na rzecz rozwoju wody w gospodarstwie rolnym;\n",
      "[start] • technical assistance for onfarm water development [end]\n",
      "\n",
      "Informacje zawarte w niniejszym sprawozdaniu przeznaczone są dla wielu zainteresowanych stron w celu zapewnienia przejrzystości i odpowiedzialności publicznej w działaniach rządu w zakresie zaciągania pożyczek i zarządzania środkami pieniężnymi.\n",
      "[start] information in this report is intended for a wide range of stakeholders to ensure transparency and public accountability in government [UNK] and cash management activities [end]\n",
      "\n",
      "Rybołówstwo i Oceany Kanada www.dfo- mpo.gc.ca Pomiń do treści 124; Pomiń do linków instytucjonalnych Wspólne linki do menu Français Strona główna Kontakt Pomoc Szukaj canada.gc.ca Strona główna > Media Pokój > Aktualności 2008 Linki instytucjonalne MEDIA SYPIAL Aktualności Wyrzuty Opłaty i wyroki Backgrounders Oświadczenia ministerialne E- Aktualności Kontakty Infocus Archives RSS Aktualności Pasz Proaktywne ujawnianie Proaktywne ujawnianie Minister Hearn ogłasza federalne inwestycje w Newfoundland i Labrador Wspólnoty Przybrzeżne Lipiec 1, 2008\n",
      "[start] fisheries and oceans canada wwwdfompogcca skip to content skip to institutional links common menu bar links français home contact us help search canadagcca home media room news releases 2003 institutional\n",
      "\n",
      "Badenia-Wirtembergia, Bayern, Berlin, Brandenburg, Brema, Hamburg, Hesja, Mecklenburg-Vorpommern, Niedersachsen, Nordrhein-Westfalen, Rheinland- Pfalz, Saarland, Sachsen, Sachsen- Anhalt, Schleswig- Holstein, Thüringen.\n",
      "[start] [UNK] [UNK] berlin [UNK] [UNK] [UNK] [UNK] [UNK] [UNK] [UNK] [UNK] [UNK] [UNK] [UNK] [UNK] [UNK] [UNK] [UNK] [UNK] [end]\n",
      "\n",
      "• Zbadanie sposobów ułatwienia studentom z Kanady i tymczasowym pracownikom zagranicznym przebywania w Kanadzie i stawania się obywatelami Kanady.\n",
      "[start] • examine ways to facilitate students from canada and temporary foreign workers in canada and will become canadian citizens [end]\n",
      "\n",
      "Nie muszą to być przedsiębiorstwa z krajów innych niż te, w których znajdują się społeczności.\n",
      "[start] it does not have to be enterprises from countries other than those in which they are located communities [end]\n",
      "\n",
      "Chociaż nie tak szeroko badane, dieta pourodzeniowa wpływa również na rozwój endokrynologicznych i immunologicznych funkcji jelitowych i ma złożony, słabo rozumiany interakcja z rozwijającą się mikroflorą.\n",
      "[start] although not so widely examined [UNK] diet also affects the development of [UNK] and [UNK] of [UNK] functions and has complex [UNK] understood interaction with developing [UNK] [end]\n",
      "\n",
      "Szacuje się, że środki te zmniejszą dochody federalne o 10 milionów dolarów w 2007 r. i 20 milionów dolarów w 2008 r.\n",
      "[start] it is estimated that these measures will reduce federal revenues by 10 million in 2007 and 20 million in 2008 [end]\n",
      "\n",
      "Informacje uzyskane w ramach programu kosmetycznego uznaje się za poufne i będą one omawiane wyłącznie z przedsiębiorstwem (producentem lub dystrybutorem), które je przedłożyło.\n",
      "[start] information obtained under the [UNK] program is considered to be confidential and will be discussed only with the company manufacturer or distributor that will be given to them [end]\n",
      "\n",
      "Rozporządzenie Parlamentu Europejskiego i Rady (UE, Euratom) nr 966 / 2012 z dnia 25 października 2012 r. w sprawie zasad finansowych mających zastosowanie do budżetu ogólnego Unii oraz uchylające rozporządzenie Rady (WE, Euratom) nr 1605 / 2002 (Dz.U. L 298 z 26.10.2012, s. 1).\n",
      "[start] regulation of the european parliament and of the eu council [UNK] no [UNK] of 25 october 2012 on financial principles applicable to the general budget of the union and [UNK]\n",
      "\n",
      "Chodzi o aktywny udział i uczenie się o sobie nawzajem, i o to, jak współpracować, by stworzyć silną i spójną Kanadę.\n",
      "[start] it is about active participation and learning about each other and how to work together to create a strong and coherent canada [end]\n",
      "\n"
     ]
    }
   ],
   "source": [
    "target_vocab = target_vectorization.get_vocabulary()\n",
    "target_index_lookup = dict(zip(range(len(target_vocab)), target_vocab))\n",
    "max_decoded_sentence_length = 30\n",
    "\n",
    "def decode_sequence(input_sentence):\n",
    "    tokenized_input_sentence = source_vectorization([input_sentence])\n",
    "    decoded_sentence = \"[start]\"\n",
    "    for i in range(max_decoded_sentence_length):\n",
    "        tokenized_target_sentence = target_vectorization(\n",
    "            [decoded_sentence])[:, :-1]\n",
    "        predictions = transformer(\n",
    "            {'source': tokenized_input_sentence, 'target': tokenized_target_sentence})\n",
    "        sampled_token_index = np.argmax(predictions[0, i, :])\n",
    "        sampled_token = target_index_lookup[sampled_token_index]\n",
    "        decoded_sentence += \" \" + sampled_token\n",
    "        if sampled_token == \"[end]\":\n",
    "            break\n",
    "    return decoded_sentence\n",
    "\n",
    "# let's translate 50 random sentences\n",
    "for i in range(50):\n",
    "    random_index = np.random.randint(0, len(test_df))\n",
    "    input_sentence = test_df[\"source\"].iloc[random_index]\n",
    "    print(input_sentence)\n",
    "    print(decode_sequence(input_sentence))\n",
    "    print()"
   ]
  }
 ],
 "metadata": {
  "kernelspec": {
   "display_name": "Python 3",
   "language": "python",
   "name": "python3"
  },
  "language_info": {
   "codemirror_mode": {
    "name": "ipython",
    "version": 3
   },
   "file_extension": ".py",
   "mimetype": "text/x-python",
   "name": "python",
   "nbconvert_exporter": "python",
   "pygments_lexer": "ipython3",
   "version": "3.10.9"
  },
  "papermill": {
   "default_parameters": {},
   "duration": 5693.346436,
   "end_time": "2023-03-11T22:50:26.592976",
   "environment_variables": {},
   "exception": null,
   "input_path": "__notebook__.ipynb",
   "output_path": "__notebook__.ipynb",
   "parameters": {},
   "start_time": "2023-03-11T21:15:33.246540",
   "version": "2.4.0"
  }
 },
 "nbformat": 4,
 "nbformat_minor": 5
}
