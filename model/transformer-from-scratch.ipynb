{
 "cells": [
  {
   "cell_type": "markdown",
   "id": "05a768a5",
   "metadata": {
    "execution": {
     "iopub.execute_input": "2023-03-07T21:56:23.313623Z",
     "iopub.status.busy": "2023-03-07T21:56:23.313156Z",
     "iopub.status.idle": "2023-03-07T21:56:23.320534Z",
     "shell.execute_reply": "2023-03-07T21:56:23.318865Z",
     "shell.execute_reply.started": "2023-03-07T21:56:23.313584Z"
    },
    "papermill": {
     "duration": 0.009067,
     "end_time": "2023-03-11T21:15:41.733022",
     "exception": false,
     "start_time": "2023-03-11T21:15:41.723955",
     "status": "completed"
    },
    "tags": []
   },
   "source": [
    "# Transformer from scratch\n",
    "\n",
    "This notebook builds a basic **Encoder-Decoder** variant of the Transformer architecture from scratch (Multi-Head Attention, Scaled Dot-Product Attention and Causal Masking included) in TensorFlow.\n",
    "\n",
    "It serves to understand how each part of the Transformer works and how they all fit together.\n",
    "\n",
    "The Transformer is then tested on a simple seq2seq task : **translating sentences from English to French**.\n",
    "\n",
    "[<img src=\"https://ar5iv.labs.arxiv.org/html/1706.03762/assets/Figures/ModalNet-21.png\" width=\"300\">](https://arxiv.org/abs/1706.03762)\n",
    "\n",
    "**Steps :**\n",
    "1. [Preparing the data](#Preparing-the-data)\n",
    "2. [Building the Transformer](#Building-the-Transformer)\n",
    "3. [Training the Transformer](#Training-the-Transformer)\n",
    "4. [Testing the Transformer](#Testing-the-Transformer)\n",
    "    \n",
    "*[Credits and stuff](#Credits-and-stuff)*"
   ]
  },
  {
   "cell_type": "code",
   "execution_count": 1,
   "id": "e491dc58",
   "metadata": {
    "execution": {
     "iopub.execute_input": "2023-03-11T21:15:41.750311Z",
     "iopub.status.busy": "2023-03-11T21:15:41.749655Z",
     "iopub.status.idle": "2023-03-11T21:15:48.333591Z",
     "shell.execute_reply": "2023-03-11T21:15:48.332497Z"
    },
    "papermill": {
     "duration": 6.595399,
     "end_time": "2023-03-11T21:15:48.336261",
     "exception": false,
     "start_time": "2023-03-11T21:15:41.740862",
     "status": "completed"
    },
    "tags": []
   },
   "outputs": [],
   "source": [
    "import os\n",
    "import pandas as pd\n",
    "import random\n",
    "import matplotlib.pyplot as plt\n",
    "import tensorflow as tf\n",
    "import string\n",
    "import re\n",
    "import numpy as np"
   ]
  },
  {
   "cell_type": "code",
   "execution_count": 2,
   "id": "7a29abd3",
   "metadata": {
    "execution": {
     "iopub.execute_input": "2023-03-11T21:15:48.353919Z",
     "iopub.status.busy": "2023-03-11T21:15:48.353342Z",
     "iopub.status.idle": "2023-03-11T21:15:48.539046Z",
     "shell.execute_reply": "2023-03-11T21:15:48.537975Z"
    },
    "papermill": {
     "duration": 0.197258,
     "end_time": "2023-03-11T21:15:48.541669",
     "exception": false,
     "start_time": "2023-03-11T21:15:48.344411",
     "status": "completed"
    },
    "tags": []
   },
   "outputs": [
    {
     "name": "stdout",
     "output_type": "stream",
     "text": [
      "Tensor Flow Version: 2.11.0\n",
      "\n",
      "GPU is AVAILABLE\n"
     ]
    }
   ],
   "source": [
    "print(f\"Tensor Flow Version: {tf.__version__}\")\n",
    "print()\n",
    "gpu = len(tf.config.list_physical_devices('GPU'))>0\n",
    "print(\"GPU is\", \"AVAILABLE\" if gpu else \"NOT AVAILABLE\")"
   ]
  },
  {
   "cell_type": "markdown",
   "id": "68f9ec5f",
   "metadata": {
    "papermill": {
     "duration": 0.007735,
     "end_time": "2023-03-11T21:15:48.557506",
     "exception": false,
     "start_time": "2023-03-11T21:15:48.549771",
     "status": "completed"
    },
    "tags": []
   },
   "source": [
    "# Preparing the data"
   ]
  },
  {
   "cell_type": "markdown",
   "id": "3b976abf",
   "metadata": {
    "papermill": {
     "duration": 0.007585,
     "end_time": "2023-03-11T21:15:48.572882",
     "exception": false,
     "start_time": "2023-03-11T21:15:48.565297",
     "status": "completed"
    },
    "tags": []
   },
   "source": [
    "<div style=\"color:#000; display:fill; border-radius:8px; background-color:#000; font-size:125%;\">\n",
    "    <p style=\"padding: 8px 12px 8px 12px; color:#fff;\"><b>Reading the data</b></p>\n",
    "</div>"
   ]
  },
  {
   "cell_type": "code",
   "execution_count": 3,
   "id": "85ddef18",
   "metadata": {
    "execution": {
     "iopub.execute_input": "2023-03-11T21:15:48.590891Z",
     "iopub.status.busy": "2023-03-11T21:15:48.589444Z",
     "iopub.status.idle": "2023-03-11T21:15:49.100476Z",
     "shell.execute_reply": "2023-03-11T21:15:49.099058Z"
    },
    "papermill": {
     "duration": 0.522132,
     "end_time": "2023-03-11T21:15:49.102834",
     "exception": false,
     "start_time": "2023-03-11T21:15:48.580702",
     "status": "completed"
    },
    "tags": []
   },
   "outputs": [
    {
     "data": {
      "text/html": [
       "<div>\n",
       "<style scoped>\n",
       "    .dataframe tbody tr th:only-of-type {\n",
       "        vertical-align: middle;\n",
       "    }\n",
       "\n",
       "    .dataframe tbody tr th {\n",
       "        vertical-align: top;\n",
       "    }\n",
       "\n",
       "    .dataframe thead th {\n",
       "        text-align: right;\n",
       "    }\n",
       "</style>\n",
       "<table border=\"1\" class=\"dataframe\">\n",
       "  <thead>\n",
       "    <tr style=\"text-align: right;\">\n",
       "      <th></th>\n",
       "      <th>source</th>\n",
       "      <th>target</th>\n",
       "    </tr>\n",
       "  </thead>\n",
       "  <tbody>\n",
       "    <tr>\n",
       "      <th>114805</th>\n",
       "      <td>I have thirteen names on my list.</td>\n",
       "      <td>[start] J'ai treize noms sur ma liste. [end]</td>\n",
       "    </tr>\n",
       "    <tr>\n",
       "      <th>82735</th>\n",
       "      <td>I figured I'd find you here.</td>\n",
       "      <td>[start] Je me suis imaginé que je te trouverai...</td>\n",
       "    </tr>\n",
       "    <tr>\n",
       "      <th>150243</th>\n",
       "      <td>Japanese tourists can be found everywhere.</td>\n",
       "      <td>[start] On peut trouver partout des touristes ...</td>\n",
       "    </tr>\n",
       "    <tr>\n",
       "      <th>24238</th>\n",
       "      <td>I refuse to answer.</td>\n",
       "      <td>[start] Je refuse de répondre. [end]</td>\n",
       "    </tr>\n",
       "    <tr>\n",
       "      <th>101361</th>\n",
       "      <td>Did Tom talk to you about Mary?</td>\n",
       "      <td>[start] Est-ce que Tom t'a parlé de Mary ? [end]</td>\n",
       "    </tr>\n",
       "  </tbody>\n",
       "</table>\n",
       "</div>"
      ],
      "text/plain": [
       "                                            source  \\\n",
       "114805           I have thirteen names on my list.   \n",
       "82735                 I figured I'd find you here.   \n",
       "150243  Japanese tourists can be found everywhere.   \n",
       "24238                          I refuse to answer.   \n",
       "101361             Did Tom talk to you about Mary?   \n",
       "\n",
       "                                                   target  \n",
       "114805       [start] J'ai treize noms sur ma liste. [end]  \n",
       "82735   [start] Je me suis imaginé que je te trouverai...  \n",
       "150243  [start] On peut trouver partout des touristes ...  \n",
       "24238                [start] Je refuse de répondre. [end]  \n",
       "101361   [start] Est-ce que Tom t'a parlé de Mary ? [end]  "
      ]
     },
     "execution_count": 3,
     "metadata": {},
     "output_type": "execute_result"
    }
   ],
   "source": [
    "# get the file path\n",
    "path = \"/kaggle/input\"\n",
    "path = path if os.path.exists(path) else \".{}\".format(path)\n",
    "file_path = os.path.join(path, \"language-translation-englishfrench\", \"eng_-french.csv\")\n",
    "\n",
    "# read the data\n",
    "df = pd.read_csv(file_path)\n",
    "df['source'] = df['English words/sentences']\n",
    "\n",
    "# let's add an initial “seed” token ([start]) and a stop token ([end]) to each target sentence.\n",
    "df['target'] = df['French words/sentences'].apply(lambda x: '[start] ' + x + ' [end]')\n",
    "df = df.drop(['English words/sentences', 'French words/sentences'], axis=1)\n",
    "\n",
    "# display a few random samples\n",
    "df.sample(5)"
   ]
  },
  {
   "cell_type": "markdown",
   "id": "3aa08da9",
   "metadata": {
    "papermill": {
     "duration": 0.007974,
     "end_time": "2023-03-11T21:15:49.119916",
     "exception": false,
     "start_time": "2023-03-11T21:15:49.111942",
     "status": "completed"
    },
    "tags": []
   },
   "source": [
    "<div style=\"color:#000; display:fill; border-radius:8px; background-color:#000; font-size:125%;\">\n",
    "    <p style=\"padding: 8px 12px 8px 12px; color:#fff;\"><b>Shuffling the data and splitting it into train, validation, and test sets</b></p>\n",
    "</div>"
   ]
  },
  {
   "cell_type": "code",
   "execution_count": 4,
   "id": "9b31d06e",
   "metadata": {
    "execution": {
     "iopub.execute_input": "2023-03-11T21:15:49.139118Z",
     "iopub.status.busy": "2023-03-11T21:15:49.137517Z",
     "iopub.status.idle": "2023-03-11T21:15:49.324222Z",
     "shell.execute_reply": "2023-03-11T21:15:49.320248Z"
    },
    "papermill": {
     "duration": 0.199592,
     "end_time": "2023-03-11T21:15:49.327853",
     "exception": false,
     "start_time": "2023-03-11T21:15:49.128261",
     "status": "completed"
    },
    "tags": []
   },
   "outputs": [
    {
     "data": {
      "image/png": "[encoded data removed]",
      "text/plain": [
       "<Figure size 640x480 with 1 Axes>"
      ]
     },
     "metadata": {},
     "output_type": "display_data"
    }
   ],
   "source": [
    "# shuffle the data\n",
    "df = df.sample(frac=1).reset_index(drop=True)\n",
    "\n",
    "# split the data into train, validation, and test sets\n",
    "train_size = int(len(df) * 0.7)\n",
    "val_size = int(len(df) * 0.2)\n",
    "test_size = int(len(df) * 0.1)\n",
    "\n",
    "train_df = df[:train_size]\n",
    "val_df = df[train_size:train_size+val_size]\n",
    "test_df = df[train_size+val_size:]\n",
    "\n",
    "# display the data sets representations using a pie chart just to see the distribution of the data\n",
    "labels = 'Train', 'Validation', 'Test'\n",
    "sizes = [len(train_df), len(val_df), len(test_df)]\n",
    "explode = (0.1, 0, 0)\n",
    "fig1, ax1 = plt.subplots()\n",
    "ax1.pie(sizes, explode=explode, labels=labels, autopct='%1.1f%%', shadow=True, startangle=90)\n",
    "ax1.axis('equal')\n",
    "plt.show()\n"
   ]
  },
  {
   "cell_type": "markdown",
   "id": "1e095629",
   "metadata": {
    "papermill": {
     "duration": 0.021137,
     "end_time": "2023-03-11T21:15:49.371778",
     "exception": false,
     "start_time": "2023-03-11T21:15:49.350641",
     "status": "completed"
    },
    "tags": []
   },
   "source": [
    "<div style=\"color:#000; display:fill; border-radius:8px; background-color:#000; font-size:125%;\">\n",
    "    <p style=\"padding: 8px 12px 8px 12px; color:#fff;\"><b>Standardizing, tokenizing and indexing the data</b></p>\n",
    "</div>"
   ]
  },
  {
   "cell_type": "markdown",
   "id": "0c8b0536",
   "metadata": {
    "papermill": {
     "duration": 0.008313,
     "end_time": "2023-03-11T21:15:49.398992",
     "exception": false,
     "start_time": "2023-03-11T21:15:49.390679",
     "status": "completed"
    },
    "tags": []
   },
   "source": [
    "First, we need to parse our raw text data and vectorize it.\n",
    "\n",
    "To keep things simple, we will first limit our vocabulary using the **max_tokens** parameter. We will also limit the length of each sentence using the **sequence_length** parameter.\n",
    "\n",
    "Each sentence will be standardized, tokenized by word, and then indexed by token.\n",
    "\n",
    "This will result in a batch of vectors of tokens, stored in a **2D** matrix of shape [(batch_size, **sequence_length**)]."
   ]
  },
  {
   "cell_type": "code",
   "execution_count": 5,
   "id": "fa29ac95",
   "metadata": {
    "execution": {
     "iopub.execute_input": "2023-03-11T21:15:49.417259Z",
     "iopub.status.busy": "2023-03-11T21:15:49.416961Z",
     "iopub.status.idle": "2023-03-11T21:16:10.211774Z",
     "shell.execute_reply": "2023-03-11T21:16:10.210723Z"
    },
    "papermill": {
     "duration": 20.806875,
     "end_time": "2023-03-11T21:16:10.214442",
     "exception": false,
     "start_time": "2023-03-11T21:15:49.407567",
     "status": "completed"
    },
    "tags": []
   },
   "outputs": [],
   "source": [
    "max_tokens = 25000\n",
    "sequence_length = 30\n",
    "\n",
    "# define a custom standardization function that convert to lowercase and strips all punctuations except \"[\" and \"]\" (so we can tell apart \"start\" from \"[start]\").\n",
    "strip_chars = string.punctuation\n",
    "strip_chars = strip_chars.replace(\"[\", \"\")\n",
    "strip_chars = strip_chars.replace(\"]\", \"\")\n",
    " \n",
    "def custom_standardization(input_string):\n",
    "    lowercase = tf.strings.lower(input_string)\n",
    "    return tf.strings.regex_replace(\n",
    "        lowercase, f\"[{re.escape(strip_chars)}]\", \"\")\n",
    "\n",
    "# tokenize the data using our custom standardization function\n",
    "source_vectorization = tf.keras.layers.TextVectorization(\n",
    "    max_tokens=max_tokens,\n",
    "    output_mode=\"int\",\n",
    "    output_sequence_length=sequence_length,\n",
    ")\n",
    "target_vectorization = tf.keras.layers.TextVectorization(\n",
    "    max_tokens=max_tokens,\n",
    "    output_mode=\"int\",\n",
    "    output_sequence_length=sequence_length + 1, # add +1 token to our target sentences since they'll be shifted right by 1 during training\n",
    "    standardize=custom_standardization,\n",
    ")\n",
    "\n",
    "# index all tokens in the source and target sentences\n",
    "train_source_texts = train_df['source'].values\n",
    "train_target_texts = train_df['target'].values\n",
    "source_vectorization.adapt(train_source_texts)\n",
    "target_vectorization.adapt(train_target_texts)"
   ]
  },
  {
   "cell_type": "code",
   "execution_count": 6,
   "id": "e7bfc6d5",
   "metadata": {
    "execution": {
     "iopub.execute_input": "2023-03-11T21:16:10.234873Z",
     "iopub.status.busy": "2023-03-11T21:16:10.234550Z",
     "iopub.status.idle": "2023-03-11T21:16:13.403030Z",
     "shell.execute_reply": "2023-03-11T21:16:13.401994Z"
    },
    "papermill": {
     "duration": 3.18088,
     "end_time": "2023-03-11T21:16:13.405459",
     "exception": false,
     "start_time": "2023-03-11T21:16:10.224579",
     "status": "completed"
    },
    "tags": []
   },
   "outputs": [
    {
     "name": "stdout",
     "output_type": "stream",
     "text": [
      "Source texts (one random sample): Is there a reward?\n",
      "Target texts (one random sample): [start] Y a-t-il une récompense ? [end]\n",
      "Source vectors (one random sample): tf.Tensor(\n",
      "[   7   55    6 4305    0    0    0    0    0    0    0    0    0    0\n",
      "    0    0    0    0    0    0    0    0    0    0    0    0    0    0\n",
      "    0    0], shape=(30,), dtype=int64)\n",
      "Target vectors (one random sample): tf.Tensor(\n",
      "[    2    50   191    23 18908     3     0     0     0     0     0     0\n",
      "     0     0     0     0     0     0     0     0     0     0     0     0\n",
      "     0     0     0     0     0     0     0], shape=(31,), dtype=int64)\n",
      "Source decoded texts (one random sample): is there a reward                           \n",
      "Target decoded texts (one random sample): [start] y atil une récompense  [end]                          \n"
     ]
    }
   ],
   "source": [
    "# display a random sample before and after vectorization just to test the vectorization\n",
    "random_sample = random.randint(0, len(train_df))\n",
    "print(\"Source texts (one random sample):\", train_source_texts[random_sample])\n",
    "print(\"Target texts (one random sample):\", train_target_texts[random_sample])\n",
    "print(\"Source vectors (one random sample):\", source_vectorization(train_source_texts[random_sample]))\n",
    "print(\"Target vectors (one random sample):\", target_vectorization(train_target_texts[random_sample]))\n",
    "\n",
    "# display the decoding of the vectorized text (from vector back to text) just to test the vectorization\n",
    "source_decoded_text = ''\n",
    "for i in range(len(source_vectorization(train_source_texts[random_sample]))):\n",
    "    source_decoded_text += source_vectorization.get_vocabulary()[source_vectorization(train_source_texts[random_sample])[i]] + ' '\n",
    "print(\"Source decoded texts (one random sample):\", source_decoded_text)\n",
    "\n",
    "target_decoded_text = ''\n",
    "for i in range(len(target_vectorization(train_target_texts[random_sample]))):\n",
    "    target_decoded_text += target_vectorization.get_vocabulary()[target_vectorization(train_target_texts[random_sample])[i]] + ' '\n",
    "print(\"Target decoded texts (one random sample):\", target_decoded_text)"
   ]
  },
  {
   "cell_type": "code",
   "execution_count": 7,
   "id": "ba63e63c",
   "metadata": {
    "execution": {
     "iopub.execute_input": "2023-03-11T21:16:13.427630Z",
     "iopub.status.busy": "2023-03-11T21:16:13.425760Z",
     "iopub.status.idle": "2023-03-11T21:16:14.137677Z",
     "shell.execute_reply": "2023-03-11T21:16:14.135335Z"
    },
    "papermill": {
     "duration": 0.725633,
     "end_time": "2023-03-11T21:16:14.140339",
     "exception": false,
     "start_time": "2023-03-11T21:16:13.414706",
     "status": "completed"
    },
    "tags": []
   },
   "outputs": [
    {
     "name": "stdout",
     "output_type": "stream",
     "text": [
      "Source vectors (shape): (122934, 30)\n",
      "Target vectors (shape): (122934, 31)\n"
     ]
    }
   ],
   "source": [
    "# display the shape of our vectorized data\n",
    "train_source_vectors = source_vectorization(train_source_texts)\n",
    "train_target_vectors = target_vectorization(train_target_texts)\n",
    "print(\"Source vectors (shape):\", train_source_vectors.shape)\n",
    "print(\"Target vectors (shape):\", train_target_vectors.shape)"
   ]
  },
  {
   "cell_type": "markdown",
   "id": "79cf2b3b",
   "metadata": {
    "papermill": {
     "duration": 0.010437,
     "end_time": "2023-03-11T21:16:14.161602",
     "exception": false,
     "start_time": "2023-03-11T21:16:14.151165",
     "status": "completed"
    },
    "tags": []
   },
   "source": [
    "# Building the Transformer"
   ]
  },
  {
   "cell_type": "markdown",
   "id": "6d3efbb9",
   "metadata": {
    "papermill": {
     "duration": 0.010258,
     "end_time": "2023-03-11T21:16:14.182397",
     "exception": false,
     "start_time": "2023-03-11T21:16:14.172139",
     "status": "completed"
    },
    "tags": []
   },
   "source": [
    "<div style=\"color:#000; display:fill; border-radius:8px; background-color:#000; font-size:125%;\">\n",
    "    <p style=\"padding: 8px 12px 8px 12px; color:#fff;\"><b>Positional Embedding</b></p>\n",
    "</div>"
   ]
  },
  {
   "cell_type": "markdown",
   "id": "2fb12185",
   "metadata": {
    "papermill": {
     "duration": 0.010226,
     "end_time": "2023-03-11T21:16:14.203184",
     "exception": false,
     "start_time": "2023-03-11T21:16:14.192958",
     "status": "completed"
    },
    "tags": []
   },
   "source": [
    "In order for our Transformer to be aware of the word order in each sentence, we must add some positional information to the data. **Words must become position-aware.**\n",
    "\n",
    "First, each token in our vectors will be embedded in a low-dimensional vector (the dimensionality of the embedding space is defined by the **embedding_size** parameter).\n",
    "\n",
    "Secondly, position information (info on where each word stands in the sentence) will be created and added to the embeddings.\n",
    "\n",
    "This will result in a batch of vectors of positional embeddings, stored in a **3D** matrix of shape [(batch_size, sequence_length, **embedding_size**)]."
   ]
  },
  {
   "cell_type": "code",
   "execution_count": 8,
   "id": "2489cab4",
   "metadata": {
    "execution": {
     "iopub.execute_input": "2023-03-11T21:16:14.226341Z",
     "iopub.status.busy": "2023-03-11T21:16:14.225469Z",
     "iopub.status.idle": "2023-03-11T21:16:14.235651Z",
     "shell.execute_reply": "2023-03-11T21:16:14.234365Z"
    },
    "papermill": {
     "duration": 0.024289,
     "end_time": "2023-03-11T21:16:14.237957",
     "exception": false,
     "start_time": "2023-03-11T21:16:14.213668",
     "status": "completed"
    },
    "tags": []
   },
   "outputs": [],
   "source": [
    "class PositionalEmbedding(tf.keras.layers.Layer):\n",
    "    def __init__(self, sequence_length, input_dim, output_dim, **kwargs):\n",
    "        super().__init__(**kwargs)\n",
    "        self.token_embeddings = tf.keras.layers.Embedding(input_dim=input_dim, output_dim=output_dim) # token embedding layer\n",
    "        self.position_embeddings = tf.keras.layers.Embedding(input_dim=sequence_length, output_dim=output_dim) # position embedding layer\n",
    "        self.sequence_length = sequence_length\n",
    "        self.input_dim = input_dim\n",
    "        self.output_dim = output_dim\n",
    "\n",
    "    def call(self, inputs):\n",
    "        embedded_tokens = self.token_embeddings(inputs) # embed the tokens\n",
    "        length = tf.shape(inputs)[-1]\n",
    "        positions = tf.range(start=0, limit=length, delta=1) # create the positional information\n",
    "        embedded_positions = self.position_embeddings(positions) # embed the positions \n",
    "        return embedded_tokens + embedded_positions # add the token and position embeddings to create the positional embeddings\n",
    "\n",
    "    def compute_mask(self, inputs, mask=None):\n",
    "        return tf.math.not_equal(inputs, 0)\n",
    "\n",
    "    def get_config(self):\n",
    "        config = super(PositionalEmbedding, self).get_config()\n",
    "        config.update({\n",
    "            \"input_dim\": self.input_dim,\n",
    "            \"output_dim\": self.output_dim,\n",
    "            \"sequence_length\": self.sequence_length,\n",
    "        })\n",
    "        return config"
   ]
  },
  {
   "cell_type": "code",
   "execution_count": 9,
   "id": "c92c58ca",
   "metadata": {
    "execution": {
     "iopub.execute_input": "2023-03-11T21:16:14.260901Z",
     "iopub.status.busy": "2023-03-11T21:16:14.259978Z",
     "iopub.status.idle": "2023-03-11T21:16:14.417654Z",
     "shell.execute_reply": "2023-03-11T21:16:14.416135Z"
    },
    "papermill": {
     "duration": 0.171469,
     "end_time": "2023-03-11T21:16:14.419913",
     "exception": false,
     "start_time": "2023-03-11T21:16:14.248444",
     "status": "completed"
    },
    "tags": []
   },
   "outputs": [
    {
     "name": "stdout",
     "output_type": "stream",
     "text": [
      "Source texts (one random sample): We finally agree on something.\n",
      "Target texts (one random sample): [start] Nous nous sommes enfin mis d'accord sur quelque chose. [end]\n",
      "Source vectors (one random sample): tf.Tensor(\n",
      "[ 26 687 455  33  98   0   0   0   0   0   0   0   0   0   0   0   0   0\n",
      "   0   0   0   0   0   0   0   0   0   0   0   0], shape=(30,), dtype=int64)\n",
      "Target vectors (one random sample): tf.Tensor(\n",
      "[   2   20   20   99 1146  372  357   61   80   71    3    0    0    0\n",
      "    0    0    0    0    0    0    0    0    0    0    0    0    0    0\n",
      "    0    0    0], shape=(31,), dtype=int64)\n",
      "Source embedded vectors (one random sample): tf.Tensor(\n",
      "[[ 0.0220742  -0.07909741  0.02449205 ... -0.01586883 -0.02297661\n",
      "   0.04431666]\n",
      " [ 0.00503553 -0.08730514  0.01994073 ... -0.04662572 -0.06042909\n",
      "   0.03356325]\n",
      " [ 0.02134088  0.01650778 -0.02857684 ... -0.02767951  0.01383846\n",
      "  -0.02187204]\n",
      " ...\n",
      " [ 0.01203318 -0.04818739 -0.04283983 ... -0.02916815  0.02308232\n",
      "  -0.00542446]\n",
      " [-0.00285619 -0.0313039  -0.05178877 ... -0.01724604  0.04295433\n",
      "  -0.04751856]\n",
      " [ 0.00405602 -0.00814968 -0.0586106  ...  0.04450827  0.04656071\n",
      "   0.02836645]], shape=(30, 256), dtype=float32)\n",
      "Target embedded vectors (one random sample): tf.Tensor(\n",
      "[[-4.1115787e-02 -3.4242719e-03  2.9521182e-02 ... -3.3310328e-02\n",
      "   2.0998623e-02 -5.2023202e-02]\n",
      " [ 8.4840469e-02  6.2626697e-02  2.0934831e-02 ... -6.5635204e-02\n",
      "  -3.8663555e-02  1.5878331e-02]\n",
      " [-6.3851088e-02 -1.6769648e-02 -3.3243190e-02 ...  9.0791836e-02\n",
      "   3.2424007e-02  3.8012221e-02]\n",
      " ...\n",
      " [-2.6994362e-02 -6.1703302e-02 -1.9209709e-02 ... -1.1964319e-02\n",
      "   2.0842507e-02 -1.8682089e-02]\n",
      " [-5.3679384e-02  6.0179215e-03 -3.1863477e-02 ...  4.8315302e-03\n",
      "   2.3183323e-02 -1.2792647e-05]\n",
      " [-7.6257288e-02 -1.3408991e-02 -5.4444302e-02 ...  3.4773637e-02\n",
      "   3.6401011e-02  6.2066168e-03]], shape=(30, 256), dtype=float32)\n"
     ]
    }
   ],
   "source": [
    "# display a random sample before and after embbeding just to test our class\n",
    "\n",
    "embed_dim = 256\n",
    "\n",
    "train_source_embedded = PositionalEmbedding(\n",
    "    sequence_length=sequence_length,\n",
    "    input_dim=max_tokens,\n",
    "    output_dim=embed_dim,\n",
    "    name=\"source_embedding\",\n",
    ") (train_source_vectors)\n",
    "\n",
    "train_target_embedded = PositionalEmbedding(\n",
    "    sequence_length=sequence_length,\n",
    "    input_dim=max_tokens,\n",
    "    output_dim=embed_dim,\n",
    "    name=\"target_embedding\",\n",
    ") (train_source_vectors)\n",
    "\n",
    "random_sample = random.randint(0, len(train_df))\n",
    "print(\"Source texts (one random sample):\", train_source_texts[random_sample])\n",
    "print(\"Target texts (one random sample):\", train_target_texts[random_sample])\n",
    "print(\"Source vectors (one random sample):\", source_vectorization(train_source_texts[random_sample]))\n",
    "print(\"Target vectors (one random sample):\", target_vectorization(train_target_texts[random_sample]))\n",
    "print(\"Source embedded vectors (one random sample):\", train_source_embedded[random_sample])\n",
    "print(\"Target embedded vectors (one random sample):\", train_target_embedded[random_sample])"
   ]
  },
  {
   "cell_type": "code",
   "execution_count": 10,
   "id": "de99ff68",
   "metadata": {
    "execution": {
     "iopub.execute_input": "2023-03-11T21:16:14.440240Z",
     "iopub.status.busy": "2023-03-11T21:16:14.439932Z",
     "iopub.status.idle": "2023-03-11T21:16:14.445036Z",
     "shell.execute_reply": "2023-03-11T21:16:14.444082Z"
    },
    "papermill": {
     "duration": 0.017393,
     "end_time": "2023-03-11T21:16:14.447230",
     "exception": false,
     "start_time": "2023-03-11T21:16:14.429837",
     "status": "completed"
    },
    "tags": []
   },
   "outputs": [
    {
     "name": "stdout",
     "output_type": "stream",
     "text": [
      "Source embedded vectors (shape): (122934, 30, 256)\n",
      "Target embedded vectors (shape): (122934, 30, 256)\n"
     ]
    }
   ],
   "source": [
    "# display the shape of our embedded data just to test the class\n",
    "print(\"Source embedded vectors (shape):\", train_source_embedded.shape)\n",
    "print(\"Target embedded vectors (shape):\", train_target_embedded.shape)"
   ]
  },
  {
   "cell_type": "markdown",
   "id": "9f6874ae",
   "metadata": {
    "papermill": {
     "duration": 0.008999,
     "end_time": "2023-03-11T21:16:14.465350",
     "exception": false,
     "start_time": "2023-03-11T21:16:14.456351",
     "status": "completed"
    },
    "tags": []
   },
   "source": [
    "<div style=\"color:#000; display:fill; border-radius:8px; background-color:#000; font-size:125%;\">\n",
    "    <p style=\"padding: 8px 12px 8px 12px; color:#fff;\"><b>The Attention mechanism</b></p>\n",
    "</div>"
   ]
  },
  {
   "cell_type": "markdown",
   "id": "62693d6e",
   "metadata": {
    "papermill": {
     "duration": 0.008956,
     "end_time": "2023-03-11T21:16:14.483557",
     "exception": false,
     "start_time": "2023-03-11T21:16:14.474601",
     "status": "completed"
    },
    "tags": []
   },
   "source": [
    "The goal here is to make each of our words (positional embeddings at this point) aware of the other words surrounding them. **Words must become context-aware.**\n",
    "\n",
    "The implementation of the Attention mechanism involves the following 3 steps : \n",
    "\n",
    "- Causal Masking\n",
    "- Scaled Dot-Product Attention\n",
    "- Multi-Head Attention\n",
    "\n",
    "In practice, we could just use **tf.keras.layers.MultiHeadAttention** instead of building it from scratch, but let's do it anyway! 😒"
   ]
  },
  {
   "cell_type": "markdown",
   "id": "6c4065aa",
   "metadata": {
    "papermill": {
     "duration": 0.008946,
     "end_time": "2023-03-11T21:16:14.501745",
     "exception": false,
     "start_time": "2023-03-11T21:16:14.492799",
     "status": "completed"
    },
    "tags": []
   },
   "source": [
    "<div style=\"color:#fff; display:fill; border-width:1px; border-color:#000; font-size:125%;\">\n",
    "    <p style=\"border-style:solid; border-radius:8px; background-color:#fff; padding: 8px 12px 8px 12px; color:#000;\"><b>Causal Masking</b></p>\n",
    "</div>"
   ]
  },
  {
   "attachments": {
    "0238767f-d97d-4c4c-9238-24a5ac730526.png": {
     "image/png": "[encoded data removed]"
    }
   },
   "cell_type": "markdown",
   "id": "bdf6eeee",
   "metadata": {
    "papermill": {
     "duration": 0.009627,
     "end_time": "2023-03-11T21:16:14.520504",
     "exception": false,
     "start_time": "2023-03-11T21:16:14.510877",
     "status": "completed"
    },
    "tags": []
   },
   "source": [
    "\n",
    "Since our words will now be context-aware (aware of words before **and** after them in the sentence), we need a way to mask those *after-words* when needed be (i.e. during training).\n",
    "\n",
    "![image.png](attachment:0238767f-d97d-4c4c-9238-24a5ac730526.png)"
   ]
  },
  {
   "cell_type": "code",
   "execution_count": 11,
   "id": "6603854e",
   "metadata": {
    "execution": {
     "iopub.execute_input": "2023-03-11T21:16:14.540900Z",
     "iopub.status.busy": "2023-03-11T21:16:14.540100Z",
     "iopub.status.idle": "2023-03-11T21:16:14.548405Z",
     "shell.execute_reply": "2023-03-11T21:16:14.547426Z"
    },
    "papermill": {
     "duration": 0.020436,
     "end_time": "2023-03-11T21:16:14.550520",
     "exception": false,
     "start_time": "2023-03-11T21:16:14.530084",
     "status": "completed"
    },
    "tags": []
   },
   "outputs": [],
   "source": [
    "# credits to OpenAI for that one (https://github.com/openai/gpt-2/blob/master/src/model.py)\n",
    "\n",
    "def shape_list(x):\n",
    "    \"\"\"Deal with dynamic shape in tensorflow cleanly.\"\"\"\n",
    "    static = x.shape.as_list()\n",
    "    dynamic = tf.shape(x)\n",
    "    return [dynamic[i] if s is None else s for i, s in enumerate(static)]\n",
    "\n",
    "def attention_mask(nd, ns, *, dtype):\n",
    "    \"\"\"1's in the lower triangle, counting from the lower right corner.\n",
    "    Same as tf.matrix_band_part(tf.ones([nd, ns]), -1, ns-nd), but doesn't produce garbage on TPUs.\n",
    "    \"\"\"\n",
    "    i = tf.range(nd)[:,None]\n",
    "    j = tf.range(ns)\n",
    "    m = i >= j - ns + nd\n",
    "    return tf.cast(m, dtype)\n",
    "\n",
    "def mask_attn_weights(w):\n",
    "    # w has shape [batch, heads, dst_sequence, src_sequence], where information flows from src to dst.\n",
    "    _, _, nd, ns = shape_list(w)\n",
    "    b = attention_mask(nd, ns, dtype=w.dtype)\n",
    "    b = tf.reshape(b, [1, 1, nd, ns])\n",
    "    w = w*b - tf.cast(1e10, w.dtype)*(1-b)\n",
    "    return w"
   ]
  },
  {
   "cell_type": "code",
   "execution_count": 12,
   "id": "b5c8960f",
   "metadata": {
    "execution": {
     "iopub.execute_input": "2023-03-11T21:16:14.571219Z",
     "iopub.status.busy": "2023-03-11T21:16:14.570947Z",
     "iopub.status.idle": "2023-03-11T21:16:14.595015Z",
     "shell.execute_reply": "2023-03-11T21:16:14.594096Z"
    },
    "papermill": {
     "duration": 0.03618,
     "end_time": "2023-03-11T21:16:14.597181",
     "exception": false,
     "start_time": "2023-03-11T21:16:14.561001",
     "status": "completed"
    },
    "tags": []
   },
   "outputs": [
    {
     "name": "stdout",
     "output_type": "stream",
     "text": [
      "Masked attention weights: tf.Tensor(\n",
      "[[[[ 8.9684486e-02 -1.0000000e+10 -1.0000000e+10 -1.0000000e+10\n",
      "    -1.0000000e+10]\n",
      "   [ 5.0060284e-01  5.6440639e-01 -1.0000000e+10 -1.0000000e+10\n",
      "    -1.0000000e+10]\n",
      "   [ 3.3789122e-01  2.0062006e-01  4.0180087e-02 -1.0000000e+10\n",
      "    -1.0000000e+10]\n",
      "   [ 9.1639352e-01  4.6415818e-01  4.6083331e-01  2.7810276e-01\n",
      "    -1.0000000e+10]\n",
      "   [ 1.6869521e-01  1.5856838e-01  8.9142537e-01  1.0112965e-01\n",
      "     7.8265524e-01]]]], shape=(1, 1, 5, 5), dtype=float32)\n"
     ]
    }
   ],
   "source": [
    "# display the causal masking of a random tensor just to test the function\n",
    "random_tensor = tf.random.uniform(shape=(1, 1, 5, 5), minval=0, maxval=1, dtype=tf.float32)\n",
    "print(\"Masked attention weights:\", mask_attn_weights(random_tensor))"
   ]
  },
  {
   "cell_type": "markdown",
   "id": "343933e5",
   "metadata": {
    "papermill": {
     "duration": 0.009065,
     "end_time": "2023-03-11T21:16:14.615686",
     "exception": false,
     "start_time": "2023-03-11T21:16:14.606621",
     "status": "completed"
    },
    "tags": []
   },
   "source": [
    "<div style=\"color:#fff; display:fill; border-width:1px; border-color:#000; font-size:125%;\">\n",
    "    <p style=\"border-style:solid; border-radius:8px; background-color:#fff; padding: 8px 12px 8px 12px; color:#000;\"><b>Scaled Dot-Product Attention</b></p>\n",
    "</div>"
   ]
  },
  {
   "cell_type": "markdown",
   "id": "10b90dcb",
   "metadata": {
    "papermill": {
     "duration": 0.009181,
     "end_time": "2023-03-11T21:16:14.634262",
     "exception": false,
     "start_time": "2023-03-11T21:16:14.625081",
     "status": "completed"
    },
    "tags": []
   },
   "source": [
    "This function is what makes our words context-aware.\n",
    "\n",
    "We want to compare each word with every other words around them and take note of how *related* they are. Technically, this process can be described as \"mapping a query and a set of key-value pairs to an output\". It can be summarized as follows :\n",
    "- We take a **Q**uery of elements.\n",
    "- For each element in the **Q**uery, we score how much that element is related to every **K**ey (This is done using a compatibility function : MatMul). If needed be, Causal Masking will be applied here.\n",
    "- Then, we use these relationship scores to weight a sum of **V**alues, which will be our new context-aware representations.\n",
    "\n",
    "[<img src=\"https://ar5iv.labs.arxiv.org/html/1706.03762/assets/Figures/ModalNet-19.png\" width=\"120\">](https://arxiv.org/abs/1706.03762)"
   ]
  },
  {
   "cell_type": "code",
   "execution_count": 13,
   "id": "914b9e51",
   "metadata": {
    "execution": {
     "iopub.execute_input": "2023-03-11T21:16:14.654544Z",
     "iopub.status.busy": "2023-03-11T21:16:14.653760Z",
     "iopub.status.idle": "2023-03-11T21:16:14.659883Z",
     "shell.execute_reply": "2023-03-11T21:16:14.658961Z"
    },
    "papermill": {
     "duration": 0.01822,
     "end_time": "2023-03-11T21:16:14.661905",
     "exception": false,
     "start_time": "2023-03-11T21:16:14.643685",
     "status": "completed"
    },
    "tags": []
   },
   "outputs": [],
   "source": [
    "def scaled_dot_product_attention(q, k, v, use_causal_mask=False):\n",
    "    d_k = tf.cast(tf.shape(k)[-1], tf.float32)\n",
    "    scores = tf.matmul(q, k, transpose_b=True) # Matmul of Q and K\n",
    "    scaled_scores = scores / tf.math.sqrt(d_k) # Scale\n",
    "    if use_causal_mask:\n",
    "        scaled_scores = mask_attn_weights(scaled_scores) # Mask (opt.)\n",
    "    weights = tf.nn.softmax(scaled_scores, axis=-1) # SoftMax\n",
    "    output = tf.matmul(weights, v) # Matmul of SoftMax and V\n",
    "    return output"
   ]
  },
  {
   "cell_type": "code",
   "execution_count": 14,
   "id": "cb6af42d",
   "metadata": {
    "execution": {
     "iopub.execute_input": "2023-03-11T21:16:14.681651Z",
     "iopub.status.busy": "2023-03-11T21:16:14.681397Z",
     "iopub.status.idle": "2023-03-11T21:16:16.305932Z",
     "shell.execute_reply": "2023-03-11T21:16:16.304450Z"
    },
    "papermill": {
     "duration": 1.637083,
     "end_time": "2023-03-11T21:16:16.308251",
     "exception": false,
     "start_time": "2023-03-11T21:16:14.671168",
     "status": "completed"
    },
    "tags": []
   },
   "outputs": [
    {
     "name": "stdout",
     "output_type": "stream",
     "text": [
      "Scaled dot product attention (shape): (122934, 1, 30, 256)\n"
     ]
    }
   ],
   "source": [
    "# display the shape of our attention output just to test the function\n",
    "input = train_source_embedded\n",
    "input = tf.expand_dims(input, axis=1)\n",
    "print(\"Scaled dot product attention (shape):\", scaled_dot_product_attention(input, input, input, use_causal_mask=True).shape)"
   ]
  },
  {
   "cell_type": "markdown",
   "id": "d23250fa",
   "metadata": {
    "papermill": {
     "duration": 0.010589,
     "end_time": "2023-03-11T21:16:16.328876",
     "exception": false,
     "start_time": "2023-03-11T21:16:16.318287",
     "status": "completed"
    },
    "tags": []
   },
   "source": [
    "<div style=\"color:#fff; display:fill; border-width:1px; border-color:#000; font-size:125%;\">\n",
    "    <p style=\"border-style:solid; border-radius:8px; background-color:#fff; padding: 8px 12px 8px 12px; color:#000;\"><b>Multi-Head Attention</b></p>\n",
    "</div>"
   ]
  },
  {
   "cell_type": "markdown",
   "id": "c7ecde7a",
   "metadata": {
    "papermill": {
     "duration": 0.009248,
     "end_time": "2023-03-11T21:16:16.347895",
     "exception": false,
     "start_time": "2023-03-11T21:16:16.338647",
     "status": "completed"
    },
    "tags": []
   },
   "source": [
    "Multi-head attention was introduced in [Attention is all you need](https://arxiv.org/abs/1706.03762) and is wayyy to technical for me to try and explain here. But basically, it allows for multiple Scaled Dot-Production Attention functions to be run in parallel. 😅\n",
    "    \n",
    "[<img src=\"https://ar5iv.labs.arxiv.org/html/1706.03762/assets/Figures/ModalNet-20.png\" width=\"200\">](https://arxiv.org/abs/1706.03762)"
   ]
  },
  {
   "cell_type": "code",
   "execution_count": 15,
   "id": "1bb3ca80",
   "metadata": {
    "execution": {
     "iopub.execute_input": "2023-03-11T21:16:16.368012Z",
     "iopub.status.busy": "2023-03-11T21:16:16.367718Z",
     "iopub.status.idle": "2023-03-11T21:16:16.379572Z",
     "shell.execute_reply": "2023-03-11T21:16:16.378577Z"
    },
    "papermill": {
     "duration": 0.024366,
     "end_time": "2023-03-11T21:16:16.381708",
     "exception": false,
     "start_time": "2023-03-11T21:16:16.357342",
     "status": "completed"
    },
    "tags": []
   },
   "outputs": [],
   "source": [
    "class MultiHeadAttention(tf.keras.layers.Layer):\n",
    "    def __init__(self, embed_dim, h, **kwargs):\n",
    "        super().__init__(**kwargs)\n",
    "        self.embed_dim = embed_dim\n",
    "        self.h = h\n",
    "        if embed_dim % h != 0:\n",
    "            raise ValueError(\n",
    "                f\"dimension of the embedding space = {embed_dim} should be divisible by number of heads = {h}\"\n",
    "            )\n",
    "        self.q_linear = tf.keras.layers.Dense(embed_dim)\n",
    "        self.k_linear = tf.keras.layers.Dense(embed_dim)\n",
    "        self.v_linear = tf.keras.layers.Dense(embed_dim)\n",
    "        self.concat_linear = tf.keras.layers.Dense(embed_dim)\n",
    "\n",
    "    def split_heads(self, x, batch_size):\n",
    "        x = tf.reshape(x, shape=(batch_size, -1, self.h, self.embed_dim // self.h))\n",
    "        return tf.transpose(x, perm=[0, 2, 1, 3])\n",
    "    \n",
    "    def concat_heads(self, x, batch_size):\n",
    "        x = tf.transpose(x, perm=[0, 2, 1, 3])\n",
    "        return tf.reshape(x, (batch_size, -1, self.embed_dim))\n",
    "\n",
    "    def call(self, q, k, v, use_causal_mask=False):\n",
    "        batch_size = tf.shape(k)[0]\n",
    "        q = self.q_linear(q)\n",
    "        k = self.k_linear(k)\n",
    "        v = self.v_linear(v)\n",
    "        q = self.split_heads(q, batch_size)\n",
    "        k = self.split_heads(k, batch_size)\n",
    "        v = self.split_heads(v, batch_size)\n",
    "        attention = scaled_dot_product_attention(q, k, v, use_causal_mask)\n",
    "        concat = self.concat_heads(attention, batch_size)\n",
    "        concat = self.concat_linear(concat)\n",
    "        return concat\n",
    "\n",
    "    def get_config(self):\n",
    "        config = super(MultiHeadAttention, self).get_config()\n",
    "        config.update({\n",
    "            \"embed_dim\": self.embed_dim,\n",
    "            \"h\": self.h,\n",
    "        })\n",
    "        return config"
   ]
  },
  {
   "cell_type": "markdown",
   "id": "aef59d71",
   "metadata": {
    "papermill": {
     "duration": 0.009301,
     "end_time": "2023-03-11T21:16:16.400893",
     "exception": false,
     "start_time": "2023-03-11T21:16:16.391592",
     "status": "completed"
    },
    "tags": []
   },
   "source": [
    "<div style=\"color:#000; display:fill; border-radius:8px; background-color:#000; font-size:125%;\">\n",
    "    <p style=\"padding: 8px 12px 8px 12px; color:#fff;\"><b>The Encoder</b></p>\n",
    "</div>"
   ]
  },
  {
   "cell_type": "markdown",
   "id": "7bdb658a",
   "metadata": {
    "papermill": {
     "duration": 0.009247,
     "end_time": "2023-03-11T21:16:16.419668",
     "exception": false,
     "start_time": "2023-03-11T21:16:16.410421",
     "status": "completed"
    },
    "tags": []
   },
   "source": [
    "[<img src=\"https://raw.githubusercontent.com/nlp-with-transformers/notebooks/main/images/chapter03_encoder-zoom.png\" width=\"400\">](https://github.com/nlp-with-transformers/notebooks/blob/main/03_transformer-anatomy.ipynb)\n",
    "\n",
    "The role of the Encoder is to process the source sentence. Here, no Causal Masking is needed : information is allowed to flow in both directions (words can be aware of words before **and** after them in the sentence).\n",
    "\n",
    "The Encoder's a pretty generic module that ingests a sentence and learns to turn it into a more useful representation. It can also be used by itself (without the Decoder) for Natural Language Understanding (NLU) tasks like Classification or Named Entity Recognition (NER).\n",
    "\n",
    "In the Encoder's Multi-Head Self-Attention layer ([Global self-attention layer](https://www.tensorflow.org/text/tutorials/transformer#the_global_self_attention_layer)), the **Source Vectors Embeddings** are being passed to all three parameters : **Q**uery, **K**ey, and **V**alue."
   ]
  },
  {
   "cell_type": "code",
   "execution_count": 16,
   "id": "3f513888",
   "metadata": {
    "execution": {
     "iopub.execute_input": "2023-03-11T21:16:16.439695Z",
     "iopub.status.busy": "2023-03-11T21:16:16.439419Z",
     "iopub.status.idle": "2023-03-11T21:16:16.450488Z",
     "shell.execute_reply": "2023-03-11T21:16:16.449472Z"
    },
    "papermill": {
     "duration": 0.023479,
     "end_time": "2023-03-11T21:16:16.452570",
     "exception": false,
     "start_time": "2023-03-11T21:16:16.429091",
     "status": "completed"
    },
    "tags": []
   },
   "outputs": [],
   "source": [
    "class TransformerEncoder(tf.keras.layers.Layer):\n",
    "    def __init__(self, embed_dim, dense_dim, num_heads, **kwargs):\n",
    "        super().__init__(**kwargs)\n",
    "        self.embed_dim = embed_dim\n",
    "        self.dense_dim = dense_dim\n",
    "        self.num_heads = num_heads\n",
    "        self.layer_norm_1 = tf.keras.layers.LayerNormalization()\n",
    "        self.layer_norm_2 = tf.keras.layers.LayerNormalization()\n",
    "        self.global_self_attention = MultiHeadAttention(embed_dim=embed_dim, h=num_heads)\n",
    "        self.feed_forward = tf.keras.Sequential(\n",
    "            [tf.keras.layers.Dense(dense_dim, activation=\"relu\"),\n",
    "             tf.keras.layers.Dense(embed_dim),]\n",
    "        )\n",
    "        \n",
    "    def call(self, x):\n",
    "        # Post layer normalization + residual connections\n",
    "        x = self.layer_norm_1(x + self.global_self_attention(q=x, k=x, v=x))\n",
    "        x = self.layer_norm_2(x + self.feed_forward(x))\n",
    "        return x\n",
    "\n",
    "    def get_config(self):\n",
    "        config = super().get_config()\n",
    "        config.update({\n",
    "            \"embed_dim\": self.embed_dim,\n",
    "            \"dense_dim\": self.dense_dim,\n",
    "            \"num_heads\": self.num_heads,\n",
    "        })\n",
    "        return config"
   ]
  },
  {
   "cell_type": "markdown",
   "id": "4cac4a9a",
   "metadata": {
    "papermill": {
     "duration": 0.009332,
     "end_time": "2023-03-11T21:16:16.471316",
     "exception": false,
     "start_time": "2023-03-11T21:16:16.461984",
     "status": "completed"
    },
    "tags": []
   },
   "source": [
    "<div style=\"color:#000; display:fill; border-radius:8px; background-color:#000; font-size:125%;\">\n",
    "    <p style=\"padding: 8px 12px 8px 12px; color:#fff;\"><b>The Decoder</b></p>\n",
    "</div>"
   ]
  },
  {
   "cell_type": "markdown",
   "id": "5334b0d1",
   "metadata": {
    "papermill": {
     "duration": 0.009386,
     "end_time": "2023-03-11T21:16:16.490286",
     "exception": false,
     "start_time": "2023-03-11T21:16:16.480900",
     "status": "completed"
    },
    "tags": []
   },
   "source": [
    "[<img src=\"https://raw.githubusercontent.com/nlp-with-transformers/notebooks/main/images/chapter03_decoder-zoom.png\" width=\"500\">](https://github.com/nlp-with-transformers/notebooks/blob/main/03_transformer-anatomy.ipynb)\n",
    "\n",
    "The role of the Decoder is to look at the target sentence so far and predict the next word in that sentence.\n",
    "\n",
    "Contrary to the Encoder, the Decoder is made of two Attention layers. The first Attention layer does a similar job as the Encoder's sole Attention layer, with the important distinction that here, Causal Masking is enabled because, to correctly train our Transformer to predict the next word based on the current word and the previous words in the sentence, we need to mask the *after-words*. Meanwhile, The second Attention layer is much more straight-forward and basically just acts as a bridge that connects the Encoder to the Decoder.\n",
    "\n",
    "In the Decoder's first Attention layer, the Masked Multi-Head Self-Attention layer ([Causal self-attention layer](https://www.tensorflow.org/text/tutorials/transformer#the_causal_self_attention_layer)), the **Target Vectors Embeddings** are being passed to all three parameters : **Q**uery, **K**ey, and **V**alue. Like mentionned above, Causal Masking is enabled in this layer.\n",
    "\n",
    "In the Decoder's second Attention layer, the Encoder-Decoder Attention layer ([Cross attention layer](https://www.tensorflow.org/text/tutorials/transformer#the_cross_attention_layer)), the **outputs of the Encoder** are being passed to the **K**ey and **V**alue parameters, with the **outputs of the Decoder's Masked Multi-Head Self-Attention layer** being passed to the **Q**uery parameter.\n"
   ]
  },
  {
   "cell_type": "code",
   "execution_count": 17,
   "id": "efd857c3",
   "metadata": {
    "execution": {
     "iopub.execute_input": "2023-03-11T21:16:16.511448Z",
     "iopub.status.busy": "2023-03-11T21:16:16.510675Z",
     "iopub.status.idle": "2023-03-11T21:16:16.521790Z",
     "shell.execute_reply": "2023-03-11T21:16:16.520904Z"
    },
    "papermill": {
     "duration": 0.023884,
     "end_time": "2023-03-11T21:16:16.523763",
     "exception": false,
     "start_time": "2023-03-11T21:16:16.499879",
     "status": "completed"
    },
    "tags": []
   },
   "outputs": [],
   "source": [
    "class TransformerDecoder(tf.keras.layers.Layer):\n",
    "    def __init__(self, embed_dim, dense_dim, num_heads, **kwargs):\n",
    "        super().__init__(**kwargs)\n",
    "        self.embed_dim = embed_dim\n",
    "        self.dense_dim = dense_dim\n",
    "        self.num_heads = num_heads\n",
    "        self.causal_self_attention = MultiHeadAttention(embed_dim=embed_dim, h=num_heads)\n",
    "        self.cross_attention = MultiHeadAttention(embed_dim=embed_dim, h=num_heads)\n",
    "        self.feed_forward = tf.keras.Sequential(\n",
    "            [tf.keras.layers.Dense(dense_dim, activation=\"relu\"),\n",
    "             tf.keras.layers.Dense(embed_dim),]\n",
    "        )\n",
    "        self.layer_norm_1 = tf.keras.layers.LayerNormalization()\n",
    "        self.layer_norm_2 = tf.keras.layers.LayerNormalization()\n",
    "        self.layer_norm_3 = tf.keras.layers.LayerNormalization()\n",
    "\n",
    "    def get_config(self):\n",
    "        config = super().get_config()\n",
    "        config.update({\n",
    "            \"embed_dim\": self.embed_dim,\n",
    "            \"dense_dim\": self.dense_dim,\n",
    "            \"num_heads\": self.num_heads,\n",
    "        })\n",
    "        return config\n",
    "\n",
    "    def call(self, x, context):\n",
    "        # Post layer normalization + residual connections\n",
    "        x = self.layer_norm_1(x + self.causal_self_attention(q=x, k=x, v=x, use_causal_mask=True))\n",
    "        x = self.layer_norm_2(x + self.cross_attention(q=x, k=context, v=context))\n",
    "        x = self.layer_norm_3(x + self.feed_forward(x))\n",
    "        return x"
   ]
  },
  {
   "cell_type": "markdown",
   "id": "53315fb6",
   "metadata": {
    "papermill": {
     "duration": 0.009308,
     "end_time": "2023-03-11T21:16:16.542819",
     "exception": false,
     "start_time": "2023-03-11T21:16:16.533511",
     "status": "completed"
    },
    "tags": []
   },
   "source": [
    "<div style=\"color:#000; display:fill; border-radius:8px; background-color:#000; font-size:125%;\">\n",
    "    <p style=\"padding: 8px 12px 8px 12px; color:#fff;\"><b>Putting it all together</b></p>\n",
    "</div>"
   ]
  },
  {
   "cell_type": "markdown",
   "id": "eff7ddab",
   "metadata": {
    "papermill": {
     "duration": 0.009317,
     "end_time": "2023-03-11T21:16:16.561916",
     "exception": false,
     "start_time": "2023-03-11T21:16:16.552599",
     "status": "completed"
    },
    "tags": []
   },
   "source": [
    "[<img src=\"https://ar5iv.labs.arxiv.org/html/1706.03762/assets/Figures/ModalNet-21.png\" width=\"300\">](https://arxiv.org/abs/1706.03762)\n",
    "\n",
    "We  turn our data into a *tf.data pipeline* that returns a tuple (Inputs, Outputs) where Inputs is a dict with two keys : **encoder_inputs** (the source sentence) and **decoder_inputs** (the target sentence), and Outputs is a single key : **decoder_outputs** (the target sentence \"shifted right\").\n",
    "\n",
    "During training, the fact that our Outputs are offset by one step ahead (\"shifted right\"), combined with the Causal Masking of the Decoder (Masked Multi-Head Attention layer), ensures that the\n",
    "predictions for position *i* can depend only on the known outputs at positions less than *i* (no *after-words* visible).\n",
    "\n",
    "During inference, we'll generate one target word at a time and then feed it back into the Decoder so that it can predict the next word. And so on."
   ]
  },
  {
   "cell_type": "code",
   "execution_count": 18,
   "id": "f3315e28",
   "metadata": {
    "execution": {
     "iopub.execute_input": "2023-03-11T21:16:16.582703Z",
     "iopub.status.busy": "2023-03-11T21:16:16.581946Z",
     "iopub.status.idle": "2023-03-11T21:16:16.837345Z",
     "shell.execute_reply": "2023-03-11T21:16:16.836348Z"
    },
    "papermill": {
     "duration": 0.268342,
     "end_time": "2023-03-11T21:16:16.839869",
     "exception": false,
     "start_time": "2023-03-11T21:16:16.571527",
     "status": "completed"
    },
    "tags": []
   },
   "outputs": [],
   "source": [
    "batch_size = 64\n",
    "\n",
    "def format_dataset(source, target):\n",
    "    source_vectors = source_vectorization(source)\n",
    "    target_vectors = target_vectorization(target)\n",
    "    return ({\n",
    "        \"source\": source_vectors, # encoder_inputs\n",
    "        \"target\": target_vectors[:, :-1], # decoder_inputs (truncate by 1 to keep it at the same length as decoder_outputs, which is shifted right by 1).\n",
    "    }, target_vectors[:, 1:]) # decoder_outputs\n",
    "\n",
    "def make_dataset(df):\n",
    "    dataset = tf.data.Dataset.from_tensor_slices((df[\"source\"].values, df[\"target\"].values))\n",
    "    dataset = dataset.batch(batch_size)\n",
    "    dataset = dataset.map(format_dataset, num_parallel_calls=4)\n",
    "    return dataset.shuffle(2048).prefetch(16).cache()\n",
    "\n",
    "train_ds = make_dataset(train_df)\n",
    "val_ds = make_dataset(val_df)"
   ]
  },
  {
   "cell_type": "code",
   "execution_count": 19,
   "id": "77efcbff",
   "metadata": {
    "execution": {
     "iopub.execute_input": "2023-03-11T21:16:16.861407Z",
     "iopub.status.busy": "2023-03-11T21:16:16.860859Z",
     "iopub.status.idle": "2023-03-11T21:16:17.901338Z",
     "shell.execute_reply": "2023-03-11T21:16:17.900132Z"
    },
    "papermill": {
     "duration": 1.053699,
     "end_time": "2023-03-11T21:16:17.903679",
     "exception": false,
     "start_time": "2023-03-11T21:16:16.849980",
     "status": "completed"
    },
    "tags": []
   },
   "outputs": [
    {
     "name": "stdout",
     "output_type": "stream",
     "text": [
      "Encoder Inputs: (64, 30)\n",
      "Decoder Inputs: (64, 30)\n",
      "Decoder Outputs: (64, 30)\n"
     ]
    }
   ],
   "source": [
    "# display the shape of the first batch of data in the dataset just to see what it looks like\n",
    "for batch in train_ds.take(1):\n",
    "    print(\"Encoder Inputs:\", batch[0][\"source\"].shape)\n",
    "    print(\"Decoder Inputs:\", batch[0][\"target\"].shape)\n",
    "    print(\"Decoder Outputs:\", batch[1].shape)"
   ]
  },
  {
   "cell_type": "markdown",
   "id": "9be54cec",
   "metadata": {
    "papermill": {
     "duration": 0.009675,
     "end_time": "2023-03-11T21:16:17.923413",
     "exception": false,
     "start_time": "2023-03-11T21:16:17.913738",
     "status": "completed"
    },
    "tags": []
   },
   "source": [
    "[<img src=\"https://raw.githubusercontent.com/nlp-with-transformers/notebooks/main/images/chapter03_transformer-encoder-decoder.png\" width=\"600\">](https://github.com/nlp-with-transformers/notebooks/blob/main/03_transformer-anatomy.ipynb)\n"
   ]
  },
  {
   "cell_type": "code",
   "execution_count": 20,
   "id": "35f05fbd",
   "metadata": {
    "execution": {
     "iopub.execute_input": "2023-03-11T21:16:17.945178Z",
     "iopub.status.busy": "2023-03-11T21:16:17.944831Z",
     "iopub.status.idle": "2023-03-11T21:16:19.583132Z",
     "shell.execute_reply": "2023-03-11T21:16:19.582129Z"
    },
    "papermill": {
     "duration": 1.653065,
     "end_time": "2023-03-11T21:16:19.586407",
     "exception": false,
     "start_time": "2023-03-11T21:16:17.933342",
     "status": "completed"
    },
    "tags": []
   },
   "outputs": [],
   "source": [
    "embed_dim = 512 # dimension of the embedding space\n",
    "dense_dim = 2048 # dimension of the feed forward network (a rule of thumb is to use 4 times the size of the embeddings)\n",
    "num_heads = 8\n",
    "\n",
    "# the transformer body\n",
    "encoder_inputs = tf.keras.Input(shape=(None,), dtype=\"int64\", name=\"source\")\n",
    "x = PositionalEmbedding(sequence_length, max_tokens, embed_dim)(encoder_inputs)\n",
    "encoder_outputs = TransformerEncoder(embed_dim, dense_dim, num_heads)(x)\n",
    "decoder_inputs = tf.keras.Input(shape=(None,), dtype=\"int64\", name=\"target\")\n",
    "x = PositionalEmbedding(sequence_length, max_tokens, embed_dim)(decoder_inputs)\n",
    "x = TransformerDecoder(embed_dim, dense_dim, num_heads)(x, encoder_outputs)\n",
    "\n",
    "# the transformer head\n",
    "x = tf.keras.layers.Dropout(0.5)(x)\n",
    "decoder_outputs = tf.keras.layers.Dense(max_tokens, activation=\"softmax\")(x)\n",
    "\n",
    "transformer = tf.keras.Model([encoder_inputs, decoder_inputs], decoder_outputs)"
   ]
  },
  {
   "cell_type": "markdown",
   "id": "4fa4b744",
   "metadata": {
    "papermill": {
     "duration": 0.014633,
     "end_time": "2023-03-11T21:16:19.617500",
     "exception": false,
     "start_time": "2023-03-11T21:16:19.602867",
     "status": "completed"
    },
    "tags": []
   },
   "source": [
    "# Training the Transformer"
   ]
  },
  {
   "cell_type": "code",
   "execution_count": 21,
   "id": "e059938e",
   "metadata": {
    "execution": {
     "iopub.execute_input": "2023-03-11T21:16:19.648313Z",
     "iopub.status.busy": "2023-03-11T21:16:19.647850Z",
     "iopub.status.idle": "2023-03-11T22:49:33.526355Z",
     "shell.execute_reply": "2023-03-11T22:49:33.525131Z"
    },
    "papermill": {
     "duration": 5596.689391,
     "end_time": "2023-03-11T22:49:36.321627",
     "exception": false,
     "start_time": "2023-03-11T21:16:19.632236",
     "status": "completed"
    },
    "tags": []
   },
   "outputs": [
    {
     "name": "stdout",
     "output_type": "stream",
     "text": [
      "Epoch 1/50\n",
      "1921/1921 [==============================] - 237s 118ms/step - loss: 1.0800 - accuracy: 0.8379 - val_loss: 0.6443 - val_accuracy: 0.8931 - lr: 0.0010\n",
      "Epoch 2/50\n",
      "1921/1921 [==============================] - 212s 110ms/step - loss: 0.5977 - accuracy: 0.8988 - val_loss: 0.5123 - val_accuracy: 0.9083 - lr: 0.0010\n",
      "Epoch 3/50\n",
      "1921/1921 [==============================] - 213s 111ms/step - loss: 0.4834 - accuracy: 0.9125 - val_loss: 0.4640 - val_accuracy: 0.9154 - lr: 0.0010\n",
      "Epoch 4/50\n",
      "1921/1921 [==============================] - 213s 111ms/step - loss: 0.4200 - accuracy: 0.9205 - val_loss: 0.4444 - val_accuracy: 0.9193 - lr: 0.0010\n",
      "Epoch 5/50\n",
      "1921/1921 [==============================] - 212s 110ms/step - loss: 0.3747 - accuracy: 0.9267 - val_loss: 0.4446 - val_accuracy: 0.9201 - lr: 0.0010\n",
      "Epoch 6/50\n",
      "1921/1921 [==============================] - 213s 111ms/step - loss: 0.3394 - accuracy: 0.9318 - val_loss: 0.4299 - val_accuracy: 0.9230 - lr: 0.0010\n",
      "Epoch 7/50\n",
      "1921/1921 [==============================] - 213s 111ms/step - loss: 0.3112 - accuracy: 0.9360 - val_loss: 0.4264 - val_accuracy: 0.9236 - lr: 0.0010\n",
      "Epoch 8/50\n",
      "1921/1921 [==============================] - 212s 110ms/step - loss: 0.2872 - accuracy: 0.9399 - val_loss: 0.4260 - val_accuracy: 0.9257 - lr: 0.0010\n",
      "Epoch 9/50\n",
      "1921/1921 [==============================] - 212s 110ms/step - loss: 0.2663 - accuracy: 0.9432 - val_loss: 0.4296 - val_accuracy: 0.9260 - lr: 0.0010\n",
      "Epoch 10/50\n",
      "1921/1921 [==============================] - 214s 111ms/step - loss: 0.2485 - accuracy: 0.9462 - val_loss: 0.4340 - val_accuracy: 0.9258 - lr: 0.0010\n",
      "Epoch 11/50\n",
      "1921/1921 [==============================] - 214s 112ms/step - loss: 0.2313 - accuracy: 0.9492 - val_loss: 0.4301 - val_accuracy: 0.9276 - lr: 0.0010\n",
      "Epoch 12/50\n",
      "1921/1921 [==============================] - 216s 112ms/step - loss: 0.1592 - accuracy: 0.9618 - val_loss: 0.3710 - val_accuracy: 0.9351 - lr: 1.0000e-04\n",
      "Epoch 13/50\n",
      "1921/1921 [==============================] - 216s 112ms/step - loss: 0.1315 - accuracy: 0.9669 - val_loss: 0.3676 - val_accuracy: 0.9358 - lr: 1.0000e-04\n",
      "Epoch 14/50\n",
      "1921/1921 [==============================] - 216s 112ms/step - loss: 0.1196 - accuracy: 0.9692 - val_loss: 0.3676 - val_accuracy: 0.9360 - lr: 1.0000e-04\n",
      "Epoch 15/50\n",
      "1921/1921 [==============================] - 214s 112ms/step - loss: 0.1117 - accuracy: 0.9710 - val_loss: 0.3682 - val_accuracy: 0.9361 - lr: 1.0000e-04\n",
      "Epoch 16/50\n",
      "1921/1921 [==============================] - 214s 112ms/step - loss: 0.1051 - accuracy: 0.9723 - val_loss: 0.3697 - val_accuracy: 0.9362 - lr: 1.0000e-04\n",
      "Epoch 17/50\n",
      "1921/1921 [==============================] - 215s 112ms/step - loss: 0.0974 - accuracy: 0.9739 - val_loss: 0.3680 - val_accuracy: 0.9365 - lr: 1.0000e-05\n",
      "Epoch 18/50\n",
      "1921/1921 [==============================] - 216s 112ms/step - loss: 0.0956 - accuracy: 0.9743 - val_loss: 0.3676 - val_accuracy: 0.9366 - lr: 1.0000e-05\n",
      "Epoch 19/50\n",
      "1921/1921 [==============================] - 215s 112ms/step - loss: 0.0947 - accuracy: 0.9745 - val_loss: 0.3675 - val_accuracy: 0.9365 - lr: 1.0000e-05\n",
      "Epoch 20/50\n",
      "1921/1921 [==============================] - 215s 112ms/step - loss: 0.0938 - accuracy: 0.9747 - val_loss: 0.3677 - val_accuracy: 0.9365 - lr: 1.0000e-05\n",
      "Epoch 21/50\n",
      "1921/1921 [==============================] - 214s 111ms/step - loss: 0.0932 - accuracy: 0.9748 - val_loss: 0.3678 - val_accuracy: 0.9365 - lr: 1.0000e-05\n",
      "Epoch 22/50\n",
      "1921/1921 [==============================] - 214s 112ms/step - loss: 0.0924 - accuracy: 0.9749 - val_loss: 0.3679 - val_accuracy: 0.9365 - lr: 1.0000e-05\n",
      "Epoch 23/50\n",
      "1921/1921 [==============================] - 214s 112ms/step - loss: 0.0917 - accuracy: 0.9752 - val_loss: 0.3678 - val_accuracy: 0.9366 - lr: 1.0000e-06\n",
      "Epoch 24/50\n",
      "1921/1921 [==============================] - 215s 112ms/step - loss: 0.0915 - accuracy: 0.9752 - val_loss: 0.3677 - val_accuracy: 0.9366 - lr: 1.0000e-06\n",
      "Epoch 25/50\n",
      "1921/1921 [==============================] - 214s 111ms/step - loss: 0.0914 - accuracy: 0.9752 - val_loss: 0.3677 - val_accuracy: 0.9366 - lr: 1.0000e-06\n"
     ]
    },
    {
     "data": {
      "text/plain": [
       "<tensorflow.python.checkpoint.checkpoint.CheckpointLoadStatus at 0x7fdbaef6b710>"
      ]
     },
     "execution_count": 21,
     "metadata": {},
     "output_type": "execute_result"
    }
   ],
   "source": [
    "transformer.compile(\n",
    "    optimizer=\"rmsprop\",\n",
    "    loss=\"sparse_categorical_crossentropy\",\n",
    "    metrics=[\"accuracy\"])\n",
    "\n",
    "EPOCHS = 50\n",
    "checkpoint_filepath = '/tmp/checkpoint/'\n",
    "callbacks_list = [\n",
    "    tf.keras.callbacks.ReduceLROnPlateau(\n",
    "        monitor='val_loss',\n",
    "        factor=0.1,\n",
    "        patience=3,\n",
    "    ),\n",
    "    tf.keras.callbacks.EarlyStopping(\n",
    "        monitor='val_loss',\n",
    "        patience=6,\n",
    "    ),\n",
    "    tf.keras.callbacks.ModelCheckpoint(\n",
    "        filepath=checkpoint_filepath,\n",
    "        save_weights_only=True,\n",
    "        monitor='val_loss',\n",
    "        mode='min',\n",
    "        save_best_only=True\n",
    "    ),\n",
    "]\n",
    "    \n",
    "transformer.fit(train_ds, \n",
    "                epochs=EPOCHS, \n",
    "                callbacks=callbacks_list,\n",
    "                validation_data=val_ds)\n",
    "\n",
    "transformer.load_weights(checkpoint_filepath)"
   ]
  },
  {
   "cell_type": "markdown",
   "id": "ea6ae7fd",
   "metadata": {
    "papermill": {
     "duration": 2.824481,
     "end_time": "2023-03-11T22:49:42.234058",
     "exception": false,
     "start_time": "2023-03-11T22:49:39.409577",
     "status": "completed"
    },
    "tags": []
   },
   "source": [
    "# Testing the Transformer"
   ]
  },
  {
   "cell_type": "markdown",
   "id": "e3f3e482",
   "metadata": {
    "papermill": {
     "duration": 3.027052,
     "end_time": "2023-03-11T22:49:48.197292",
     "exception": false,
     "start_time": "2023-03-11T22:49:45.170240",
     "status": "completed"
    },
    "tags": []
   },
   "source": [
    "Let's translate a few random test sentences with our newly-trained Transformer."
   ]
  },
  {
   "cell_type": "code",
   "execution_count": 22,
   "id": "0e7a4264",
   "metadata": {
    "execution": {
     "iopub.execute_input": "2023-03-11T22:49:53.787024Z",
     "iopub.status.busy": "2023-03-11T22:49:53.786670Z",
     "iopub.status.idle": "2023-03-11T22:50:13.522173Z",
     "shell.execute_reply": "2023-03-11T22:50:13.520854Z"
    },
    "papermill": {
     "duration": 22.5185,
     "end_time": "2023-03-11T22:50:13.524481",
     "exception": false,
     "start_time": "2023-03-11T22:49:51.005981",
     "status": "completed"
    },
    "tags": []
   },
   "outputs": [
    {
     "name": "stdout",
     "output_type": "stream",
     "text": [
      "I have to paint it.\n",
      "[start] je dois le peindre [end]\n",
      "\n",
      "I'll check in.\n",
      "[start] je vais vérifier par chèque [end]\n",
      "\n",
      "We like Tom.\n",
      "[start] nous aimons tom [end]\n",
      "\n",
      "No one understood.\n",
      "[start] personne na compris [end]\n",
      "\n",
      "If you want one, you'll have to find your own.\n",
      "[start] si tu en veux un il te faudra trouver ton propre [end]\n",
      "\n",
      "Everyone screamed.\n",
      "[start] tout le monde a crié [end]\n",
      "\n",
      "I wouldn't want to miss this.\n",
      "[start] je ne voudrais pas manquer ça [end]\n",
      "\n",
      "Somebody answered.\n",
      "[start] quelquun répondit [end]\n",
      "\n",
      "There were too many of them.\n",
      "[start] il y en avait trop [end]\n",
      "\n",
      "I'll be back in a few months.\n",
      "[start] je serai de retour dans quelques mois [end]\n",
      "\n",
      "You should call your parents more often.\n",
      "[start] tu devrais appeler tes parents plus souvent [end]\n",
      "\n",
      "He's away on business.\n",
      "[start] il est parti en affaires [end]\n",
      "\n",
      "Take a chance.\n",
      "[start] prenez une chance [end]\n",
      "\n",
      "We're lucky to be alive.\n",
      "[start] nous sommes chanceux dêtre en vie [end]\n",
      "\n",
      "You're incredible.\n",
      "[start] vous êtes incroyable [end]\n",
      "\n",
      "Do what I say.\n",
      "[start] fais ce que je dis [end]\n",
      "\n",
      "Help me.\n",
      "[start] aidemoi [end]\n",
      "\n",
      "The game starts at two tomorrow afternoon.\n",
      "[start] la partie commence à [UNK] demain aprèsmidi [end]\n",
      "\n",
      "Where are you?\n",
      "[start] où estu [end]\n",
      "\n",
      "He's about to leave.\n",
      "[start] il est sur le point de partir [end]\n",
      "\n",
      "How's your boy doing?\n",
      "[start] comment va ton garçon [end]\n",
      "\n",
      "I stopped listening to the radio.\n",
      "[start] jai arrêté de écouter la radio [end]\n",
      "\n",
      "Stop bragging.\n",
      "[start] arrête de te vanter [end]\n",
      "\n",
      "Can anyone translate this sentence?\n",
      "[start] quelquun peutil traduire cette phrase [end]\n",
      "\n",
      "She has some literary talent.\n",
      "[start] elle a un talent [UNK] [end]\n",
      "\n",
      "Tom must be wrong.\n",
      "[start] tom doit avoir tort [end]\n",
      "\n",
      "He is likely to win the game.\n",
      "[start] il est probable quil gagne la partie [end]\n",
      "\n",
      "The dog barked at Tom.\n",
      "[start] le chien aboya tom [end]\n",
      "\n",
      "Tom and Mary are on a cruise.\n",
      "[start] tom et mary sont sur un [UNK] [end]\n",
      "\n",
      "The latest issue of the magazine will come out next Monday.\n",
      "[start] les dernières dernières problème par magazine [UNK] [end]\n",
      "\n",
      "I never dreamed of seeing you here.\n",
      "[start] je naurais jamais rêvé de vous voir ici [end]\n",
      "\n",
      "I'll have to think about it.\n",
      "[start] je vais y réfléchir [end]\n",
      "\n",
      "Tom knows the game is over.\n",
      "[start] tom connaît le jeu [end]\n",
      "\n",
      "That would be one reason.\n",
      "[start] ce serait une raison [end]\n",
      "\n",
      "I couldn't take that risk.\n",
      "[start] je ne pourrais pas prendre ce risque [end]\n",
      "\n",
      "Tom watched Mary as she slept.\n",
      "[start] tom regarda mary a dormi [end]\n",
      "\n",
      "Look at that bird.\n",
      "[start] regarde cet oiseau [end]\n",
      "\n",
      "What year were you born?\n",
      "[start] en quelle année êtesvous née [end]\n",
      "\n",
      "He's much more into her than she is into him.\n",
      "[start] il est bien plus quelle ne lest quelle ne lui [end]\n",
      "\n",
      "The weather forecast is not necessarily reliable.\n",
      "[start] le bulletin météo nest pas nécessairement [end]\n",
      "\n",
      "I just got a little carried away.\n",
      "[start] je me suis un petit peu laissée emporter [end]\n",
      "\n",
      "I liked working with you.\n",
      "[start] jai apprécié de travailler avec vous [end]\n",
      "\n",
      "I hope you won't be disappointed.\n",
      "[start] jespère que vous ne serez pas déçu [end]\n",
      "\n",
      "The train got in on time.\n",
      "[start] le train est arrivé à temps [end]\n",
      "\n",
      "Do you want a cab?\n",
      "[start] voulezvous un taxi  [end]\n",
      "\n",
      "That makes no sense.\n",
      "[start] Ça na pas de sens [end]\n",
      "\n",
      "I'll never agree to do that.\n",
      "[start] je ne suis jamais daccord pour faire ça [end]\n",
      "\n",
      "I figured that you weren't coming.\n",
      "[start] je me suis imaginé que tu ne venais pas [end]\n",
      "\n",
      "Are you real sure about that?\n",
      "[start] en êtesvous vraiment sûrs [end]\n",
      "\n",
      "He took out some coins.\n",
      "[start] il sortit quelques pièces [end]\n",
      "\n"
     ]
    }
   ],
   "source": [
    "target_vocab = target_vectorization.get_vocabulary()\n",
    "target_index_lookup = dict(zip(range(len(target_vocab)), target_vocab))\n",
    "max_decoded_sentence_length = 30\n",
    "\n",
    "def decode_sequence(input_sentence):\n",
    "    tokenized_input_sentence = source_vectorization([input_sentence])\n",
    "    decoded_sentence = \"[start]\"\n",
    "    for i in range(max_decoded_sentence_length):\n",
    "        tokenized_target_sentence = target_vectorization(\n",
    "            [decoded_sentence])[:, :-1]\n",
    "        predictions = transformer(\n",
    "            [tokenized_input_sentence, tokenized_target_sentence])\n",
    "        sampled_token_index = np.argmax(predictions[0, i, :])\n",
    "        sampled_token = target_index_lookup[sampled_token_index]\n",
    "        decoded_sentence += \" \" + sampled_token\n",
    "        if sampled_token == \"[end]\":\n",
    "            break\n",
    "    return decoded_sentence\n",
    "\n",
    "# let's translate 50 random sentences\n",
    "for i in range(50):\n",
    "    random_index = np.random.randint(0, len(test_df))\n",
    "    input_sentence = test_df[\"source\"].iloc[random_index]\n",
    "    print(input_sentence)\n",
    "    print(decode_sequence(input_sentence))\n",
    "    print()"
   ]
  },
  {
   "cell_type": "markdown",
   "id": "fd9e1689",
   "metadata": {
    "papermill": {
     "duration": 2.956276,
     "end_time": "2023-03-11T22:50:19.334117",
     "exception": false,
     "start_time": "2023-03-11T22:50:16.377841",
     "status": "completed"
    },
    "tags": []
   },
   "source": [
    "# Credits and stuff\n",
    "\n",
    "- https://arxiv.org/abs/1706.03762\n",
    "\n",
    "- https://www.tensorflow.org/text/tutorials/transformer\n",
    "\n",
    "- https://github.com/openai/gpt-2/blob/master/src/model.py\n",
    "\n",
    "- https://github.com/karpathy/minGPT/blob/master/mingpt/model.py\n",
    "\n",
    "- https://livebook.manning.com/book/deep-learning-with-python-second-edition/chapter-11\n",
    "\n",
    "    - https://github.com/fchollet/deep-learning-with-python-notebooks/blob/master/chapter11_part03_transformer.ipynb\n",
    "\n",
    "    - https://github.com/fchollet/deep-learning-with-python-notebooks/blob/master/chapter11_part04_sequence-to-sequence-learning.ipynb\n",
    "\n",
    "- https://www.oreilly.com/library/view/natural-language-processing/9781098136789/ch03.html\n",
    "\n",
    "    - https://github.com/nlp-with-transformers/notebooks/blob/main/03_transformer-anatomy.ipynb"
   ]
  }
 ],
 "metadata": {
  "kernelspec": {
   "display_name": "Python 3",
   "language": "python",
   "name": "python3"
  },
  "language_info": {
   "codemirror_mode": {
    "name": "ipython",
    "version": 3
   },
   "file_extension": ".py",
   "mimetype": "text/x-python",
   "name": "python",
   "nbconvert_exporter": "python",
   "pygments_lexer": "ipython3",
   "version": "3.7.12"
  },
  "papermill": {
   "default_parameters": {},
   "duration": 5693.346436,
   "end_time": "2023-03-11T22:50:26.592976",
   "environment_variables": {},
   "exception": null,
   "input_path": "__notebook__.ipynb",
   "output_path": "__notebook__.ipynb",
   "parameters": {},
   "start_time": "2023-03-11T21:15:33.246540",
   "version": "2.4.0"
  }
 },
 "nbformat": 4,
 "nbformat_minor": 5
}
