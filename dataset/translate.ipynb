{
 "cells": [
  {
   "cell_type": "code",
   "execution_count": 1,
   "metadata": {},
   "outputs": [
    {
     "name": "stderr",
     "output_type": "stream",
     "text": [
      "/tmp/ipykernel_1230519/1412947759.py:3: DeprecationWarning: \n",
      "Pyarrow will become a required dependency of pandas in the next major release of pandas (pandas 3.0),\n",
      "(to allow more performant data types, such as the Arrow string type, and better interoperability with other libraries)\n",
      "but was not found to be installed on your system.\n",
      "If this would cause problems for you,\n",
      "please provide us feedback at https://github.com/pandas-dev/pandas/issues/54466\n",
      "        \n",
      "  import pandas as pd\n"
     ]
    }
   ],
   "source": [
    "from pathlib import Path\n",
    "from tqdm import tqdm\n",
    "import pandas as pd\n",
    "import numpy as np\n",
    "\n",
    "from argos import translate"
   ]
  },
  {
   "attachments": {},
   "cell_type": "markdown",
   "metadata": {},
   "source": [
    "## Split into parts"
   ]
  },
  {
   "cell_type": "code",
   "execution_count": 3,
   "metadata": {},
   "outputs": [],
   "source": [
    "data = pd.read_csv('../data/en-fr.csv', dtype={'en': 'string', 'pl': 'string'}, na_values=[\"\"])\n",
    "data['fr'] = ''\n",
    "data = data.rename(columns={'fr': 'pl'})\n",
    "data = data.dropna(how='any', subset=['en'])"
   ]
  },
  {
   "cell_type": "code",
   "execution_count": 14,
   "metadata": {},
   "outputs": [],
   "source": [
    "def split_dataframe(df, n):\n",
    "    rows_per_dataframe = len(df) // n\n",
    "    indices = np.arange(0, len(df), rows_per_dataframe)\n",
    "    split_dataframes = [df.iloc[i:i+rows_per_dataframe] for i in indices]\n",
    "    return split_dataframes"
   ]
  },
  {
   "cell_type": "code",
   "execution_count": 15,
   "metadata": {},
   "outputs": [],
   "source": [
    "parts = split_dataframe(data, 10)\n",
    "for idx, part in enumerate(parts):\n",
    "    part.to_csv(f'../data/en-pl-{idx}.csv', index=False)"
   ]
  },
  {
   "attachments": {},
   "cell_type": "markdown",
   "metadata": {},
   "source": [
    "## Translate single part"
   ]
  },
  {
   "cell_type": "code",
   "execution_count": 22,
   "metadata": {},
   "outputs": [],
   "source": [
    "def translate_part(part_path, save_interval=1000):\n",
    "    data = pd.read_csv(part_path, dtype={'en': 'string', 'pl': 'string'}, na_values=[\"\"])\n",
    "    for i, row in tqdm(data.iterrows(), total=len(data)):\n",
    "        if not pd.isna(row['pl']):\n",
    "            # skip if translation is already done\n",
    "            continue\n",
    "        try:\n",
    "            data.at[i, 'pl'] = translate(row['en'])\n",
    "        except Exception:\n",
    "            print('Error while translating', repr(row['en']))\n",
    "        \n",
    "        if i % save_interval == 0:\n",
    "            data.to_csv(part_path, index=False)"
   ]
  },
  {
   "cell_type": "code",
   "execution_count": null,
   "metadata": {},
   "outputs": [],
   "source": [
    "translate_part('../data/en-pl-2.csv')"
   ]
  },
  {
   "attachments": {},
   "cell_type": "markdown",
   "metadata": {},
   "source": [
    "## Join parts"
   ]
  },
  {
   "cell_type": "code",
   "execution_count": 6,
   "metadata": {},
   "outputs": [],
   "source": [
    "def join(parts_dir, output_path):\n",
    "    parts_paths = list(sorted(Path(parts_dir).glob('en-pl-*.csv'), key=lambda p: p.name))\n",
    "    parts = []\n",
    "    for path in tqdm(parts_paths):\n",
    "        part = pd.read_csv(path, dtype={'en': 'string', 'pl': 'string'}, na_values=[\"\"])\n",
    "        part = part[~part['pl'].isna()]\n",
    "        parts.append(part)\n",
    "    joined = pd.concat(parts)\n",
    "    joined.to_csv(output_path, index=False)\n",
    "    return joined"
   ]
  },
  {
   "cell_type": "code",
   "execution_count": 7,
   "metadata": {},
   "outputs": [
    {
     "name": "stderr",
     "output_type": "stream",
     "text": [
      "100%|██████████| 10/10 [00:41<00:00,  4.15s/it]\n"
     ]
    }
   ],
   "source": [
    "joined = join('../data', '../data/en-pl.csv')"
   ]
  },
  {
   "cell_type": "code",
   "execution_count": 9,
   "metadata": {},
   "outputs": [
    {
     "data": {
      "text/html": [
       "<div>\n",
       "<style scoped>\n",
       "    .dataframe tbody tr th:only-of-type {\n",
       "        vertical-align: middle;\n",
       "    }\n",
       "\n",
       "    .dataframe tbody tr th {\n",
       "        vertical-align: top;\n",
       "    }\n",
       "\n",
       "    .dataframe thead th {\n",
       "        text-align: right;\n",
       "    }\n",
       "</style>\n",
       "<table border=\"1\" class=\"dataframe\">\n",
       "  <thead>\n",
       "    <tr style=\"text-align: right;\">\n",
       "      <th></th>\n",
       "      <th>en</th>\n",
       "      <th>pl</th>\n",
       "    </tr>\n",
       "  </thead>\n",
       "  <tbody>\n",
       "    <tr>\n",
       "      <th>0</th>\n",
       "      <td>Changing Lives | Changing Society | How It Wor...</td>\n",
       "      <td>Zmiana życia 124; Zmiana społeczeństwa 124; Ja...</td>\n",
       "    </tr>\n",
       "    <tr>\n",
       "      <th>1</th>\n",
       "      <td>Site map</td>\n",
       "      <td>Mapa strony</td>\n",
       "    </tr>\n",
       "    <tr>\n",
       "      <th>2</th>\n",
       "      <td>Feedback</td>\n",
       "      <td>Informacje zwrotne</td>\n",
       "    </tr>\n",
       "    <tr>\n",
       "      <th>3</th>\n",
       "      <td>Credits</td>\n",
       "      <td>Kredyty</td>\n",
       "    </tr>\n",
       "    <tr>\n",
       "      <th>4</th>\n",
       "      <td>Français</td>\n",
       "      <td>Français</td>\n",
       "    </tr>\n",
       "  </tbody>\n",
       "</table>\n",
       "</div>"
      ],
      "text/plain": [
       "                                                  en  \\\n",
       "0  Changing Lives | Changing Society | How It Wor...   \n",
       "1                                           Site map   \n",
       "2                                           Feedback   \n",
       "3                                            Credits   \n",
       "4                                           Français   \n",
       "\n",
       "                                                  pl  \n",
       "0  Zmiana życia 124; Zmiana społeczeństwa 124; Ja...  \n",
       "1                                        Mapa strony  \n",
       "2                                 Informacje zwrotne  \n",
       "3                                            Kredyty  \n",
       "4                                           Français  "
      ]
     },
     "execution_count": 9,
     "metadata": {},
     "output_type": "execute_result"
    }
   ],
   "source": [
    "joined.head()"
   ]
  }
 ],
 "metadata": {
  "kernelspec": {
   "display_name": "transformer-translate",
   "language": "python",
   "name": "python3"
  },
  "language_info": {
   "codemirror_mode": {
    "name": "ipython",
    "version": 3
   },
   "file_extension": ".py",
   "mimetype": "text/x-python",
   "name": "python",
   "nbconvert_exporter": "python",
   "pygments_lexer": "ipython3",
   "version": "3.10.9"
  },
  "orig_nbformat": 4
 },
 "nbformat": 4,
 "nbformat_minor": 2
}
