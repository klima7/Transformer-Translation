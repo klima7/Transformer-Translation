{
 "cells": [
  {
   "cell_type": "code",
   "execution_count": 2,
   "metadata": {},
   "outputs": [],
   "source": [
    "from tqdm import tqdm\n",
    "import pandas as pd\n",
    "import numpy as np\n",
    "\n",
    "from argos import translate"
   ]
  },
  {
   "attachments": {},
   "cell_type": "markdown",
   "metadata": {},
   "source": [
    "## Split into parts"
   ]
  },
  {
   "cell_type": "code",
   "execution_count": 3,
   "metadata": {},
   "outputs": [],
   "source": [
    "data = pd.read_csv('../data/en-fr.csv', dtype={'en': str, 'pl': str}, na_values=[\"\"])\n",
    "data['fr'] = ''\n",
    "data = data.rename(columns={'fr': 'pl'})\n",
    "data = data.dropna(how='any', subset=['en'])"
   ]
  },
  {
   "cell_type": "code",
   "execution_count": 14,
   "metadata": {},
   "outputs": [],
   "source": [
    "def split_dataframe(df, n):\n",
    "    rows_per_dataframe = len(df) // n\n",
    "    indices = np.arange(0, len(df), rows_per_dataframe)\n",
    "    split_dataframes = [df.iloc[i:i+rows_per_dataframe] for i in indices]\n",
    "    return split_dataframes"
   ]
  },
  {
   "cell_type": "code",
   "execution_count": 15,
   "metadata": {},
   "outputs": [],
   "source": [
    "parts = split_dataframe(data, 10)\n",
    "for idx, part in enumerate(parts):\n",
    "    part.to_csv(f'../data/en-pl-{idx}.csv', index=False)"
   ]
  },
  {
   "attachments": {},
   "cell_type": "markdown",
   "metadata": {},
   "source": [
    "## Translate single part"
   ]
  },
  {
   "cell_type": "code",
   "execution_count": 19,
   "metadata": {},
   "outputs": [],
   "source": [
    "def translate_part(part_path, save_interval=1000):\n",
    "    data = pd.read_csv(part_path)\n",
    "    for i, row in tqdm(data.iterrows(), total=len(data)):\n",
    "        try:\n",
    "            data.at[i, 'pl'] = translate(row['en'])\n",
    "        except Exception:\n",
    "            print('Error while translating', repr(row['en']))\n",
    "        \n",
    "        if i % save_interval == 0:\n",
    "            data.to_csv(part_path)"
   ]
  },
  {
   "cell_type": "code",
   "execution_count": 20,
   "metadata": {},
   "outputs": [
    {
     "name": "stderr",
     "output_type": "stream",
     "text": [
      "  0%|          | 0/2252029 [00:00<?, ?it/s]/tmp/ipykernel_130215/1408812263.py:5: FutureWarning: Setting an item of incompatible dtype is deprecated and will raise an error in a future version of pandas. Value 'Zmiana życia 124; Zmiana społeczeństwa 124; Jak to działa 124; Technologia Drives Change Home 124; Koncepcje 124; Nauczyciele 124; Wyszukiwanie 124; Przegląd 124; Kredyty 124; HHCC Web 124; Reference 124; Odniesienie Wirtualne Muzeum Kanady Strona główna' has dtype incompatible with float64, please explicitly cast to a compatible dtype first.\n",
      "  data.at[i, 'pl'] = translate(row['en'])\n",
      "  0%|          | 810/2252029 [00:45<30:55:01, 20.23it/s]"
     ]
    }
   ],
   "source": [
    "translate_part('../data/en-pl-0.csv')"
   ]
  },
  {
   "attachments": {},
   "cell_type": "markdown",
   "metadata": {},
   "source": [
    "## Join parts"
   ]
  },
  {
   "cell_type": "code",
   "execution_count": null,
   "metadata": {},
   "outputs": [],
   "source": [
    "# TODO"
   ]
  }
 ],
 "metadata": {
  "kernelspec": {
   "display_name": "transformer-translate",
   "language": "python",
   "name": "python3"
  },
  "language_info": {
   "codemirror_mode": {
    "name": "ipython",
    "version": 3
   },
   "file_extension": ".py",
   "mimetype": "text/x-python",
   "name": "python",
   "nbconvert_exporter": "python",
   "pygments_lexer": "ipython3",
   "version": "3.10.9"
  },
  "orig_nbformat": 4
 },
 "nbformat": 4,
 "nbformat_minor": 2
}
