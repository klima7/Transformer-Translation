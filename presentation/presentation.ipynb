{
 "cells": [
  {
   "attachments": {},
   "cell_type": "markdown",
   "id": "3056ef21",
   "metadata": {},
   "source": [
    "# Tłumaczenie Transformerem\n",
    "\n",
    "![Alt text](image-1.png)"
   ]
  },
  {
   "cell_type": "code",
   "execution_count": 1,
   "id": "e491dc58",
   "metadata": {
    "execution": {
     "iopub.execute_input": "2023-03-11T21:15:41.750311Z",
     "iopub.status.busy": "2023-03-11T21:15:41.749655Z",
     "iopub.status.idle": "2023-03-11T21:15:48.333591Z",
     "shell.execute_reply": "2023-03-11T21:15:48.332497Z"
    },
    "papermill": {
     "duration": 6.595399,
     "end_time": "2023-03-11T21:15:48.336261",
     "exception": false,
     "start_time": "2023-03-11T21:15:41.740862",
     "status": "completed"
    },
    "tags": []
   },
   "outputs": [
    {
     "name": "stderr",
     "output_type": "stream",
     "text": [
      "/tmp/ipykernel_1961869/3492076321.py:4: DeprecationWarning: \n",
      "Pyarrow will become a required dependency of pandas in the next major release of pandas (pandas 3.0),\n",
      "(to allow more performant data types, such as the Arrow string type, and better interoperability with other libraries)\n",
      "but was not found to be installed on your system.\n",
      "If this would cause problems for you,\n",
      "please provide us feedback at https://github.com/pandas-dev/pandas/issues/54466\n",
      "        \n",
      "  import pandas as pd\n"
     ]
    },
    {
     "ename": "ModuleNotFoundError",
     "evalue": "No module named 'matplotlib'",
     "output_type": "error",
     "traceback": [
      "\u001b[0;31m---------------------------------------------------------------------------\u001b[0m",
      "\u001b[0;31mModuleNotFoundError\u001b[0m                       Traceback (most recent call last)",
      "Cell \u001b[0;32mIn[1], line 6\u001b[0m\n\u001b[1;32m      4\u001b[0m \u001b[39mimport\u001b[39;00m \u001b[39mpandas\u001b[39;00m \u001b[39mas\u001b[39;00m \u001b[39mpd\u001b[39;00m\n\u001b[1;32m      5\u001b[0m \u001b[39mimport\u001b[39;00m \u001b[39mrandom\u001b[39;00m\n\u001b[0;32m----> 6\u001b[0m \u001b[39mimport\u001b[39;00m \u001b[39mmatplotlib\u001b[39;00m\u001b[39m.\u001b[39;00m\u001b[39mpyplot\u001b[39;00m \u001b[39mas\u001b[39;00m \u001b[39mplt\u001b[39;00m\n\u001b[1;32m      7\u001b[0m \u001b[39mimport\u001b[39;00m \u001b[39mtensorflow\u001b[39;00m \u001b[39mas\u001b[39;00m \u001b[39mtf\u001b[39;00m\n\u001b[1;32m      8\u001b[0m \u001b[39mimport\u001b[39;00m \u001b[39mstring\u001b[39;00m\n",
      "\u001b[0;31mModuleNotFoundError\u001b[0m: No module named 'matplotlib'"
     ]
    }
   ],
   "source": [
    "import os\n",
    "import datetime\n",
    "import pickle\n",
    "import pandas as pd\n",
    "import random\n",
    "import matplotlib.pyplot as plt\n",
    "import tensorflow as tf\n",
    "import string\n",
    "import re\n",
    "import numpy as np"
   ]
  },
  {
   "cell_type": "code",
   "execution_count": 4,
   "id": "2fcd4a01",
   "metadata": {},
   "outputs": [],
   "source": [
    "max_tokens = 25_000\n",
    "sequence_length = 30"
   ]
  },
  {
   "attachments": {},
   "cell_type": "markdown",
   "id": "68f9ec5f",
   "metadata": {
    "papermill": {
     "duration": 0.007735,
     "end_time": "2023-03-11T21:15:48.557506",
     "exception": false,
     "start_time": "2023-03-11T21:15:48.549771",
     "status": "completed"
    },
    "tags": []
   },
   "source": [
    "# Przygotowanie danych\n",
    "![Alt text](image.png)"
   ]
  },
  {
   "attachments": {},
   "cell_type": "markdown",
   "id": "623e2ed2",
   "metadata": {},
   "source": [
    "## Wczytanie"
   ]
  },
  {
   "cell_type": "code",
   "execution_count": 5,
   "id": "85ddef18",
   "metadata": {
    "execution": {
     "iopub.execute_input": "2023-03-11T21:15:48.590891Z",
     "iopub.status.busy": "2023-03-11T21:15:48.589444Z",
     "iopub.status.idle": "2023-03-11T21:15:49.100476Z",
     "shell.execute_reply": "2023-03-11T21:15:49.099058Z"
    },
    "papermill": {
     "duration": 0.522132,
     "end_time": "2023-03-11T21:15:49.102834",
     "exception": false,
     "start_time": "2023-03-11T21:15:48.580702",
     "status": "completed"
    },
    "tags": []
   },
   "outputs": [
    {
     "data": {
      "text/html": [
       "<div>\n",
       "<style scoped>\n",
       "    .dataframe tbody tr th:only-of-type {\n",
       "        vertical-align: middle;\n",
       "    }\n",
       "\n",
       "    .dataframe tbody tr th {\n",
       "        vertical-align: top;\n",
       "    }\n",
       "\n",
       "    .dataframe thead th {\n",
       "        text-align: right;\n",
       "    }\n",
       "</style>\n",
       "<table border=\"1\" class=\"dataframe\">\n",
       "  <thead>\n",
       "    <tr style=\"text-align: right;\">\n",
       "      <th></th>\n",
       "      <th>source</th>\n",
       "      <th>target</th>\n",
       "    </tr>\n",
       "  </thead>\n",
       "  <tbody>\n",
       "    <tr>\n",
       "      <th>1180750</th>\n",
       "      <td>Box 56A Town / Prov:</td>\n",
       "      <td>[start] Box 56A Town/Prov: [end]</td>\n",
       "    </tr>\n",
       "    <tr>\n",
       "      <th>4158654</th>\n",
       "      <td>Istnieje jednak potrzeba rozróżnienia między u...</td>\n",
       "      <td>[start] However, there is the need to differen...</td>\n",
       "    </tr>\n",
       "    <tr>\n",
       "      <th>2076236</th>\n",
       "      <td>Serge Corbeil - 604- 732- 1420) Asian Society ...</td>\n",
       "      <td>[start] Serge Corbeil - 604-732-1420) Asian So...</td>\n",
       "    </tr>\n",
       "    <tr>\n",
       "      <th>3169967</th>\n",
       "      <td>W latach 1992-2001 udział wywozu kanadyjskiego...</td>\n",
       "      <td>[start] Between 1992 and 2001, the proportion ...</td>\n",
       "    </tr>\n",
       "    <tr>\n",
       "      <th>68714</th>\n",
       "      <td>Steven Perelstein Rodzaj działalności:</td>\n",
       "      <td>[start] Steven Perelstein Type of Business: [end]</td>\n",
       "    </tr>\n",
       "  </tbody>\n",
       "</table>\n",
       "</div>"
      ],
      "text/plain": [
       "                                                    source  \\\n",
       "1180750                               Box 56A Town / Prov:   \n",
       "4158654  Istnieje jednak potrzeba rozróżnienia między u...   \n",
       "2076236  Serge Corbeil - 604- 732- 1420) Asian Society ...   \n",
       "3169967  W latach 1992-2001 udział wywozu kanadyjskiego...   \n",
       "68714               Steven Perelstein Rodzaj działalności:   \n",
       "\n",
       "                                                    target  \n",
       "1180750                   [start] Box 56A\n",
       "Town/Prov: [end]  \n",
       "4158654  [start] However, there is the need to differen...  \n",
       "2076236  [start] Serge Corbeil - 604-732-1420) Asian So...  \n",
       "3169967  [start] Between 1992 and 2001, the proportion ...  \n",
       "68714    [start] Steven Perelstein\n",
       "Type of Business: [end]  "
      ]
     },
     "execution_count": 5,
     "metadata": {},
     "output_type": "execute_result"
    }
   ],
   "source": [
    "file_path = '../data/en-pl.csv'\n",
    "df = pd.read_csv(file_path)\n",
    "df['source'] = df['pl']\n",
    "df['target'] = df['en'].apply(lambda x: '[start] ' + x + ' [end]')\n",
    "df = df.drop(['pl', 'en'], axis=1)\n",
    "df.sample(5)"
   ]
  },
  {
   "attachments": {},
   "cell_type": "markdown",
   "id": "f9c359e5",
   "metadata": {},
   "source": [
    "## Podział na podzbiory"
   ]
  },
  {
   "cell_type": "code",
   "execution_count": null,
   "id": "9b31d06e",
   "metadata": {
    "execution": {
     "iopub.execute_input": "2023-03-11T21:15:49.139118Z",
     "iopub.status.busy": "2023-03-11T21:15:49.137517Z",
     "iopub.status.idle": "2023-03-11T21:15:49.324222Z",
     "shell.execute_reply": "2023-03-11T21:15:49.320248Z"
    },
    "papermill": {
     "duration": 0.199592,
     "end_time": "2023-03-11T21:15:49.327853",
     "exception": false,
     "start_time": "2023-03-11T21:15:49.128261",
     "status": "completed"
    },
    "tags": []
   },
   "outputs": [
    {
     "data": {
      "image/png": "[encoded data removed]",
      "text/plain": [
       "<Figure size 640x480 with 1 Axes>"
      ]
     },
     "metadata": {},
     "output_type": "display_data"
    }
   ],
   "source": [
    "df = df.sample(frac=1, random_state=0).reset_index(drop=True)\n",
    "\n",
    "train_size = int(len(df) * 0.8)\n",
    "val_size = int(len(df) * 0.1)\n",
    "test_size = int(len(df) * 0.1)\n",
    "\n",
    "train_df = df[:train_size]\n",
    "val_df = df[train_size:train_size+val_size]\n",
    "test_df = df[train_size+val_size:]"
   ]
  },
  {
   "cell_type": "code",
   "execution_count": 7,
   "id": "7a3a2e8e",
   "metadata": {},
   "outputs": [],
   "source": [
    "# define a custom standardization function that convert to lowercase and strips all punctuations except \"[\" and \"]\" (so we can tell apart \"start\" from \"[start]\").\n",
    "strip_chars = string.punctuation\n",
    "strip_chars = strip_chars.replace(\"[\", \"\")\n",
    "strip_chars = strip_chars.replace(\"]\", \"\")\n",
    " \n",
    "def custom_standardization(input_string):\n",
    "    lowercase = tf.strings.lower(input_string)\n",
    "    return tf.strings.regex_replace(\n",
    "        lowercase, f\"[{re.escape(strip_chars)}]\", \"\")"
   ]
  },
  {
   "cell_type": "code",
   "execution_count": 7,
   "id": "fa29ac95",
   "metadata": {
    "execution": {
     "iopub.execute_input": "2023-03-11T21:15:49.417259Z",
     "iopub.status.busy": "2023-03-11T21:15:49.416961Z",
     "iopub.status.idle": "2023-03-11T21:16:10.211774Z",
     "shell.execute_reply": "2023-03-11T21:16:10.210723Z"
    },
    "papermill": {
     "duration": 20.806875,
     "end_time": "2023-03-11T21:16:10.214442",
     "exception": false,
     "start_time": "2023-03-11T21:15:49.407567",
     "status": "completed"
    },
    "tags": []
   },
   "outputs": [
    {
     "name": "stderr",
     "output_type": "stream",
     "text": [
      "2024-01-24 02:05:04.524484: I external/local_xla/xla/stream_executor/cuda/cuda_executor.cc:901] successful NUMA node read from SysFS had negative value (-1), but there must be at least one NUMA node, so returning NUMA node zero. See more at https://github.com/torvalds/linux/blob/v6.0/Documentation/ABI/testing/sysfs-bus-pci#L344-L355\n",
      "2024-01-24 02:05:04.524710: I external/local_xla/xla/stream_executor/cuda/cuda_executor.cc:901] successful NUMA node read from SysFS had negative value (-1), but there must be at least one NUMA node, so returning NUMA node zero. See more at https://github.com/torvalds/linux/blob/v6.0/Documentation/ABI/testing/sysfs-bus-pci#L344-L355\n",
      "2024-01-24 02:05:04.524782: I external/local_xla/xla/stream_executor/cuda/cuda_executor.cc:901] successful NUMA node read from SysFS had negative value (-1), but there must be at least one NUMA node, so returning NUMA node zero. See more at https://github.com/torvalds/linux/blob/v6.0/Documentation/ABI/testing/sysfs-bus-pci#L344-L355\n",
      "2024-01-24 02:05:05.821494: I external/local_xla/xla/stream_executor/cuda/cuda_executor.cc:901] successful NUMA node read from SysFS had negative value (-1), but there must be at least one NUMA node, so returning NUMA node zero. See more at https://github.com/torvalds/linux/blob/v6.0/Documentation/ABI/testing/sysfs-bus-pci#L344-L355\n",
      "2024-01-24 02:05:05.821605: I external/local_xla/xla/stream_executor/cuda/cuda_executor.cc:901] successful NUMA node read from SysFS had negative value (-1), but there must be at least one NUMA node, so returning NUMA node zero. See more at https://github.com/torvalds/linux/blob/v6.0/Documentation/ABI/testing/sysfs-bus-pci#L344-L355\n",
      "2024-01-24 02:05:05.821683: I external/local_xla/xla/stream_executor/cuda/cuda_executor.cc:901] successful NUMA node read from SysFS had negative value (-1), but there must be at least one NUMA node, so returning NUMA node zero. See more at https://github.com/torvalds/linux/blob/v6.0/Documentation/ABI/testing/sysfs-bus-pci#L344-L355\n",
      "2024-01-24 02:05:05.821750: I tensorflow/core/common_runtime/gpu/gpu_device.cc:1929] Created device /job:localhost/replica:0/task:0/device:GPU:0 with 14226 MB memory:  -> device: 0, name: NVIDIA GeForce RTX 3080 Laptop GPU, pci bus id: 0000:01:00.0, compute capability: 8.6\n"
     ]
    }
   ],
   "source": [
    "# tokenize the data using our custom standardization function\n",
    "source_vectorization = tf.keras.layers.TextVectorization(\n",
    "    max_tokens=max_tokens,\n",
    "    output_mode=\"int\",\n",
    "    output_sequence_length=sequence_length,\n",
    ")\n",
    "target_vectorization = tf.keras.layers.TextVectorization(\n",
    "    max_tokens=max_tokens,\n",
    "    output_mode=\"int\",\n",
    "    output_sequence_length=sequence_length + 1, # add +1 token to our target sentences since they'll be shifted right by 1 during training\n",
    "    standardize=custom_standardization,\n",
    ")\n",
    "\n",
    "# index all tokens in the source and target sentences\n",
    "train_source_texts = train_df['source'].values\n",
    "train_target_texts = train_df['target'].values"
   ]
  },
  {
   "cell_type": "code",
   "execution_count": 8,
   "id": "cf1408b5",
   "metadata": {},
   "outputs": [],
   "source": [
    "source_vectorization.adapt(train_source_texts)"
   ]
  },
  {
   "cell_type": "code",
   "execution_count": 11,
   "id": "cb7ec89f",
   "metadata": {},
   "outputs": [],
   "source": [
    "target_vectorization.adapt(train_target_texts)"
   ]
  },
  {
   "cell_type": "code",
   "execution_count": 16,
   "id": "816d336c",
   "metadata": {},
   "outputs": [],
   "source": [
    "def save_text_vectorization(text_vec, path):\n",
    "    standardize = target_vectorization._standardize\n",
    "    target_vectorization._standardize = None\n",
    "    pickle.dump({\n",
    "        'config': text_vec.get_config(),\n",
    "        'weights': text_vec.get_weights()\n",
    "        }, open(path, \"wb\")\n",
    "    )\n",
    "    target_vectorization._standardize = standardize"
   ]
  },
  {
   "cell_type": "code",
   "execution_count": 8,
   "id": "ff57e902",
   "metadata": {},
   "outputs": [],
   "source": [
    "def load_text_vectorization(path, standardize=None):\n",
    "    from_disk = pickle.load(open(path, \"rb\"))\n",
    "    new_v = tf.keras.layers.TextVectorization.from_config(from_disk['config'])\n",
    "    if standardize:\n",
    "        new_v._standardize = standardize\n",
    "    new_v.adapt(tf.data.Dataset.from_tensor_slices([\"xyz\"]))\n",
    "    new_v.set_weights(from_disk['weights'])\n",
    "    return new_v"
   ]
  },
  {
   "cell_type": "code",
   "execution_count": 10,
   "id": "6b4d3faf",
   "metadata": {},
   "outputs": [],
   "source": [
    "save_text_vectorization(source_vectorization, '../checkpoints/source_vec.pkl')"
   ]
  },
  {
   "cell_type": "code",
   "execution_count": 12,
   "id": "aab02ec4",
   "metadata": {},
   "outputs": [],
   "source": [
    "save_text_vectorization(target_vectorization, '../checkpoints/target_vec.pkl')"
   ]
  },
  {
   "cell_type": "code",
   "execution_count": 9,
   "id": "bd324b29",
   "metadata": {},
   "outputs": [
    {
     "name": "stderr",
     "output_type": "stream",
     "text": [
      "2024-01-24 03:06:06.409474: I external/local_xla/xla/stream_executor/cuda/cuda_executor.cc:901] successful NUMA node read from SysFS had negative value (-1), but there must be at least one NUMA node, so returning NUMA node zero. See more at https://github.com/torvalds/linux/blob/v6.0/Documentation/ABI/testing/sysfs-bus-pci#L344-L355\n",
      "2024-01-24 03:06:06.409637: I external/local_xla/xla/stream_executor/cuda/cuda_executor.cc:901] successful NUMA node read from SysFS had negative value (-1), but there must be at least one NUMA node, so returning NUMA node zero. See more at https://github.com/torvalds/linux/blob/v6.0/Documentation/ABI/testing/sysfs-bus-pci#L344-L355\n",
      "2024-01-24 03:06:06.409710: I external/local_xla/xla/stream_executor/cuda/cuda_executor.cc:901] successful NUMA node read from SysFS had negative value (-1), but there must be at least one NUMA node, so returning NUMA node zero. See more at https://github.com/torvalds/linux/blob/v6.0/Documentation/ABI/testing/sysfs-bus-pci#L344-L355\n",
      "2024-01-24 03:06:07.577103: I external/local_xla/xla/stream_executor/cuda/cuda_executor.cc:901] successful NUMA node read from SysFS had negative value (-1), but there must be at least one NUMA node, so returning NUMA node zero. See more at https://github.com/torvalds/linux/blob/v6.0/Documentation/ABI/testing/sysfs-bus-pci#L344-L355\n",
      "2024-01-24 03:06:07.577212: I external/local_xla/xla/stream_executor/cuda/cuda_executor.cc:901] successful NUMA node read from SysFS had negative value (-1), but there must be at least one NUMA node, so returning NUMA node zero. See more at https://github.com/torvalds/linux/blob/v6.0/Documentation/ABI/testing/sysfs-bus-pci#L344-L355\n",
      "2024-01-24 03:06:07.577289: I external/local_xla/xla/stream_executor/cuda/cuda_executor.cc:901] successful NUMA node read from SysFS had negative value (-1), but there must be at least one NUMA node, so returning NUMA node zero. See more at https://github.com/torvalds/linux/blob/v6.0/Documentation/ABI/testing/sysfs-bus-pci#L344-L355\n",
      "2024-01-24 03:06:07.577356: I tensorflow/core/common_runtime/gpu/gpu_device.cc:1929] Created device /job:localhost/replica:0/task:0/device:GPU:0 with 14226 MB memory:  -> device: 0, name: NVIDIA GeForce RTX 3080 Laptop GPU, pci bus id: 0000:01:00.0, compute capability: 8.6\n"
     ]
    }
   ],
   "source": [
    "source_vectorization = load_text_vectorization('../checkpoints/source_vec.pkl')"
   ]
  },
  {
   "cell_type": "code",
   "execution_count": 10,
   "id": "0b3c7d3d",
   "metadata": {},
   "outputs": [],
   "source": [
    "target_vectorization = load_text_vectorization('../checkpoints/target_vec.pkl', custom_standardization)"
   ]
  },
  {
   "cell_type": "code",
   "execution_count": 11,
   "id": "2489cab4",
   "metadata": {
    "execution": {
     "iopub.execute_input": "2023-03-11T21:16:14.226341Z",
     "iopub.status.busy": "2023-03-11T21:16:14.225469Z",
     "iopub.status.idle": "2023-03-11T21:16:14.235651Z",
     "shell.execute_reply": "2023-03-11T21:16:14.234365Z"
    },
    "papermill": {
     "duration": 0.024289,
     "end_time": "2023-03-11T21:16:14.237957",
     "exception": false,
     "start_time": "2023-03-11T21:16:14.213668",
     "status": "completed"
    },
    "tags": []
   },
   "outputs": [],
   "source": [
    "class PositionalEmbedding(tf.keras.layers.Layer):\n",
    "    def __init__(self, sequence_length, input_dim, output_dim, **kwargs):\n",
    "        super().__init__(**kwargs)\n",
    "        self.token_embeddings = tf.keras.layers.Embedding(input_dim=input_dim, output_dim=output_dim) # token embedding layer\n",
    "        self.position_embeddings = tf.keras.layers.Embedding(input_dim=sequence_length, output_dim=output_dim) # position embedding layer\n",
    "        self.sequence_length = sequence_length\n",
    "        self.input_dim = input_dim\n",
    "        self.output_dim = output_dim\n",
    "\n",
    "    def call(self, inputs):\n",
    "        embedded_tokens = self.token_embeddings(inputs) # embed the tokens\n",
    "        length = tf.shape(inputs)[-1]\n",
    "        positions = tf.range(start=0, limit=length, delta=1) # create the positional information\n",
    "        embedded_positions = self.position_embeddings(positions) # embed the positions \n",
    "        return embedded_tokens + embedded_positions # add the token and position embeddings to create the positional embeddings\n",
    "\n",
    "    def compute_mask(self, inputs, mask=None):\n",
    "        return tf.math.not_equal(inputs, 0)\n",
    "\n",
    "    def get_config(self):\n",
    "        config = super(PositionalEmbedding, self).get_config()\n",
    "        config.update({\n",
    "            \"input_dim\": self.input_dim,\n",
    "            \"output_dim\": self.output_dim,\n",
    "            \"sequence_length\": self.sequence_length,\n",
    "        })\n",
    "        return config"
   ]
  },
  {
   "cell_type": "code",
   "execution_count": 12,
   "id": "6603854e",
   "metadata": {
    "execution": {
     "iopub.execute_input": "2023-03-11T21:16:14.540900Z",
     "iopub.status.busy": "2023-03-11T21:16:14.540100Z",
     "iopub.status.idle": "2023-03-11T21:16:14.548405Z",
     "shell.execute_reply": "2023-03-11T21:16:14.547426Z"
    },
    "papermill": {
     "duration": 0.020436,
     "end_time": "2023-03-11T21:16:14.550520",
     "exception": false,
     "start_time": "2023-03-11T21:16:14.530084",
     "status": "completed"
    },
    "tags": []
   },
   "outputs": [],
   "source": [
    "# credits to OpenAI for that one (https://github.com/openai/gpt-2/blob/master/src/model.py)\n",
    "\n",
    "def shape_list(x):\n",
    "    \"\"\"Deal with dynamic shape in tensorflow cleanly.\"\"\"\n",
    "    static = x.shape.as_list()\n",
    "    dynamic = tf.shape(x)\n",
    "    return [dynamic[i] if s is None else s for i, s in enumerate(static)]\n",
    "\n",
    "def attention_mask(nd, ns, *, dtype):\n",
    "    \"\"\"1's in the lower triangle, counting from the lower right corner.\n",
    "    Same as tf.matrix_band_part(tf.ones([nd, ns]), -1, ns-nd), but doesn't produce garbage on TPUs.\n",
    "    \"\"\"\n",
    "    i = tf.range(nd)[:,None]\n",
    "    j = tf.range(ns)\n",
    "    m = i >= j - ns + nd\n",
    "    return tf.cast(m, dtype)\n",
    "\n",
    "def mask_attn_weights(w):\n",
    "    # w has shape [batch, heads, dst_sequence, src_sequence], where information flows from src to dst.\n",
    "    _, _, nd, ns = shape_list(w)\n",
    "    b = attention_mask(nd, ns, dtype=w.dtype)\n",
    "    b = tf.reshape(b, [1, 1, nd, ns])\n",
    "    w = w*b - tf.cast(1e10, w.dtype)*(1-b)\n",
    "    return w"
   ]
  },
  {
   "cell_type": "code",
   "execution_count": 13,
   "id": "914b9e51",
   "metadata": {
    "execution": {
     "iopub.execute_input": "2023-03-11T21:16:14.654544Z",
     "iopub.status.busy": "2023-03-11T21:16:14.653760Z",
     "iopub.status.idle": "2023-03-11T21:16:14.659883Z",
     "shell.execute_reply": "2023-03-11T21:16:14.658961Z"
    },
    "papermill": {
     "duration": 0.01822,
     "end_time": "2023-03-11T21:16:14.661905",
     "exception": false,
     "start_time": "2023-03-11T21:16:14.643685",
     "status": "completed"
    },
    "tags": []
   },
   "outputs": [],
   "source": [
    "def scaled_dot_product_attention(q, k, v, use_causal_mask=False):\n",
    "    d_k = tf.cast(tf.shape(k)[-1], tf.float32)\n",
    "    scores = tf.matmul(q, k, transpose_b=True) # Matmul of Q and K\n",
    "    scaled_scores = scores / tf.math.sqrt(d_k) # Scale\n",
    "    if use_causal_mask:\n",
    "        scaled_scores = mask_attn_weights(scaled_scores) # Mask (opt.)\n",
    "    weights = tf.nn.softmax(scaled_scores, axis=-1) # SoftMax\n",
    "    output = tf.matmul(weights, v) # Matmul of SoftMax and V\n",
    "    return output"
   ]
  },
  {
   "cell_type": "code",
   "execution_count": 14,
   "id": "1bb3ca80",
   "metadata": {
    "execution": {
     "iopub.execute_input": "2023-03-11T21:16:16.368012Z",
     "iopub.status.busy": "2023-03-11T21:16:16.367718Z",
     "iopub.status.idle": "2023-03-11T21:16:16.379572Z",
     "shell.execute_reply": "2023-03-11T21:16:16.378577Z"
    },
    "papermill": {
     "duration": 0.024366,
     "end_time": "2023-03-11T21:16:16.381708",
     "exception": false,
     "start_time": "2023-03-11T21:16:16.357342",
     "status": "completed"
    },
    "tags": []
   },
   "outputs": [],
   "source": [
    "class MultiAttention(tf.keras.layers.Layer):\n",
    "    def __init__(self, embed_dim, h, **kwargs):\n",
    "        super().__init__(**kwargs)\n",
    "        self.embed_dim = embed_dim\n",
    "        self.h = h\n",
    "        if embed_dim % h != 0:\n",
    "            raise ValueError(\n",
    "                f\"dimension of the embedding space = {embed_dim} should be divisible by number of heads = {h}\"\n",
    "            )\n",
    "        self.q_linear = tf.keras.layers.Dense(embed_dim)\n",
    "        self.k_linear = tf.keras.layers.Dense(embed_dim)\n",
    "        self.v_linear = tf.keras.layers.Dense(embed_dim)\n",
    "        self.concat_linear = tf.keras.layers.Dense(embed_dim)\n",
    "\n",
    "    def split_heads(self, x, batch_size):\n",
    "        x = tf.reshape(x, shape=(batch_size, -1, self.h, self.embed_dim // self.h))\n",
    "        return tf.transpose(x, perm=[0, 2, 1, 3])\n",
    "    \n",
    "    def concat_heads(self, x, batch_size):\n",
    "        x = tf.transpose(x, perm=[0, 2, 1, 3])\n",
    "        return tf.reshape(x, (batch_size, -1, self.embed_dim))\n",
    "\n",
    "    def call(self, q, k, v, use_causal_mask=False):\n",
    "        batch_size = tf.shape(k)[0]\n",
    "        q = self.q_linear(q)\n",
    "        k = self.k_linear(k)\n",
    "        v = self.v_linear(v)\n",
    "        q = self.split_heads(q, batch_size)\n",
    "        k = self.split_heads(k, batch_size)\n",
    "        v = self.split_heads(v, batch_size)\n",
    "        attention = scaled_dot_product_attention(q, k, v, use_causal_mask)\n",
    "        concat = self.concat_heads(attention, batch_size)\n",
    "        concat = self.concat_linear(concat)\n",
    "        return concat\n",
    "\n",
    "    def get_config(self):\n",
    "        config = super(MultiAttention, self).get_config()\n",
    "        config.update({\n",
    "            \"embed_dim\": self.embed_dim,\n",
    "            \"h\": self.h,\n",
    "        })\n",
    "        return config"
   ]
  },
  {
   "cell_type": "code",
   "execution_count": 17,
   "id": "3f513888",
   "metadata": {
    "execution": {
     "iopub.execute_input": "2023-03-11T21:16:16.439695Z",
     "iopub.status.busy": "2023-03-11T21:16:16.439419Z",
     "iopub.status.idle": "2023-03-11T21:16:16.450488Z",
     "shell.execute_reply": "2023-03-11T21:16:16.449472Z"
    },
    "papermill": {
     "duration": 0.023479,
     "end_time": "2023-03-11T21:16:16.452570",
     "exception": false,
     "start_time": "2023-03-11T21:16:16.429091",
     "status": "completed"
    },
    "tags": []
   },
   "outputs": [],
   "source": [
    "class TransformerEncoderBlock(tf.keras.layers.Layer):\n",
    "    def __init__(self, embed_dim, dense_dim, num_heads, **kwargs):\n",
    "        super().__init__(**kwargs)\n",
    "        self.embed_dim = embed_dim\n",
    "        self.dense_dim = dense_dim\n",
    "        self.num_heads = num_heads\n",
    "        self.layer_norm_1 = tf.keras.layers.LayerNormalization(epsilon=1e-7)\n",
    "        self.layer_norm_2 = tf.keras.layers.LayerNormalization(epsilon=1e-7)\n",
    "        self.global_self_attention = MultiAttention(embed_dim=embed_dim, h=num_heads)\n",
    "        self.feed_forward = tf.keras.Sequential(\n",
    "            [tf.keras.layers.Dense(dense_dim, activation=\"relu\"),\n",
    "             tf.keras.layers.Dense(embed_dim),]\n",
    "        )\n",
    "        \n",
    "    def call(self, x):\n",
    "        # Post layer normalization + residual connections\n",
    "        x = self.layer_norm_1(x + self.global_self_attention(q=x, k=x, v=x))\n",
    "        x = self.layer_norm_2(x + self.feed_forward(x))\n",
    "        return x\n",
    "\n",
    "    def get_config(self):\n",
    "        config = super().get_config()\n",
    "        config.update({\n",
    "            \"embed_dim\": self.embed_dim,\n",
    "            \"dense_dim\": self.dense_dim,\n",
    "            \"num_heads\": self.num_heads,\n",
    "        })\n",
    "        return config"
   ]
  },
  {
   "cell_type": "code",
   "execution_count": 18,
   "id": "efd857c3",
   "metadata": {
    "execution": {
     "iopub.execute_input": "2023-03-11T21:16:16.511448Z",
     "iopub.status.busy": "2023-03-11T21:16:16.510675Z",
     "iopub.status.idle": "2023-03-11T21:16:16.521790Z",
     "shell.execute_reply": "2023-03-11T21:16:16.520904Z"
    },
    "papermill": {
     "duration": 0.023884,
     "end_time": "2023-03-11T21:16:16.523763",
     "exception": false,
     "start_time": "2023-03-11T21:16:16.499879",
     "status": "completed"
    },
    "tags": []
   },
   "outputs": [],
   "source": [
    "class TransformerDecoderBlock(tf.keras.layers.Layer):\n",
    "    def __init__(self, embed_dim, dense_dim, num_heads, **kwargs):\n",
    "        super().__init__(**kwargs)\n",
    "        self.embed_dim = embed_dim\n",
    "        self.dense_dim = dense_dim\n",
    "        self.num_heads = num_heads\n",
    "        self.causal_self_attention = MultiAttention(embed_dim=embed_dim, h=num_heads)\n",
    "        self.cross_attention = MultiAttention(embed_dim=embed_dim, h=num_heads)\n",
    "        self.feed_forward = tf.keras.Sequential(\n",
    "            [tf.keras.layers.Dense(dense_dim, activation=\"relu\"),\n",
    "             tf.keras.layers.Dense(embed_dim),]\n",
    "        )\n",
    "        self.layer_norm_1 = tf.keras.layers.LayerNormalization(epsilon=1e-7)\n",
    "        self.layer_norm_2 = tf.keras.layers.LayerNormalization(epsilon=1e-7)\n",
    "        self.layer_norm_3 = tf.keras.layers.LayerNormalization(epsilon=1e-7)\n",
    "\n",
    "    def get_config(self):\n",
    "        config = super().get_config()\n",
    "        config.update({\n",
    "            \"embed_dim\": self.embed_dim,\n",
    "            \"dense_dim\": self.dense_dim,\n",
    "            \"num_heads\": self.num_heads,\n",
    "        })\n",
    "        return config\n",
    "\n",
    "    def call(self, x, context):\n",
    "        # Post layer normalization + residual connections\n",
    "        x = self.layer_norm_1(x + self.causal_self_attention(q=x, k=x, v=x, use_causal_mask=True))\n",
    "        x = self.layer_norm_2(x + self.cross_attention(q=x, k=context, v=context))\n",
    "        x = self.layer_norm_3(x + self.feed_forward(x))\n",
    "        return x"
   ]
  },
  {
   "cell_type": "code",
   "execution_count": 19,
   "id": "88f2c895",
   "metadata": {},
   "outputs": [],
   "source": [
    "class TransformerEncoder(tf.keras.layers.Layer):\n",
    "    def __init__(self, embed_dim, dense_dim, num_heads, num_layers):\n",
    "        super(TransformerEncoder, self).__init__()\n",
    "        self.transformer_encoders = [TransformerEncoderBlock(embed_dim, dense_dim, num_heads) for _ in range(num_layers)]\n",
    "\n",
    "    def call(self, x):\n",
    "        for encoder in self.transformer_encoders:\n",
    "            x = encoder(x)\n",
    "        return x"
   ]
  },
  {
   "cell_type": "code",
   "execution_count": 20,
   "id": "369eca69",
   "metadata": {},
   "outputs": [],
   "source": [
    "class TransformerDecoder(tf.keras.layers.Layer):\n",
    "    def __init__(self, embed_dim, dense_dim, num_heads, num_layers):\n",
    "        super(TransformerDecoder, self).__init__()\n",
    "        self.transformer_decoders = [TransformerDecoderBlock(embed_dim, dense_dim, num_heads) for _ in range(num_layers)]\n",
    "\n",
    "    def call(self, x, context):\n",
    "        for encoder in self.transformer_decoders:\n",
    "            x = encoder(x, context)\n",
    "        return x"
   ]
  },
  {
   "cell_type": "code",
   "execution_count": 22,
   "id": "f8832e68",
   "metadata": {},
   "outputs": [],
   "source": [
    "class TransformerModel(tf.keras.Model):\n",
    "    def __init__(self, sequence_length, max_tokens, embed_dim, dense_dim, num_heads, encoder_layers, decoder_layers):\n",
    "        super(TransformerModel, self).__init__()\n",
    "\n",
    "        self.encoder_embedding = PositionalEmbedding(sequence_length, max_tokens, embed_dim)\n",
    "        self.decoder_embedding = PositionalEmbedding(sequence_length, max_tokens, embed_dim)\n",
    "        \n",
    "        self.encoder = TransformerEncoder(embed_dim, dense_dim, num_heads, encoder_layers)\n",
    "        self.decoder = TransformerDecoder(embed_dim, dense_dim, num_heads, decoder_layers)\n",
    "        \n",
    "        # Transformer head\n",
    "        self.dropout = tf.keras.layers.Dropout(0.5)\n",
    "        self.dense = tf.keras.layers.Dense(max_tokens, activation=\"softmax\")\n",
    "\n",
    "    def call(self, inputs, training=False):\n",
    "        encoder_inputs = inputs['source']\n",
    "        decoder_inputs = inputs['target']\n",
    "        \n",
    "        encoder_embedding = self.encoder_embedding(encoder_inputs)\n",
    "        decoder_embedding = self.decoder_embedding(decoder_inputs)\n",
    "        \n",
    "        encoder_outputs = self.encoder(encoder_embedding)\n",
    "        decoder_outputs = self.decoder(decoder_embedding, encoder_outputs)\n",
    "\n",
    "        x = self.dropout(decoder_outputs, training=training)\n",
    "        x = self.dense(x)\n",
    "        return x"
   ]
  },
  {
   "cell_type": "code",
   "execution_count": 27,
   "id": "f5bae0d9",
   "metadata": {},
   "outputs": [],
   "source": [
    "embed_dim = 128\n",
    "dense_dim = 4 * embed_dim\n",
    "num_heads = 8\n",
    "encoder_layers = 4\n",
    "decoder_layers = 4"
   ]
  },
  {
   "cell_type": "code",
   "execution_count": 28,
   "id": "69b0ea60",
   "metadata": {},
   "outputs": [],
   "source": [
    "transformer = TransformerModel(sequence_length, max_tokens, embed_dim, dense_dim, num_heads, encoder_layers, decoder_layers)"
   ]
  },
  {
   "cell_type": "code",
   "execution_count": 29,
   "id": "755c3aef",
   "metadata": {},
   "outputs": [],
   "source": [
    "def format_dataset(source, target):\n",
    "    source_vectors = source_vectorization(source)\n",
    "    target_vectors = target_vectorization(target)\n",
    "    return ({\n",
    "        \"source\": source_vectors, # encoder_inputs\n",
    "        \"target\": target_vectors[:, :-1], # decoder_inputs (truncate by 1 to keep it at the same length as decoder_outputs, which is shifted right by 1).\n",
    "    }, target_vectors[:, 1:]) # decoder_outputs\n",
    "\n",
    "def make_dataset(df, batch_size):\n",
    "    dataset = tf.data.Dataset.from_tensor_slices((df[\"source\"].values, df[\"target\"].values))\n",
    "    dataset = dataset.batch(batch_size)\n",
    "    dataset = dataset.map(format_dataset, num_parallel_calls=4)\n",
    "    return dataset.shuffle(100_000).prefetch(16).cache()\n",
    "\n",
    "batch_size = 512\n",
    "train_ds = make_dataset(train_df, batch_size)\n",
    "val_ds = make_dataset(val_df, batch_size)"
   ]
  },
  {
   "cell_type": "code",
   "execution_count": 30,
   "id": "e059938e",
   "metadata": {
    "execution": {
     "iopub.execute_input": "2023-03-11T21:16:19.648313Z",
     "iopub.status.busy": "2023-03-11T21:16:19.647850Z",
     "iopub.status.idle": "2023-03-11T22:49:33.526355Z",
     "shell.execute_reply": "2023-03-11T22:49:33.525131Z"
    },
    "papermill": {
     "duration": 5596.689391,
     "end_time": "2023-03-11T22:49:36.321627",
     "exception": false,
     "start_time": "2023-03-11T21:16:19.632236",
     "status": "completed"
    },
    "tags": []
   },
   "outputs": [
    {
     "name": "stdout",
     "output_type": "stream",
     "text": [
      "Epoch 1/1000\n",
      "6664/6664 [==============================] - 1900s 281ms/step - loss: 3.4274 - accuracy: 0.5095 - val_loss: 1.6536 - val_accuracy: 0.7105 - lr: 0.0010\n",
      "Epoch 2/1000\n",
      "6664/6664 [==============================] - 1871s 281ms/step - loss: 1.5683 - accuracy: 0.7312 - val_loss: 1.2418 - val_accuracy: 0.7667 - lr: 0.0010\n",
      "Epoch 3/1000\n",
      "6664/6664 [==============================] - 1869s 280ms/step - loss: 1.3635 - accuracy: 0.7571 - val_loss: 1.1704 - val_accuracy: 0.7767 - lr: 0.0010\n",
      "Epoch 4/1000\n",
      "6664/6664 [==============================] - 1870s 281ms/step - loss: 1.2880 - accuracy: 0.7669 - val_loss: 1.1343 - val_accuracy: 0.7811 - lr: 0.0010\n",
      "Epoch 5/1000\n",
      "6664/6664 [==============================] - 1869s 280ms/step - loss: 1.2460 - accuracy: 0.7725 - val_loss: 1.0961 - val_accuracy: 0.7876 - lr: 0.0010\n",
      "Epoch 6/1000\n",
      "6664/6664 [==============================] - 1869s 280ms/step - loss: 1.2191 - accuracy: 0.7764 - val_loss: 1.0837 - val_accuracy: 0.7898 - lr: 0.0010\n",
      "Epoch 7/1000\n",
      "6664/6664 [==============================] - 1873s 281ms/step - loss: 1.1997 - accuracy: 0.7793 - val_loss: 1.0701 - val_accuracy: 0.7924 - lr: 0.0010\n",
      "Epoch 8/1000\n",
      "6664/6664 [==============================] - 1873s 281ms/step - loss: 1.1847 - accuracy: 0.7816 - val_loss: 1.0613 - val_accuracy: 0.7939 - lr: 0.0010\n",
      "Epoch 9/1000\n",
      "6664/6664 [==============================] - 1873s 281ms/step - loss: 1.1728 - accuracy: 0.7834 - val_loss: 1.0577 - val_accuracy: 0.7950 - lr: 0.0010\n",
      "Epoch 10/1000\n",
      "6664/6664 [==============================] - 1875s 281ms/step - loss: 1.1629 - accuracy: 0.7849 - val_loss: 1.0514 - val_accuracy: 0.7952 - lr: 0.0010\n",
      "Epoch 11/1000\n",
      "6664/6664 [==============================] - 1873s 281ms/step - loss: 1.1545 - accuracy: 0.7863 - val_loss: 1.0461 - val_accuracy: 0.7969 - lr: 0.0010\n",
      "Epoch 12/1000\n",
      "2226/6664 [=========>....................] - ETA: 19:24 - loss: 1.1492 - accuracy: 0.7871"
     ]
    },
    {
     "ename": "KeyboardInterrupt",
     "evalue": "",
     "output_type": "error",
     "traceback": [
      "\u001b[0;31m---------------------------------------------------------------------------\u001b[0m",
      "\u001b[0;31mKeyboardInterrupt\u001b[0m                         Traceback (most recent call last)",
      "Cell \u001b[0;32mIn[30], line 27\u001b[0m\n\u001b[1;32m      7\u001b[0m checkpoint_filepath \u001b[38;5;241m=\u001b[39m \u001b[38;5;124m'\u001b[39m\u001b[38;5;124m../checkpoints/model/\u001b[39m\u001b[38;5;124m'\u001b[39m\n\u001b[1;32m      8\u001b[0m callbacks_list \u001b[38;5;241m=\u001b[39m [\n\u001b[1;32m      9\u001b[0m     tf\u001b[38;5;241m.\u001b[39mkeras\u001b[38;5;241m.\u001b[39mcallbacks\u001b[38;5;241m.\u001b[39mReduceLROnPlateau(\n\u001b[1;32m     10\u001b[0m         monitor\u001b[38;5;241m=\u001b[39m\u001b[38;5;124m'\u001b[39m\u001b[38;5;124mval_loss\u001b[39m\u001b[38;5;124m'\u001b[39m,\n\u001b[0;32m   (...)\u001b[0m\n\u001b[1;32m     24\u001b[0m     )\n\u001b[1;32m     25\u001b[0m ]\n\u001b[0;32m---> 27\u001b[0m \u001b[43mtransformer\u001b[49m\u001b[38;5;241;43m.\u001b[39;49m\u001b[43mfit\u001b[49m\u001b[43m(\u001b[49m\u001b[43mtrain_ds\u001b[49m\u001b[43m,\u001b[49m\u001b[43m \u001b[49m\n\u001b[1;32m     28\u001b[0m \u001b[43m                \u001b[49m\u001b[43mepochs\u001b[49m\u001b[38;5;241;43m=\u001b[39;49m\u001b[43mEPOCHS\u001b[49m\u001b[43m,\u001b[49m\u001b[43m \u001b[49m\n\u001b[1;32m     29\u001b[0m \u001b[43m                \u001b[49m\u001b[43mcallbacks\u001b[49m\u001b[38;5;241;43m=\u001b[39;49m\u001b[43mcallbacks_list\u001b[49m\u001b[43m,\u001b[49m\n\u001b[1;32m     30\u001b[0m \u001b[43m                \u001b[49m\u001b[43mvalidation_data\u001b[49m\u001b[38;5;241;43m=\u001b[39;49m\u001b[43mval_ds\u001b[49m\u001b[43m)\u001b[49m\n",
      "File \u001b[0;32m~/miniconda3/envs/transformer/lib/python3.10/site-packages/keras/src/utils/traceback_utils.py:65\u001b[0m, in \u001b[0;36mfilter_traceback.<locals>.error_handler\u001b[0;34m(*args, **kwargs)\u001b[0m\n\u001b[1;32m     63\u001b[0m filtered_tb \u001b[38;5;241m=\u001b[39m \u001b[38;5;28;01mNone\u001b[39;00m\n\u001b[1;32m     64\u001b[0m \u001b[38;5;28;01mtry\u001b[39;00m:\n\u001b[0;32m---> 65\u001b[0m     \u001b[38;5;28;01mreturn\u001b[39;00m \u001b[43mfn\u001b[49m\u001b[43m(\u001b[49m\u001b[38;5;241;43m*\u001b[39;49m\u001b[43margs\u001b[49m\u001b[43m,\u001b[49m\u001b[43m \u001b[49m\u001b[38;5;241;43m*\u001b[39;49m\u001b[38;5;241;43m*\u001b[39;49m\u001b[43mkwargs\u001b[49m\u001b[43m)\u001b[49m\n\u001b[1;32m     66\u001b[0m \u001b[38;5;28;01mexcept\u001b[39;00m \u001b[38;5;167;01mException\u001b[39;00m \u001b[38;5;28;01mas\u001b[39;00m e:\n\u001b[1;32m     67\u001b[0m     filtered_tb \u001b[38;5;241m=\u001b[39m _process_traceback_frames(e\u001b[38;5;241m.\u001b[39m__traceback__)\n",
      "File \u001b[0;32m~/miniconda3/envs/transformer/lib/python3.10/site-packages/keras/src/engine/training.py:1807\u001b[0m, in \u001b[0;36mModel.fit\u001b[0;34m(self, x, y, batch_size, epochs, verbose, callbacks, validation_split, validation_data, shuffle, class_weight, sample_weight, initial_epoch, steps_per_epoch, validation_steps, validation_batch_size, validation_freq, max_queue_size, workers, use_multiprocessing)\u001b[0m\n\u001b[1;32m   1799\u001b[0m \u001b[38;5;28;01mwith\u001b[39;00m tf\u001b[38;5;241m.\u001b[39mprofiler\u001b[38;5;241m.\u001b[39mexperimental\u001b[38;5;241m.\u001b[39mTrace(\n\u001b[1;32m   1800\u001b[0m     \u001b[38;5;124m\"\u001b[39m\u001b[38;5;124mtrain\u001b[39m\u001b[38;5;124m\"\u001b[39m,\n\u001b[1;32m   1801\u001b[0m     epoch_num\u001b[38;5;241m=\u001b[39mepoch,\n\u001b[0;32m   (...)\u001b[0m\n\u001b[1;32m   1804\u001b[0m     _r\u001b[38;5;241m=\u001b[39m\u001b[38;5;241m1\u001b[39m,\n\u001b[1;32m   1805\u001b[0m ):\n\u001b[1;32m   1806\u001b[0m     callbacks\u001b[38;5;241m.\u001b[39mon_train_batch_begin(step)\n\u001b[0;32m-> 1807\u001b[0m     tmp_logs \u001b[38;5;241m=\u001b[39m \u001b[38;5;28;43mself\u001b[39;49m\u001b[38;5;241;43m.\u001b[39;49m\u001b[43mtrain_function\u001b[49m\u001b[43m(\u001b[49m\u001b[43miterator\u001b[49m\u001b[43m)\u001b[49m\n\u001b[1;32m   1808\u001b[0m     \u001b[38;5;28;01mif\u001b[39;00m data_handler\u001b[38;5;241m.\u001b[39mshould_sync:\n\u001b[1;32m   1809\u001b[0m         context\u001b[38;5;241m.\u001b[39masync_wait()\n",
      "File \u001b[0;32m~/miniconda3/envs/transformer/lib/python3.10/site-packages/tensorflow/python/util/traceback_utils.py:150\u001b[0m, in \u001b[0;36mfilter_traceback.<locals>.error_handler\u001b[0;34m(*args, **kwargs)\u001b[0m\n\u001b[1;32m    148\u001b[0m filtered_tb \u001b[38;5;241m=\u001b[39m \u001b[38;5;28;01mNone\u001b[39;00m\n\u001b[1;32m    149\u001b[0m \u001b[38;5;28;01mtry\u001b[39;00m:\n\u001b[0;32m--> 150\u001b[0m   \u001b[38;5;28;01mreturn\u001b[39;00m \u001b[43mfn\u001b[49m\u001b[43m(\u001b[49m\u001b[38;5;241;43m*\u001b[39;49m\u001b[43margs\u001b[49m\u001b[43m,\u001b[49m\u001b[43m \u001b[49m\u001b[38;5;241;43m*\u001b[39;49m\u001b[38;5;241;43m*\u001b[39;49m\u001b[43mkwargs\u001b[49m\u001b[43m)\u001b[49m\n\u001b[1;32m    151\u001b[0m \u001b[38;5;28;01mexcept\u001b[39;00m \u001b[38;5;167;01mException\u001b[39;00m \u001b[38;5;28;01mas\u001b[39;00m e:\n\u001b[1;32m    152\u001b[0m   filtered_tb \u001b[38;5;241m=\u001b[39m _process_traceback_frames(e\u001b[38;5;241m.\u001b[39m__traceback__)\n",
      "File \u001b[0;32m~/miniconda3/envs/transformer/lib/python3.10/site-packages/tensorflow/python/eager/polymorphic_function/polymorphic_function.py:832\u001b[0m, in \u001b[0;36mFunction.__call__\u001b[0;34m(self, *args, **kwds)\u001b[0m\n\u001b[1;32m    829\u001b[0m compiler \u001b[38;5;241m=\u001b[39m \u001b[38;5;124m\"\u001b[39m\u001b[38;5;124mxla\u001b[39m\u001b[38;5;124m\"\u001b[39m \u001b[38;5;28;01mif\u001b[39;00m \u001b[38;5;28mself\u001b[39m\u001b[38;5;241m.\u001b[39m_jit_compile \u001b[38;5;28;01melse\u001b[39;00m \u001b[38;5;124m\"\u001b[39m\u001b[38;5;124mnonXla\u001b[39m\u001b[38;5;124m\"\u001b[39m\n\u001b[1;32m    831\u001b[0m \u001b[38;5;28;01mwith\u001b[39;00m OptionalXlaContext(\u001b[38;5;28mself\u001b[39m\u001b[38;5;241m.\u001b[39m_jit_compile):\n\u001b[0;32m--> 832\u001b[0m   result \u001b[38;5;241m=\u001b[39m \u001b[38;5;28;43mself\u001b[39;49m\u001b[38;5;241;43m.\u001b[39;49m\u001b[43m_call\u001b[49m\u001b[43m(\u001b[49m\u001b[38;5;241;43m*\u001b[39;49m\u001b[43margs\u001b[49m\u001b[43m,\u001b[49m\u001b[43m \u001b[49m\u001b[38;5;241;43m*\u001b[39;49m\u001b[38;5;241;43m*\u001b[39;49m\u001b[43mkwds\u001b[49m\u001b[43m)\u001b[49m\n\u001b[1;32m    834\u001b[0m new_tracing_count \u001b[38;5;241m=\u001b[39m \u001b[38;5;28mself\u001b[39m\u001b[38;5;241m.\u001b[39mexperimental_get_tracing_count()\n\u001b[1;32m    835\u001b[0m without_tracing \u001b[38;5;241m=\u001b[39m (tracing_count \u001b[38;5;241m==\u001b[39m new_tracing_count)\n",
      "File \u001b[0;32m~/miniconda3/envs/transformer/lib/python3.10/site-packages/tensorflow/python/eager/polymorphic_function/polymorphic_function.py:868\u001b[0m, in \u001b[0;36mFunction._call\u001b[0;34m(self, *args, **kwds)\u001b[0m\n\u001b[1;32m    865\u001b[0m   \u001b[38;5;28mself\u001b[39m\u001b[38;5;241m.\u001b[39m_lock\u001b[38;5;241m.\u001b[39mrelease()\n\u001b[1;32m    866\u001b[0m   \u001b[38;5;66;03m# In this case we have created variables on the first call, so we run the\u001b[39;00m\n\u001b[1;32m    867\u001b[0m   \u001b[38;5;66;03m# defunned version which is guaranteed to never create variables.\u001b[39;00m\n\u001b[0;32m--> 868\u001b[0m   \u001b[38;5;28;01mreturn\u001b[39;00m \u001b[43mtracing_compilation\u001b[49m\u001b[38;5;241;43m.\u001b[39;49m\u001b[43mcall_function\u001b[49m\u001b[43m(\u001b[49m\n\u001b[1;32m    869\u001b[0m \u001b[43m      \u001b[49m\u001b[43margs\u001b[49m\u001b[43m,\u001b[49m\u001b[43m \u001b[49m\u001b[43mkwds\u001b[49m\u001b[43m,\u001b[49m\u001b[43m \u001b[49m\u001b[38;5;28;43mself\u001b[39;49m\u001b[38;5;241;43m.\u001b[39;49m\u001b[43m_no_variable_creation_config\u001b[49m\n\u001b[1;32m    870\u001b[0m \u001b[43m  \u001b[49m\u001b[43m)\u001b[49m\n\u001b[1;32m    871\u001b[0m \u001b[38;5;28;01melif\u001b[39;00m \u001b[38;5;28mself\u001b[39m\u001b[38;5;241m.\u001b[39m_variable_creation_config \u001b[38;5;129;01mis\u001b[39;00m \u001b[38;5;129;01mnot\u001b[39;00m \u001b[38;5;28;01mNone\u001b[39;00m:\n\u001b[1;32m    872\u001b[0m   \u001b[38;5;66;03m# Release the lock early so that multiple threads can perform the call\u001b[39;00m\n\u001b[1;32m    873\u001b[0m   \u001b[38;5;66;03m# in parallel.\u001b[39;00m\n\u001b[1;32m    874\u001b[0m   \u001b[38;5;28mself\u001b[39m\u001b[38;5;241m.\u001b[39m_lock\u001b[38;5;241m.\u001b[39mrelease()\n",
      "File \u001b[0;32m~/miniconda3/envs/transformer/lib/python3.10/site-packages/tensorflow/python/eager/polymorphic_function/tracing_compilation.py:139\u001b[0m, in \u001b[0;36mcall_function\u001b[0;34m(args, kwargs, tracing_options)\u001b[0m\n\u001b[1;32m    137\u001b[0m bound_args \u001b[38;5;241m=\u001b[39m function\u001b[38;5;241m.\u001b[39mfunction_type\u001b[38;5;241m.\u001b[39mbind(\u001b[38;5;241m*\u001b[39margs, \u001b[38;5;241m*\u001b[39m\u001b[38;5;241m*\u001b[39mkwargs)\n\u001b[1;32m    138\u001b[0m flat_inputs \u001b[38;5;241m=\u001b[39m function\u001b[38;5;241m.\u001b[39mfunction_type\u001b[38;5;241m.\u001b[39munpack_inputs(bound_args)\n\u001b[0;32m--> 139\u001b[0m \u001b[38;5;28;01mreturn\u001b[39;00m \u001b[43mfunction\u001b[49m\u001b[38;5;241;43m.\u001b[39;49m\u001b[43m_call_flat\u001b[49m\u001b[43m(\u001b[49m\u001b[43m  \u001b[49m\u001b[38;5;66;43;03m# pylint: disable=protected-access\u001b[39;49;00m\n\u001b[1;32m    140\u001b[0m \u001b[43m    \u001b[49m\u001b[43mflat_inputs\u001b[49m\u001b[43m,\u001b[49m\u001b[43m \u001b[49m\u001b[43mcaptured_inputs\u001b[49m\u001b[38;5;241;43m=\u001b[39;49m\u001b[43mfunction\u001b[49m\u001b[38;5;241;43m.\u001b[39;49m\u001b[43mcaptured_inputs\u001b[49m\n\u001b[1;32m    141\u001b[0m \u001b[43m\u001b[49m\u001b[43m)\u001b[49m\n",
      "File \u001b[0;32m~/miniconda3/envs/transformer/lib/python3.10/site-packages/tensorflow/python/eager/polymorphic_function/concrete_function.py:1323\u001b[0m, in \u001b[0;36mConcreteFunction._call_flat\u001b[0;34m(self, tensor_inputs, captured_inputs)\u001b[0m\n\u001b[1;32m   1319\u001b[0m possible_gradient_type \u001b[38;5;241m=\u001b[39m gradients_util\u001b[38;5;241m.\u001b[39mPossibleTapeGradientTypes(args)\n\u001b[1;32m   1320\u001b[0m \u001b[38;5;28;01mif\u001b[39;00m (possible_gradient_type \u001b[38;5;241m==\u001b[39m gradients_util\u001b[38;5;241m.\u001b[39mPOSSIBLE_GRADIENT_TYPES_NONE\n\u001b[1;32m   1321\u001b[0m     \u001b[38;5;129;01mand\u001b[39;00m executing_eagerly):\n\u001b[1;32m   1322\u001b[0m   \u001b[38;5;66;03m# No tape is watching; skip to running the function.\u001b[39;00m\n\u001b[0;32m-> 1323\u001b[0m   \u001b[38;5;28;01mreturn\u001b[39;00m \u001b[38;5;28;43mself\u001b[39;49m\u001b[38;5;241;43m.\u001b[39;49m\u001b[43m_inference_function\u001b[49m\u001b[38;5;241;43m.\u001b[39;49m\u001b[43mcall_preflattened\u001b[49m\u001b[43m(\u001b[49m\u001b[43margs\u001b[49m\u001b[43m)\u001b[49m\n\u001b[1;32m   1324\u001b[0m forward_backward \u001b[38;5;241m=\u001b[39m \u001b[38;5;28mself\u001b[39m\u001b[38;5;241m.\u001b[39m_select_forward_and_backward_functions(\n\u001b[1;32m   1325\u001b[0m     args,\n\u001b[1;32m   1326\u001b[0m     possible_gradient_type,\n\u001b[1;32m   1327\u001b[0m     executing_eagerly)\n\u001b[1;32m   1328\u001b[0m forward_function, args_with_tangents \u001b[38;5;241m=\u001b[39m forward_backward\u001b[38;5;241m.\u001b[39mforward()\n",
      "File \u001b[0;32m~/miniconda3/envs/transformer/lib/python3.10/site-packages/tensorflow/python/eager/polymorphic_function/atomic_function.py:216\u001b[0m, in \u001b[0;36mAtomicFunction.call_preflattened\u001b[0;34m(self, args)\u001b[0m\n\u001b[1;32m    214\u001b[0m \u001b[38;5;28;01mdef\u001b[39;00m \u001b[38;5;21mcall_preflattened\u001b[39m(\u001b[38;5;28mself\u001b[39m, args: Sequence[core\u001b[38;5;241m.\u001b[39mTensor]) \u001b[38;5;241m-\u001b[39m\u001b[38;5;241m>\u001b[39m Any:\n\u001b[1;32m    215\u001b[0m \u001b[38;5;250m  \u001b[39m\u001b[38;5;124;03m\"\"\"Calls with flattened tensor inputs and returns the structured output.\"\"\"\u001b[39;00m\n\u001b[0;32m--> 216\u001b[0m   flat_outputs \u001b[38;5;241m=\u001b[39m \u001b[38;5;28;43mself\u001b[39;49m\u001b[38;5;241;43m.\u001b[39;49m\u001b[43mcall_flat\u001b[49m\u001b[43m(\u001b[49m\u001b[38;5;241;43m*\u001b[39;49m\u001b[43margs\u001b[49m\u001b[43m)\u001b[49m\n\u001b[1;32m    217\u001b[0m   \u001b[38;5;28;01mreturn\u001b[39;00m \u001b[38;5;28mself\u001b[39m\u001b[38;5;241m.\u001b[39mfunction_type\u001b[38;5;241m.\u001b[39mpack_output(flat_outputs)\n",
      "File \u001b[0;32m~/miniconda3/envs/transformer/lib/python3.10/site-packages/tensorflow/python/eager/polymorphic_function/atomic_function.py:251\u001b[0m, in \u001b[0;36mAtomicFunction.call_flat\u001b[0;34m(self, *args)\u001b[0m\n\u001b[1;32m    249\u001b[0m \u001b[38;5;28;01mwith\u001b[39;00m record\u001b[38;5;241m.\u001b[39mstop_recording():\n\u001b[1;32m    250\u001b[0m   \u001b[38;5;28;01mif\u001b[39;00m \u001b[38;5;28mself\u001b[39m\u001b[38;5;241m.\u001b[39m_bound_context\u001b[38;5;241m.\u001b[39mexecuting_eagerly():\n\u001b[0;32m--> 251\u001b[0m     outputs \u001b[38;5;241m=\u001b[39m \u001b[38;5;28;43mself\u001b[39;49m\u001b[38;5;241;43m.\u001b[39;49m\u001b[43m_bound_context\u001b[49m\u001b[38;5;241;43m.\u001b[39;49m\u001b[43mcall_function\u001b[49m\u001b[43m(\u001b[49m\n\u001b[1;32m    252\u001b[0m \u001b[43m        \u001b[49m\u001b[38;5;28;43mself\u001b[39;49m\u001b[38;5;241;43m.\u001b[39;49m\u001b[43mname\u001b[49m\u001b[43m,\u001b[49m\n\u001b[1;32m    253\u001b[0m \u001b[43m        \u001b[49m\u001b[38;5;28;43mlist\u001b[39;49m\u001b[43m(\u001b[49m\u001b[43margs\u001b[49m\u001b[43m)\u001b[49m\u001b[43m,\u001b[49m\n\u001b[1;32m    254\u001b[0m \u001b[43m        \u001b[49m\u001b[38;5;28;43mlen\u001b[39;49m\u001b[43m(\u001b[49m\u001b[38;5;28;43mself\u001b[39;49m\u001b[38;5;241;43m.\u001b[39;49m\u001b[43mfunction_type\u001b[49m\u001b[38;5;241;43m.\u001b[39;49m\u001b[43mflat_outputs\u001b[49m\u001b[43m)\u001b[49m\u001b[43m,\u001b[49m\n\u001b[1;32m    255\u001b[0m \u001b[43m    \u001b[49m\u001b[43m)\u001b[49m\n\u001b[1;32m    256\u001b[0m   \u001b[38;5;28;01melse\u001b[39;00m:\n\u001b[1;32m    257\u001b[0m     outputs \u001b[38;5;241m=\u001b[39m make_call_op_in_graph(\n\u001b[1;32m    258\u001b[0m         \u001b[38;5;28mself\u001b[39m,\n\u001b[1;32m    259\u001b[0m         \u001b[38;5;28mlist\u001b[39m(args),\n\u001b[1;32m    260\u001b[0m         \u001b[38;5;28mself\u001b[39m\u001b[38;5;241m.\u001b[39m_bound_context\u001b[38;5;241m.\u001b[39mfunction_call_options\u001b[38;5;241m.\u001b[39mas_attrs(),\n\u001b[1;32m    261\u001b[0m     )\n",
      "File \u001b[0;32m~/miniconda3/envs/transformer/lib/python3.10/site-packages/tensorflow/python/eager/context.py:1486\u001b[0m, in \u001b[0;36mContext.call_function\u001b[0;34m(self, name, tensor_inputs, num_outputs)\u001b[0m\n\u001b[1;32m   1484\u001b[0m cancellation_context \u001b[38;5;241m=\u001b[39m cancellation\u001b[38;5;241m.\u001b[39mcontext()\n\u001b[1;32m   1485\u001b[0m \u001b[38;5;28;01mif\u001b[39;00m cancellation_context \u001b[38;5;129;01mis\u001b[39;00m \u001b[38;5;28;01mNone\u001b[39;00m:\n\u001b[0;32m-> 1486\u001b[0m   outputs \u001b[38;5;241m=\u001b[39m \u001b[43mexecute\u001b[49m\u001b[38;5;241;43m.\u001b[39;49m\u001b[43mexecute\u001b[49m\u001b[43m(\u001b[49m\n\u001b[1;32m   1487\u001b[0m \u001b[43m      \u001b[49m\u001b[43mname\u001b[49m\u001b[38;5;241;43m.\u001b[39;49m\u001b[43mdecode\u001b[49m\u001b[43m(\u001b[49m\u001b[38;5;124;43m\"\u001b[39;49m\u001b[38;5;124;43mutf-8\u001b[39;49m\u001b[38;5;124;43m\"\u001b[39;49m\u001b[43m)\u001b[49m\u001b[43m,\u001b[49m\n\u001b[1;32m   1488\u001b[0m \u001b[43m      \u001b[49m\u001b[43mnum_outputs\u001b[49m\u001b[38;5;241;43m=\u001b[39;49m\u001b[43mnum_outputs\u001b[49m\u001b[43m,\u001b[49m\n\u001b[1;32m   1489\u001b[0m \u001b[43m      \u001b[49m\u001b[43minputs\u001b[49m\u001b[38;5;241;43m=\u001b[39;49m\u001b[43mtensor_inputs\u001b[49m\u001b[43m,\u001b[49m\n\u001b[1;32m   1490\u001b[0m \u001b[43m      \u001b[49m\u001b[43mattrs\u001b[49m\u001b[38;5;241;43m=\u001b[39;49m\u001b[43mattrs\u001b[49m\u001b[43m,\u001b[49m\n\u001b[1;32m   1491\u001b[0m \u001b[43m      \u001b[49m\u001b[43mctx\u001b[49m\u001b[38;5;241;43m=\u001b[39;49m\u001b[38;5;28;43mself\u001b[39;49m\u001b[43m,\u001b[49m\n\u001b[1;32m   1492\u001b[0m \u001b[43m  \u001b[49m\u001b[43m)\u001b[49m\n\u001b[1;32m   1493\u001b[0m \u001b[38;5;28;01melse\u001b[39;00m:\n\u001b[1;32m   1494\u001b[0m   outputs \u001b[38;5;241m=\u001b[39m execute\u001b[38;5;241m.\u001b[39mexecute_with_cancellation(\n\u001b[1;32m   1495\u001b[0m       name\u001b[38;5;241m.\u001b[39mdecode(\u001b[38;5;124m\"\u001b[39m\u001b[38;5;124mutf-8\u001b[39m\u001b[38;5;124m\"\u001b[39m),\n\u001b[1;32m   1496\u001b[0m       num_outputs\u001b[38;5;241m=\u001b[39mnum_outputs,\n\u001b[0;32m   (...)\u001b[0m\n\u001b[1;32m   1500\u001b[0m       cancellation_manager\u001b[38;5;241m=\u001b[39mcancellation_context,\n\u001b[1;32m   1501\u001b[0m   )\n",
      "File \u001b[0;32m~/miniconda3/envs/transformer/lib/python3.10/site-packages/tensorflow/python/eager/execute.py:53\u001b[0m, in \u001b[0;36mquick_execute\u001b[0;34m(op_name, num_outputs, inputs, attrs, ctx, name)\u001b[0m\n\u001b[1;32m     51\u001b[0m \u001b[38;5;28;01mtry\u001b[39;00m:\n\u001b[1;32m     52\u001b[0m   ctx\u001b[38;5;241m.\u001b[39mensure_initialized()\n\u001b[0;32m---> 53\u001b[0m   tensors \u001b[38;5;241m=\u001b[39m \u001b[43mpywrap_tfe\u001b[49m\u001b[38;5;241;43m.\u001b[39;49m\u001b[43mTFE_Py_Execute\u001b[49m\u001b[43m(\u001b[49m\u001b[43mctx\u001b[49m\u001b[38;5;241;43m.\u001b[39;49m\u001b[43m_handle\u001b[49m\u001b[43m,\u001b[49m\u001b[43m \u001b[49m\u001b[43mdevice_name\u001b[49m\u001b[43m,\u001b[49m\u001b[43m \u001b[49m\u001b[43mop_name\u001b[49m\u001b[43m,\u001b[49m\n\u001b[1;32m     54\u001b[0m \u001b[43m                                      \u001b[49m\u001b[43minputs\u001b[49m\u001b[43m,\u001b[49m\u001b[43m \u001b[49m\u001b[43mattrs\u001b[49m\u001b[43m,\u001b[49m\u001b[43m \u001b[49m\u001b[43mnum_outputs\u001b[49m\u001b[43m)\u001b[49m\n\u001b[1;32m     55\u001b[0m \u001b[38;5;28;01mexcept\u001b[39;00m core\u001b[38;5;241m.\u001b[39m_NotOkStatusException \u001b[38;5;28;01mas\u001b[39;00m e:\n\u001b[1;32m     56\u001b[0m   \u001b[38;5;28;01mif\u001b[39;00m name \u001b[38;5;129;01mis\u001b[39;00m \u001b[38;5;129;01mnot\u001b[39;00m \u001b[38;5;28;01mNone\u001b[39;00m:\n",
      "\u001b[0;31mKeyboardInterrupt\u001b[0m: "
     ]
    }
   ],
   "source": [
    "transformer.compile(\n",
    "    optimizer=\"rmsprop\",\n",
    "    loss=\"sparse_categorical_crossentropy\",\n",
    "    metrics=[\"accuracy\"])\n",
    "\n",
    "EPOCHS = 1000\n",
    "checkpoint_filepath = '../checkpoints/model/'\n",
    "callbacks_list = [\n",
    "    tf.keras.callbacks.ReduceLROnPlateau(\n",
    "        monitor='val_loss',\n",
    "        factor=0.1,\n",
    "        patience=3,\n",
    "    ),\n",
    "    tf.keras.callbacks.EarlyStopping(\n",
    "        monitor='val_loss',\n",
    "        patience=10,\n",
    "    ),\n",
    "    tf.keras.callbacks.ModelCheckpoint(\n",
    "        filepath=checkpoint_filepath,\n",
    "        save_weights_only=True,\n",
    "        monitor='val_loss',\n",
    "        mode='min',\n",
    "        save_best_only=True\n",
    "    )\n",
    "]\n",
    "    \n",
    "transformer.fit(train_ds, \n",
    "                epochs=EPOCHS, \n",
    "                callbacks=callbacks_list,\n",
    "                validation_data=val_ds)"
   ]
  },
  {
   "cell_type": "code",
   "execution_count": null,
   "id": "b12f62d8",
   "metadata": {},
   "outputs": [],
   "source": [
    "transformer.save('../checkpoints/full_model/')"
   ]
  },
  {
   "cell_type": "code",
   "execution_count": 70,
   "id": "6342f011",
   "metadata": {},
   "outputs": [],
   "source": [
    "transformer = tf.keras.models.load_model('../checkpoints/model/')"
   ]
  },
  {
   "attachments": {},
   "cell_type": "markdown",
   "id": "ea6ae7fd",
   "metadata": {
    "papermill": {
     "duration": 2.824481,
     "end_time": "2023-03-11T22:49:42.234058",
     "exception": false,
     "start_time": "2023-03-11T22:49:39.409577",
     "status": "completed"
    },
    "tags": []
   },
   "source": [
    "# Testing"
   ]
  },
  {
   "cell_type": "code",
   "execution_count": 37,
   "id": "04caed60",
   "metadata": {},
   "outputs": [
    {
     "data": {
      "text/plain": [
       "'[start] i go tomorrow to a movie [UNK] [end]'"
      ]
     },
     "execution_count": 37,
     "metadata": {},
     "output_type": "execute_result"
    }
   ],
   "source": [
    "decode_sequence('Idę jutro do kina na film o ptakach')"
   ]
  },
  {
   "cell_type": "code",
   "execution_count": 39,
   "id": "393914b1",
   "metadata": {},
   "outputs": [
    {
     "data": {
      "text/plain": [
       "'[start] translation is working very [UNK] [end]'"
      ]
     },
     "execution_count": 39,
     "metadata": {},
     "output_type": "execute_result"
    }
   ],
   "source": [
    "decode_sequence('Tłumaczenie działa bardzo fajnie')"
   ]
  },
  {
   "cell_type": "code",
   "execution_count": 38,
   "id": "0e7a4264",
   "metadata": {
    "execution": {
     "iopub.execute_input": "2023-03-11T22:49:53.787024Z",
     "iopub.status.busy": "2023-03-11T22:49:53.786670Z",
     "iopub.status.idle": "2023-03-11T22:50:13.522173Z",
     "shell.execute_reply": "2023-03-11T22:50:13.520854Z"
    },
    "papermill": {
     "duration": 22.5185,
     "end_time": "2023-03-11T22:50:13.524481",
     "exception": false,
     "start_time": "2023-03-11T22:49:51.005981",
     "status": "completed"
    },
    "tags": []
   },
   "outputs": [
    {
     "name": "stdout",
     "output_type": "stream",
     "text": [
      "Przestrzeń wolności szersza koncepcja wolności Szersza koncepcja wolności zawarta w traktacie z Amsterdamu ma na celu nadanie upustu * wolności: znaczenia wykraczającego poza swobodny przepływ osób przez granice wewnętrzne.\n",
      "[start] area of freedom broader concept of freedom a broader concept of freedom in the treaty of [UNK] is designed to give [UNK] freedom of meaning to [UNK] beyond the free\n",
      "\n",
      "• Brak informacji (kod NI w OWNERS)\n",
      "[start] • lack of information code ni in [UNK] [end]\n",
      "\n",
      "Wygląd fizyczny Płeć Mężczyzna Rank Ocdt Baza Esquimalt Element Armii\n",
      "[start] physical appearance gender male [UNK] [UNK] [UNK] element element of the army [end]\n",
      "\n",
      "(Wykres organizacyjny projektu) Załącznik II:\n",
      "[start] project organizational chart appendix ii [end]\n",
      "\n",
      "Biuro Międzynarodowe stwierdziło, że zamiast \"kraju\" lub \"terytorium\" użyto słów \"państwa członkowskie\", tak jak we wspólnym zaleceniu w sprawie znakowanych znaków towarowych, a w przyszłości można je zmienić na \"Umawiającą się Stronę\", jeżeli SCT podejmie decyzję o przyjęciu tych przepisów w formie traktatu.\n",
      "[start] the international bureau stated that instead of a country or territory of [UNK] the words member states as in the common recommendation on the [UNK] of marks and in the\n",
      "\n",
      "Cele Kanady zostały opracowane po szeroko zakrojonych dwuletnich konsultacjach z rządami prowincji oraz całym sektorem rolnym i spożywczym.\n",
      "[start] canada’s objectives were developed after extensive [UNK] consultations with provincial governments and the entire agriculture and agrifood sector [end]\n",
      "\n",
      "Sześć jasnych dni po zatwierdzeniu wyników (tj. siódmego dnia, o ile nie dokonano ponownego przeliczenia), powracający oficer wypełnia formularz wydrukowany na odwrocie pisma, znany jako \"powrót pisma\" - oficjalne oświadczenie wyboru kandydata, który uzyskał największą liczbę głosów.\n",
      "[start] six clear days after approval of the results ie [UNK] of the day unless no [UNK] is made the returning officer shall complete the form printed on the [UNK] of\n",
      "\n",
      "Wielu pracodawców szuka kandydatów, którzy znają się na komputerze.\n",
      "[start] many employers look for candidates who know on a computer [end]\n",
      "\n",
      "17 posiadaczy licencji morskich otrzyma 1,230t, a obecna przybrzeżna flota krewetek otrzyma 11,070t tego wzrostu.\n",
      "[start] 17 marine licence holders will receive [UNK] and the current inshore shrimp fleet will receive the [UNK] of this increase [end]\n",
      "\n",
      "Więcej informacji o Vision 2010 można znaleźć na stronie www.tc.gc.ca / roadsafety / vision / 2010 / en / menu.htm Lotnictwo cywilne, lot 2005 Wdrożenie planu lotu 2005: Ramy bezpieczeństwa lotnictwa cywilnego dla Kanady przyniosły dwa kluczowe sukcesy: dalszą poprawę wysokiego poziomu bezpieczeństwa lotniczego w Kanadzie oraz wysoki poziom zaufania społeczeństwa do naszego programu lotnictwa cywilnego.\n",
      "[start] for more information about vision 2010 please visit [UNK] [UNK] vision 2010 en [UNK] [UNK] civil flight 2005 implementation of the 2005 flight plan the civil aviation safety framework for\n",
      "\n",
      "Ocena bada również niezamierzone wyniki.\n",
      "[start] the evaluation also explores unintended results [end]\n",
      "\n",
      "Pomoc techniczna w zakresie pomocy technicznej jest kolejnym ważnym instrumentem MFW służącym wspieraniu państw członkowskich.\n",
      "[start] technical assistance in technical assistance is another important instrument of the imf to support member states [end]\n",
      "\n",
      "W WT / WGTI / W / 108 rozesłano uwagę sekretariatu na ten temat.\n",
      "[start] in [UNK] i had made the attention of the secretariat on this subject [end]\n",
      "\n",
      "Kopalnia TAP zapewni studentom modernizację wymaganą do pisania egzaminów wstępnych dla zawodów i szkoleń, które są specyficzne dla przemysłu górniczego, jak również kursów na temat bezpieczeństwa, pierwszej pomocy, towarów niebezpiecznych, pracy zmianowej rotacji i pracy w odległych obszarach.\n",
      "[start] [UNK] will provide students with the modernization required to write preliminary examinations for occupations and training that are specific to the [UNK] industry as well as courses on the safety\n",
      "\n",
      "Jednocześnie chcieli podziękować dyrektorowi generalnemu i Sekretariatowi za przygotowanie prac.\n",
      "[start] at the same time they wanted to thank the director general and the secretariat for preparing the work [end]\n",
      "\n",
      "Adresy Internetu\n",
      "[start] internet addresses [end]\n",
      "\n",
      "Nasze cele w zakresie ekologicznych zamówień publicznych na lata 2008-2009 przyczynią się do osiągnięcia celów środowiskowych poprzez:\n",
      "[start] our ecological procurement objectives for 200809 will contribute to the achievement of environmental objectives by [end]\n",
      "\n",
      "Uważamy jednak, że pytania te powinny być przedmiotem dalszych rozważań i konsultacji ze strony ICANN w celu znalezienia odpowiedniego rozwiązania, zwłaszcza przed wprowadzeniem jakichkolwiek nowych gTLD, które mogłyby łączyć istniejące problemy.\n",
      "[start] however we believe that these questions should be subject to further consideration and consultations on the part of the [UNK] to find an appropriate solution especially before any new [UNK]\n",
      "\n",
      "Nie ma wątpliwości, że nasz system opieki zdrowotnej kosztuje.\n",
      "[start] there is no doubt that our health care system costs [end]\n",
      "\n",
      "\"Politycznie, to sprawa o wysokim profilu, dlatego wszyscy wskoczyli na pokład.\n",
      "[start] politically is a high profile matter therefore all of you have on deck [end]\n",
      "\n",
      "Zauważono, że linie lotnicze miały opcje, ale zdecydowały się nie korzystać z nich.\n",
      "[start] it was noted that airlines had options but they would not have been [UNK] to use them [end]\n",
      "\n",
      "Whole Foods Market - drugi co do wielkości sprzedawca żywności naturalnej w Stanach Zjednoczonych, z siedzibą w Austin, Texas - doświadczył 21% wzrostu sprzedaży w 2001 roku, blisko 3,6 miliarda dolarów.\n",
      "[start] whole foods market the second largest natural food vendor in the united states based at austin texas experienced 21 per cent increase in sales in 2001 close to 36 billion\n",
      "\n",
      "Oficjalna polityka językowa, dyrektywy i zarządzenia.\n",
      "[start] official languages policy directives and orders [end]\n",
      "\n",
      "Pomiary przeprowadzono w taki sposób, aby można było określić kąt otwarcia pary.\n",
      "[start] measurements were carried out in such a way that the [UNK] opening of the vapour could be determined [end]\n",
      "\n",
      "W 1992 r. Kanadyjska Rada Ministrów Środowiska (CCME) opublikowała krajowy plan działania na rzecz odzysku, recyklingu i regeneracji chlorofluorowęglowodorów.\n",
      "[start] in 1992 the canadian council of ministers of the environment [UNK] published a national action plan for recovery recycling and [UNK] [end]\n",
      "\n",
      "Fakt, że działalność organu może również przynosić korzyści swoim członkom, nie stanowi fatalnego sprzeciwu wobec uznania ich za przynoszące korzyści opinii publicznej.\n",
      "[start] the fact that the activities of the body may also benefit its members does not constitute an objection to the discretion of them as a [UNK] of the benefit of\n",
      "\n",
      "Począwszy od grudnia 2004 r., stosunek personelu / zastosowań międzynarodowych uwzględnia usługę tłumaczeń PCT.\n",
      "[start] starting in december 2004 the staff relationship of international applications takes into account the pct translation service [end]\n",
      "\n",
      "Została ona zapisana w prawie kanadyjskim jako prawo konstytucyjne i chroniona w statucie federalnym i prowincjonalnym.\n",
      "[start] it has been [UNK] in canadian law as a constitutional and protected right in federal and provincial statutes [end]\n",
      "\n",
      "Kemunto mówi, że chociaż jej firma przynosi wystarczająco dużo pieniędzy, aby wyżywić ją i jej syna, nadal bierze udział w pracy grupy, ponieważ ostatecznie ubóstwo czyni wszystkie kobiety równymi.\n",
      "[start] [UNK] says while her company brings enough money to [UNK] it and her [UNK] continues to take part in the work of the group because ultimately poverty makes all women\n",
      "\n",
      "Tematy te są odzwierciedleniem ważnego miejsca, w którym łowiska rekreacyjne zajmują się tkanką gospodarczą i społeczną kraju.\n",
      "[start] these themes reflect an important place where recreational fisheries are involved in the countrys economic and social [UNK] [end]\n",
      "\n",
      "Promowanie kanadyjskiej kultury i wartości Rząd zainwestuje w środki mające na celu wzmocnienie i promowanie kanadyjskiej kultury i wartości, w tym:\n",
      "[start] promoting canadian culture and values the government has invested in measures to strengthen and promote canadian culture and values including [end]\n",
      "\n",
      "Przywożone produkty żywnościowe nie zawsze są poddawane kontroli w miejscu wprowadzenia, ale podlegają w dowolnym momencie pobieraniu próbek przez właściwe organy, zarówno na poziomie detalicznym, jak i hurtowym oraz w punkcie wejścia.\n",
      "[start] imported food products are not always subject to control at the place of entry but are subject to sampling at any time by competent authorities at both the retail and\n",
      "\n",
      "Źródłem tego zainteresowania był pierwszy Congrès Mondial Acadien.\n",
      "[start] the [UNK] of this concern was the first congrès mondial acadien [end]\n",
      "\n",
      "Innymi słowy, wniosek jest wypełniany, gdy:\n",
      "[start] in other words the application is [UNK] when [end]\n",
      "\n",
      "Być może największą potrzebą są Indie, które już produkują mniej energii elektrycznej niż zużywa.\n",
      "[start] perhaps the largest need is india that already produces less electricity than [UNK] [end]\n",
      "\n",
      "SCP / 10 / 11 Załącznik, str. 6 FÉDÉRATION DE RUSSIE / RUSSIAN FEDERATION Nikolay BOGDANOV, zastępca dyrektora generalnego, Rosyjska Agencja Patentów i Znaków Towarowych (ROSPATENT), Moskwa < nik _ bog @ rambler.ru > Evgeny POLISHCHUK, Consultant, Federalny Instytut Własności Przemysłowej, Rosyjska Agencja Patentów i Znaków Towarowych (ROSPATENT), Moskwa < epoli @ pol.ru > FINLANDIA / FINLANDIA Marjo AALTO- SETÄLÄ (Pani), Koordynator, Sprawy Międzynarodowe, Krajowa Rada Patentów i Rejestracji, Helsinki < marjo.aalto- setala @ prh.fi > Riitta LARJA (Pani), Koordynator, Sprawy Międzynarodowe i Prawne, Krajowa Rada Patentów i Rejestracji, Helsinki < riitta.larja @ prh.fi > FRANCE Pascal DUMAS DE RAULY, chef, Service du droit international, Institut national de la propriété industrielle (INPI), Paris < pdumasderauly @ inpi.fr > Jean- François LEBESNERAIS, chargé de mission, Département des brevets, Institut national de la propriété industrielle (INPI), Paris < jlebesnerais @ inpi.fr > Michèle WELL- GUTHMANN (Mme), conseillère juridique, Mission permanente, Genève < mission.france @ ties.itu.int > GRÈCE / GRECJA Myrto LAMBROU (Pani), Advisor Advisor, Industrial Property Organization (OBI), Athens < mlab @ obi.gr >\n",
      "[start] [UNK] annex page 6 [UNK] de [UNK] [UNK] federation [UNK] [UNK] deputy director general russian agency for patents and trademarks [UNK] [UNK] [UNK] [UNK] [UNK] [UNK] [UNK] [UNK] [UNK] [UNK]\n",
      "\n",
      "• Na światowym rynku, reklama, która została utworzona dla rynków USA lub UE może stać się nieodpowiednia, jeśli kanadyjskie standardy przekraczają \"międzynarodowe\" standardy.\n",
      "[start] • in the world market advertising which has been created for us or eu markets may become [UNK] if canadian standards exceed international standards [end]\n",
      "\n",
      "Definicje Gospodarstwo domowe Gospodarstwo domowe składa się ze wszystkich ludzi, którzy mieszkają w tym samym miejscu zamieszkania.\n",
      "[start] definitions household a household is comprised of all people who live in the same residence [end]\n",
      "\n",
      "Strona kwestionująca arbitra wysyła do Centrum, Sądu i drugiej strony zawiadomienie, podając powody odwołania, w terminie siedmiu dni od powiadomienia o powołaniu arbitra lub po zapoznaniu się z okolicznościami, które uważa za uzasadnione wątpliwości co do bezstronności lub niezależności arbitra.\n",
      "[start] the [UNK] party shall send notice to the center of the court and the other party to the tribunal by giving reasons for the appeal within seven days of notification\n",
      "\n",
      "• Pomoc techniczna na rzecz rozwoju wody w gospodarstwie rolnym;\n",
      "[start] • technical assistance for onfarm water development [end]\n",
      "\n",
      "Informacje zawarte w niniejszym sprawozdaniu przeznaczone są dla wielu zainteresowanych stron w celu zapewnienia przejrzystości i odpowiedzialności publicznej w działaniach rządu w zakresie zaciągania pożyczek i zarządzania środkami pieniężnymi.\n",
      "[start] information in this report is intended for a wide range of stakeholders to ensure transparency and public accountability in government [UNK] and cash management activities [end]\n",
      "\n",
      "Rybołówstwo i Oceany Kanada www.dfo- mpo.gc.ca Pomiń do treści 124; Pomiń do linków instytucjonalnych Wspólne linki do menu Français Strona główna Kontakt Pomoc Szukaj canada.gc.ca Strona główna > Media Pokój > Aktualności 2008 Linki instytucjonalne MEDIA SYPIAL Aktualności Wyrzuty Opłaty i wyroki Backgrounders Oświadczenia ministerialne E- Aktualności Kontakty Infocus Archives RSS Aktualności Pasz Proaktywne ujawnianie Proaktywne ujawnianie Minister Hearn ogłasza federalne inwestycje w Newfoundland i Labrador Wspólnoty Przybrzeżne Lipiec 1, 2008\n",
      "[start] fisheries and oceans canada wwwdfompogcca skip to content skip to institutional links common menu bar links français home contact us help search canadagcca home media room news releases 2003 institutional\n",
      "\n",
      "Badenia-Wirtembergia, Bayern, Berlin, Brandenburg, Brema, Hamburg, Hesja, Mecklenburg-Vorpommern, Niedersachsen, Nordrhein-Westfalen, Rheinland- Pfalz, Saarland, Sachsen, Sachsen- Anhalt, Schleswig- Holstein, Thüringen.\n",
      "[start] [UNK] [UNK] berlin [UNK] [UNK] [UNK] [UNK] [UNK] [UNK] [UNK] [UNK] [UNK] [UNK] [UNK] [UNK] [UNK] [UNK] [UNK] [UNK] [end]\n",
      "\n",
      "• Zbadanie sposobów ułatwienia studentom z Kanady i tymczasowym pracownikom zagranicznym przebywania w Kanadzie i stawania się obywatelami Kanady.\n",
      "[start] • examine ways to facilitate students from canada and temporary foreign workers in canada and will become canadian citizens [end]\n",
      "\n",
      "Nie muszą to być przedsiębiorstwa z krajów innych niż te, w których znajdują się społeczności.\n",
      "[start] it does not have to be enterprises from countries other than those in which they are located communities [end]\n",
      "\n",
      "Chociaż nie tak szeroko badane, dieta pourodzeniowa wpływa również na rozwój endokrynologicznych i immunologicznych funkcji jelitowych i ma złożony, słabo rozumiany interakcja z rozwijającą się mikroflorą.\n",
      "[start] although not so widely examined [UNK] diet also affects the development of [UNK] and [UNK] of [UNK] functions and has complex [UNK] understood interaction with developing [UNK] [end]\n",
      "\n",
      "Szacuje się, że środki te zmniejszą dochody federalne o 10 milionów dolarów w 2007 r. i 20 milionów dolarów w 2008 r.\n",
      "[start] it is estimated that these measures will reduce federal revenues by 10 million in 2007 and 20 million in 2008 [end]\n",
      "\n",
      "Informacje uzyskane w ramach programu kosmetycznego uznaje się za poufne i będą one omawiane wyłącznie z przedsiębiorstwem (producentem lub dystrybutorem), które je przedłożyło.\n",
      "[start] information obtained under the [UNK] program is considered to be confidential and will be discussed only with the company manufacturer or distributor that will be given to them [end]\n",
      "\n",
      "Rozporządzenie Parlamentu Europejskiego i Rady (UE, Euratom) nr 966 / 2012 z dnia 25 października 2012 r. w sprawie zasad finansowych mających zastosowanie do budżetu ogólnego Unii oraz uchylające rozporządzenie Rady (WE, Euratom) nr 1605 / 2002 (Dz.U. L 298 z 26.10.2012, s. 1).\n",
      "[start] regulation of the european parliament and of the eu council [UNK] no [UNK] of 25 october 2012 on financial principles applicable to the general budget of the union and [UNK]\n",
      "\n",
      "Chodzi o aktywny udział i uczenie się o sobie nawzajem, i o to, jak współpracować, by stworzyć silną i spójną Kanadę.\n",
      "[start] it is about active participation and learning about each other and how to work together to create a strong and coherent canada [end]\n",
      "\n"
     ]
    }
   ],
   "source": [
    "target_vocab = target_vectorization.get_vocabulary()\n",
    "target_index_lookup = dict(zip(range(len(target_vocab)), target_vocab))\n",
    "max_decoded_sentence_length = 30\n",
    "\n",
    "def decode_sequence(input_sentence):\n",
    "    tokenized_input_sentence = source_vectorization([input_sentence])\n",
    "    decoded_sentence = \"[start]\"\n",
    "    for i in range(max_decoded_sentence_length):\n",
    "        tokenized_target_sentence = target_vectorization(\n",
    "            [decoded_sentence])[:, :-1]\n",
    "        predictions = transformer(\n",
    "            {'source': tokenized_input_sentence, 'target': tokenized_target_sentence})\n",
    "        sampled_token_index = np.argmax(predictions[0, i, :])\n",
    "        sampled_token = target_index_lookup[sampled_token_index]\n",
    "        decoded_sentence += \" \" + sampled_token\n",
    "        if sampled_token == \"[end]\":\n",
    "            break\n",
    "    return decoded_sentence\n",
    "\n",
    "# let's translate 50 random sentences\n",
    "for i in range(50):\n",
    "    random_index = np.random.randint(0, len(test_df))\n",
    "    input_sentence = test_df[\"source\"].iloc[random_index]\n",
    "    print(input_sentence)\n",
    "    print(decode_sequence(input_sentence))\n",
    "    print()"
   ]
  }
 ],
 "metadata": {
  "kernelspec": {
   "display_name": "Python 3",
   "language": "python",
   "name": "python3"
  },
  "language_info": {
   "codemirror_mode": {
    "name": "ipython",
    "version": 3
   },
   "file_extension": ".py",
   "mimetype": "text/x-python",
   "name": "python",
   "nbconvert_exporter": "python",
   "pygments_lexer": "ipython3",
   "version": "3.10.9"
  },
  "papermill": {
   "default_parameters": {},
   "duration": 5693.346436,
   "end_time": "2023-03-11T22:50:26.592976",
   "environment_variables": {},
   "exception": null,
   "input_path": "__notebook__.ipynb",
   "output_path": "__notebook__.ipynb",
   "parameters": {},
   "start_time": "2023-03-11T21:15:33.246540",
   "version": "2.4.0"
  }
 },
 "nbformat": 4,
 "nbformat_minor": 5
}
